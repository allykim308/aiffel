데이터 읽어오기:
glob 를 활용하여 모든 txt 파일을 읽어온 후, raw_corpus 리스트에 문장 단위로 저장.

import glob
import os, re 
import numpy as np
import tensorflow as tf
​
txt_file_path = os.getenv('HOME')+'/aiffel/lyricist/data/lyrics/*'
txt_list = glob.glob(txt_file_path)
​
raw_corpus = []
​
# 여러개의 txt 파일을 모두 읽어서 raw_corpus 에 담습니다.
for txt_file in txt_list:
    with open(txt_file, "r") as f:
        raw = f.read().splitlines()
        raw_corpus.extend(raw)
​
print("데이터 크기:", len(raw_corpus))
print("Examples:\n", raw_corpus[:3])
데이터 크기: 187088
Examples:
 ["Now I've heard there was a secret chord", 'That David played, and it pleased the Lord', "But you don't really care for music, do you?"]
데이터 정제:
preprocess_sentence() 함수를 활용해 데이터를 정제. 추가로 지나치게 긴 문장은 다른 데이터들이 과도한 Padding을 갖게 하므로 제거.

for idx, sentence in enumerate(raw_corpus):    
    if len(sentence) == 0: continue   # 길이가 0인 문장은 건너뜁니다.
    if sentence[-1] == ":": continue  # 문장의 끝이 : 인 문장은 건너뜁니다.
    if idx > 9: break   # 일단 문장 10개만 확인해 볼 겁니다.
        
    print(sentence)
Now I've heard there was a secret chord
That David played, and it pleased the Lord
But you don't really care for music, do you?
It goes like this
The fourth, the fifth
The minor fall, the major lift
The baffled king composing Hallelujah Hallelujah
Hallelujah
Hallelujah
Hallelujah Your faith was strong but you needed proof
특수문자 제거하기
def preprocess_sentence(sentence):
    sentence = sentence.lower().strip() # 1
    sentence = re.sub(r"([?.!,¿])", r" \1 ", sentence) # 2
    sentence = re.sub(r'[" "]+', " ", sentence) # 3
    sentence = re.sub(r"[^a-zA-Z?.!,¿]+", " ", sentence) # 4
    sentence = sentence.strip() # 5
    sentence = '<start> ' + sentence + ' <end>' # 6
    return sentence
print(preprocess_sentence("This @_is ;;;sample        sentence."))# 이 문장이 어떻게 필터링 되는지 확인
<start> this is sample sentence . <end>
corpus = []  
for sentence in raw_corpus:
    # 우리가 원하지 않는 문장은 건너뜁니다
    if len(sentence) == 0: continue
    if sentence[-1] == ":": continue
    if len(sentence.split()) > 13: 
        continue #토큰의 개수가 15개를 넘어가는 문장을 학습 데이터에서 제외.
​
   # 정제를 하고 담아주세요
    preprocessed_sentence = preprocess_sentence(sentence)
    corpus.append(preprocessed_sentence)
corpus[:10] 
['<start> now i ve heard there was a secret chord <end>',
 '<start> that david played , and it pleased the lord <end>',
 '<start> but you don t really care for music , do you ? <end>',
 '<start> it goes like this <end>',
 '<start> the fourth , the fifth <end>',
 '<start> the minor fall , the major lift <end>',
 '<start> the baffled king composing hallelujah hallelujah <end>',
 '<start> hallelujah <end>',
 '<start> hallelujah <end>',
 '<start> hallelujah your faith was strong but you needed proof <end>']
데이터의 토큰화
​
def tokenize(corpus):
    # 12000단어를 기억할 수 있는 tokenizer를 만들겁니다
    # 우리는 이미 문장을 정제했으니 filters가 필요없어요
    # 12000단어에 포함되지 못한 단어는 '<unk>'로 바꿀거에요
    tokenizer = tf.keras.preprocessing.text.Tokenizer(
        num_words=12000, 
        filters=' ',
        oov_token="<unk>"
    )
    # corpus를 이용해 tokenizer 내부의 단어장을 완성합니다
    tokenizer.fit_on_texts(corpus)
    # 준비한 tokenizer를 이용해 corpus를 Tensor로 변환합니다
    tensor = tokenizer.texts_to_sequences(corpus)   
    # 입력 데이터의 시퀀스 길이를 일정하게 맞춰줍니다
    # 만약 시퀀스가 짧다면 문장 뒤에 패딩을 붙여 길이를 맞춰줍니다.
    # 문장 앞에 패딩을 붙여 길이를 맞추고 싶다면 padding='pre'를 사용합니다
    tensor = tf.keras.preprocessing.sequence.pad_sequences(tensor, padding='post', maxlen = 15)  
    
    print(tensor,tokenizer)
    return tensor, tokenizer
​
tensor, tokenizer = tokenize(corpus) 
[[   2   50    5 ...    0    0    0]
 [   2   17 2924 ...    0    0    0]
 [   2   33    7 ...   44    3    0]
 ...
 [   2  263  192 ...   12    3    0]
 [   5   23    9 ...   10 1098    3]
 [   2    7   34 ...    0    0    0]] <keras_preprocessing.text.Tokenizer object at 0x7fa65cd3c3d0>
for idx in tokenizer.index_word:
    print(idx, ":", tokenizer.index_word[idx])
    
    if idx >= 10: break
1 : <unk>
2 : <start>
3 : <end>
4 : ,
5 : i
6 : the
7 : you
8 : and
9 : a
10 : to
토큰으로 잘 쪼개져서 빈도순으로 순차적으로 저장된 모습을 볼수 있음.

src_input = tensor[:, :-1]  # tensor에서 마지막 토큰을 잘라내서 소스 문장을 생성합니다
tgt_input = tensor[:, 1:]    # tensor에서 <start>를 잘라내서 타겟 문장을 생성합니다.
​
print(src_input[0])
print(tgt_input[0])
[   2   50    5   91  307   62   57    9  950 6472    3    0    0    0]
[  50    5   91  307   62   57    9  950 6472    3    0    0    0    0]
설정한대로 길이를 15개로 맞추어 빈공간은 0으로 padding 하여 줌.

평가 데이터셋 분리
from sklearn.model_selection import train_test_split
enc_train, enc_val, dec_train, dec_val = train_test_split(src_input, 
                                                          tgt_input,
                                                          test_size=0.2,
                                                          shuffle=True, 
                                                          random_state=34)
print('Source Train: ', enc_train.shape)
print('Target Train: ', dec_train.shape)
Source Train:  (130434, 14)
Target Train:  (130434, 14)
from tensorflow.keras.layers import Embedding, LSTM, Dense
인공지능 만들기
#Loss
loss = tf.keras.losses.SparseCategoricalCrossentropy(
    from_logits=True, reduction='none')
2500
class TextGenerator(tf.keras.Model):
    def __init__(self, vocab_size, embedding_size, hidden_size):
        super(TextGenerator, self).__init__()
        
        self.embedding = Embedding(vocab_size, embedding_size)
        self.rnn_1 = LSTM(hidden_size, return_sequences=True)
        self.rnn_2 = LSTM(hidden_size, return_sequences=True)
        self.linear = Dense(vocab_size)
        
    def call(self, x):
        out = self.embedding(x)
        out = self.rnn_1(out)
        out = self.rnn_2(out)
        out = self.linear(out)
        
        return out
    
embedding_size = 1024
hidden_size = 2500
model = TextGenerator(tokenizer.num_words + 1, embedding_size , hidden_size)
history = []
epochs = 10
​
optimizer = tf.keras.optimizers.Adam()
​
loss = tf.keras.losses.SparseCategoricalCrossentropy(
    from_logits=True,
    reduction='none'
)
​
model.compile(loss=loss, optimizer=optimizer)
​
history = model.fit(enc_train, 
          dec_train, 
          epochs=epochs,
          batch_size=512,
          validation_data=(enc_val, dec_val),
          verbose=1)
Epoch 1/10
255/255 [==============================] - 405s 1s/step - loss: 3.4281 - val_loss: 3.0311
Epoch 2/10
255/255 [==============================] - 374s 1s/step - loss: 2.8545 - val_loss: 2.7772
Epoch 3/10
255/255 [==============================] - 374s 1s/step - loss: 2.5639 - val_loss: 2.5987
Epoch 4/10
255/255 [==============================] - 374s 1s/step - loss: 2.2845 - val_loss: 2.4593
Epoch 5/10
255/255 [==============================] - 375s 1s/step - loss: 2.0068 - val_loss: 2.3488
Epoch 6/10
255/255 [==============================] - 375s 1s/step - loss: 1.7359 - val_loss: 2.2634
Epoch 7/10
255/255 [==============================] - 375s 1s/step - loss: 1.4885 - val_loss: 2.2099
Epoch 8/10
255/255 [==============================] - 375s 1s/step - loss: 1.2823 - val_loss: 2.1832
Epoch 9/10
255/255 [==============================] - 375s 1s/step - loss: 1.1280 - val_loss: 2.1778
Epoch 10/10
255/255 [==============================] - 375s 1s/step - loss: 1.0300 - val_loss: 2.1876
볼 수 있습니다.
val_loss 값니 2.2 아래로 떨어진 것을 볼 수 있습니다.
def generate_text(model, tokenizer, init_sentence="<start>", max_len=15):
    # 테스트를 위해서 입력받은 init_sentence도 일단 텐서로 변환합니다.
    test_input = tokenizer.texts_to_sequences([init_sentence])
    test_tensor = tf.convert_to_tensor(test_input, dtype=tf.int64)
    end_token = tokenizer.word_index["<end>"]
​
    # 텍스트를 실제로 생성할때는 루프를 돌면서 단어 하나씩 생성해야 합니다. 
    while True:
        predict = model(test_tensor)  # 입력받은 문장의 텐서를 입력합니다. 
        predict_word = tf.argmax(tf.nn.softmax(predict, axis=-1), axis=-1)[:, -1]   # 우리 모델이 예측한 마지막 단어가 바로 새롭게 생성한 단어가 됩니다. 
​
        # 우리 모델이 새롭게 예측한 단어를 입력 문장의 뒤에 붙여 줍니다. 
        test_tensor = tf.concat([test_tensor, tf.expand_dims(predict_word, axis=0)], axis=-1)
​
        # 우리 모델이 <END>를 예측하지 않았거나, max_len에 도달하지 않았다면  while 루프를 또 돌면서 다음 단어를 예측해야 합니다.
        if predict_word.numpy()[0] == end_token: break
        if test_tensor.shape[1] >= max_len: break
​
    generated = ""
    # 생성된 tensor 안에 있는 word index를 tokenizer.index_word 사전을 통해 실제 단어로 하나씩 변환합니다. 
    for word_index in test_tensor[0].numpy():
        generated += tokenizer.index_word[word_index] + " "
​
    return generated   # 이것이 최종적으로 모델이 생성한 자연어 문장입니다.
generate_text(model, tokenizer, init_sentence="<start> i love", max_len=15)
'<start> i love you , liberian girl , <end> '
