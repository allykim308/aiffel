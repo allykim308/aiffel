{
  "nbformat": 4,
  "nbformat_minor": 0,
  "metadata": {
    "colab": {
      "name": "EX3_houseprice.ipynb",
      "provenance": [],
      "collapsed_sections": []
    },
    "kernelspec": {
      "name": "python3",
      "display_name": "Python 3"
    },
    "language_info": {
      "name": "python"
    }
  },
  "cells": [
    {
      "cell_type": "code",
      "source": [
        "from google.colab import files\n",
        "from google.colab import drive \n",
        "drive.mount('/content/gdrive')"
      ],
      "metadata": {
        "colab": {
          "base_uri": "https://localhost:8080/"
        },
        "id": "qr71fMEZiUDq",
        "outputId": "d24de994-f6d2-4737-f4da-763ad6c63f5b"
      },
      "execution_count": null,
      "outputs": [
        {
          "output_type": "stream",
          "name": "stdout",
          "text": [
            "Drive already mounted at /content/gdrive; to attempt to forcibly remount, call drive.mount(\"/content/gdrive\", force_remount=True).\n"
          ]
        }
      ]
    },
    {
      "cell_type": "code",
      "source": [
        "#필요한 라이브러리 import 하기\n",
        "import warnings\n",
        "warnings.filterwarnings(\"ignore\")\n",
        "\n",
        "import os\n",
        "from os.path import join\n",
        "\n",
        "import pandas as pd\n",
        "import numpy as np\n",
        "\n",
        "import missingno as msno\n",
        "\n",
        "from sklearn.ensemble import GradientBoostingRegressor, RandomForestRegressor\n",
        "from sklearn.model_selection import KFold, cross_val_score\n",
        "from sklearn.model_selection import train_test_split\n",
        "from sklearn.metrics import mean_squared_error\n",
        "import xgboost as xgb\n",
        "import lightgbm as lgb\n",
        "\n",
        "import matplotlib.pyplot as plt\n",
        "import seaborn as sns"
      ],
      "metadata": {
        "id": "9pWw24fTiWnT"
      },
      "execution_count": null,
      "outputs": []
    },
    {
      "cell_type": "code",
      "execution_count": null,
      "metadata": {
        "id": "3DSsNBUeiMb8"
      },
      "outputs": [],
      "source": [
        "#LMS에서 사용할 때 알맞은 파일 경로\n",
        "train_data_path = \"/content/gdrive/MyDrive/Colab Notebooks/ex3/train.csv\"\n",
        "test_data_path = \"/content/gdrive/MyDrive/Colab Notebooks/ex3/test.csv\""
      ]
    },
    {
      "cell_type": "code",
      "source": [
        "#데이터 불러오기\n",
        "train = pd.read_csv(train_data_path)\n",
        "test = pd.read_csv(test_data_path)"
      ],
      "metadata": {
        "id": "Z1-fCvH7igaC"
      },
      "execution_count": null,
      "outputs": []
    },
    {
      "cell_type": "code",
      "source": [
        "train['date'] = train['date'].apply(lambda i: i[:6]).astype(int)\n",
        "train.head()"
      ],
      "metadata": {
        "colab": {
          "base_uri": "https://localhost:8080/",
          "height": 299
        },
        "id": "GcczrhYxjcH0",
        "outputId": "76686027-cd8b-4894-e574-aa3d03aeefce"
      },
      "execution_count": null,
      "outputs": [
        {
          "output_type": "execute_result",
          "data": {
            "text/plain": [
              "   id    date     price  bedrooms  bathrooms  sqft_living  sqft_lot  floors  \\\n",
              "0   0  201410  221900.0         3       1.00         1180      5650     1.0   \n",
              "1   1  201502  180000.0         2       1.00          770     10000     1.0   \n",
              "2   2  201502  510000.0         3       2.00         1680      8080     1.0   \n",
              "3   3  201406  257500.0         3       2.25         1715      6819     2.0   \n",
              "4   4  201501  291850.0         3       1.50         1060      9711     1.0   \n",
              "\n",
              "   waterfront  view  ...  grade  sqft_above  sqft_basement  yr_built  \\\n",
              "0           0     0  ...      7        1180              0      1955   \n",
              "1           0     0  ...      6         770              0      1933   \n",
              "2           0     0  ...      8        1680              0      1987   \n",
              "3           0     0  ...      7        1715              0      1995   \n",
              "4           0     0  ...      7        1060              0      1963   \n",
              "\n",
              "   yr_renovated  zipcode      lat     long  sqft_living15  sqft_lot15  \n",
              "0             0    98178  47.5112 -122.257           1340        5650  \n",
              "1             0    98028  47.7379 -122.233           2720        8062  \n",
              "2             0    98074  47.6168 -122.045           1800        7503  \n",
              "3             0    98003  47.3097 -122.327           2238        6819  \n",
              "4             0    98198  47.4095 -122.315           1650        9711  \n",
              "\n",
              "[5 rows x 21 columns]"
            ],
            "text/html": [
              "\n",
              "  <div id=\"df-dd3ea2ea-9118-4a5b-b71f-aeb24eaddb5d\">\n",
              "    <div class=\"colab-df-container\">\n",
              "      <div>\n",
              "<style scoped>\n",
              "    .dataframe tbody tr th:only-of-type {\n",
              "        vertical-align: middle;\n",
              "    }\n",
              "\n",
              "    .dataframe tbody tr th {\n",
              "        vertical-align: top;\n",
              "    }\n",
              "\n",
              "    .dataframe thead th {\n",
              "        text-align: right;\n",
              "    }\n",
              "</style>\n",
              "<table border=\"1\" class=\"dataframe\">\n",
              "  <thead>\n",
              "    <tr style=\"text-align: right;\">\n",
              "      <th></th>\n",
              "      <th>id</th>\n",
              "      <th>date</th>\n",
              "      <th>price</th>\n",
              "      <th>bedrooms</th>\n",
              "      <th>bathrooms</th>\n",
              "      <th>sqft_living</th>\n",
              "      <th>sqft_lot</th>\n",
              "      <th>floors</th>\n",
              "      <th>waterfront</th>\n",
              "      <th>view</th>\n",
              "      <th>...</th>\n",
              "      <th>grade</th>\n",
              "      <th>sqft_above</th>\n",
              "      <th>sqft_basement</th>\n",
              "      <th>yr_built</th>\n",
              "      <th>yr_renovated</th>\n",
              "      <th>zipcode</th>\n",
              "      <th>lat</th>\n",
              "      <th>long</th>\n",
              "      <th>sqft_living15</th>\n",
              "      <th>sqft_lot15</th>\n",
              "    </tr>\n",
              "  </thead>\n",
              "  <tbody>\n",
              "    <tr>\n",
              "      <th>0</th>\n",
              "      <td>0</td>\n",
              "      <td>201410</td>\n",
              "      <td>221900.0</td>\n",
              "      <td>3</td>\n",
              "      <td>1.00</td>\n",
              "      <td>1180</td>\n",
              "      <td>5650</td>\n",
              "      <td>1.0</td>\n",
              "      <td>0</td>\n",
              "      <td>0</td>\n",
              "      <td>...</td>\n",
              "      <td>7</td>\n",
              "      <td>1180</td>\n",
              "      <td>0</td>\n",
              "      <td>1955</td>\n",
              "      <td>0</td>\n",
              "      <td>98178</td>\n",
              "      <td>47.5112</td>\n",
              "      <td>-122.257</td>\n",
              "      <td>1340</td>\n",
              "      <td>5650</td>\n",
              "    </tr>\n",
              "    <tr>\n",
              "      <th>1</th>\n",
              "      <td>1</td>\n",
              "      <td>201502</td>\n",
              "      <td>180000.0</td>\n",
              "      <td>2</td>\n",
              "      <td>1.00</td>\n",
              "      <td>770</td>\n",
              "      <td>10000</td>\n",
              "      <td>1.0</td>\n",
              "      <td>0</td>\n",
              "      <td>0</td>\n",
              "      <td>...</td>\n",
              "      <td>6</td>\n",
              "      <td>770</td>\n",
              "      <td>0</td>\n",
              "      <td>1933</td>\n",
              "      <td>0</td>\n",
              "      <td>98028</td>\n",
              "      <td>47.7379</td>\n",
              "      <td>-122.233</td>\n",
              "      <td>2720</td>\n",
              "      <td>8062</td>\n",
              "    </tr>\n",
              "    <tr>\n",
              "      <th>2</th>\n",
              "      <td>2</td>\n",
              "      <td>201502</td>\n",
              "      <td>510000.0</td>\n",
              "      <td>3</td>\n",
              "      <td>2.00</td>\n",
              "      <td>1680</td>\n",
              "      <td>8080</td>\n",
              "      <td>1.0</td>\n",
              "      <td>0</td>\n",
              "      <td>0</td>\n",
              "      <td>...</td>\n",
              "      <td>8</td>\n",
              "      <td>1680</td>\n",
              "      <td>0</td>\n",
              "      <td>1987</td>\n",
              "      <td>0</td>\n",
              "      <td>98074</td>\n",
              "      <td>47.6168</td>\n",
              "      <td>-122.045</td>\n",
              "      <td>1800</td>\n",
              "      <td>7503</td>\n",
              "    </tr>\n",
              "    <tr>\n",
              "      <th>3</th>\n",
              "      <td>3</td>\n",
              "      <td>201406</td>\n",
              "      <td>257500.0</td>\n",
              "      <td>3</td>\n",
              "      <td>2.25</td>\n",
              "      <td>1715</td>\n",
              "      <td>6819</td>\n",
              "      <td>2.0</td>\n",
              "      <td>0</td>\n",
              "      <td>0</td>\n",
              "      <td>...</td>\n",
              "      <td>7</td>\n",
              "      <td>1715</td>\n",
              "      <td>0</td>\n",
              "      <td>1995</td>\n",
              "      <td>0</td>\n",
              "      <td>98003</td>\n",
              "      <td>47.3097</td>\n",
              "      <td>-122.327</td>\n",
              "      <td>2238</td>\n",
              "      <td>6819</td>\n",
              "    </tr>\n",
              "    <tr>\n",
              "      <th>4</th>\n",
              "      <td>4</td>\n",
              "      <td>201501</td>\n",
              "      <td>291850.0</td>\n",
              "      <td>3</td>\n",
              "      <td>1.50</td>\n",
              "      <td>1060</td>\n",
              "      <td>9711</td>\n",
              "      <td>1.0</td>\n",
              "      <td>0</td>\n",
              "      <td>0</td>\n",
              "      <td>...</td>\n",
              "      <td>7</td>\n",
              "      <td>1060</td>\n",
              "      <td>0</td>\n",
              "      <td>1963</td>\n",
              "      <td>0</td>\n",
              "      <td>98198</td>\n",
              "      <td>47.4095</td>\n",
              "      <td>-122.315</td>\n",
              "      <td>1650</td>\n",
              "      <td>9711</td>\n",
              "    </tr>\n",
              "  </tbody>\n",
              "</table>\n",
              "<p>5 rows × 21 columns</p>\n",
              "</div>\n",
              "      <button class=\"colab-df-convert\" onclick=\"convertToInteractive('df-dd3ea2ea-9118-4a5b-b71f-aeb24eaddb5d')\"\n",
              "              title=\"Convert this dataframe to an interactive table.\"\n",
              "              style=\"display:none;\">\n",
              "        \n",
              "  <svg xmlns=\"http://www.w3.org/2000/svg\" height=\"24px\"viewBox=\"0 0 24 24\"\n",
              "       width=\"24px\">\n",
              "    <path d=\"M0 0h24v24H0V0z\" fill=\"none\"/>\n",
              "    <path d=\"M18.56 5.44l.94 2.06.94-2.06 2.06-.94-2.06-.94-.94-2.06-.94 2.06-2.06.94zm-11 1L8.5 8.5l.94-2.06 2.06-.94-2.06-.94L8.5 2.5l-.94 2.06-2.06.94zm10 10l.94 2.06.94-2.06 2.06-.94-2.06-.94-.94-2.06-.94 2.06-2.06.94z\"/><path d=\"M17.41 7.96l-1.37-1.37c-.4-.4-.92-.59-1.43-.59-.52 0-1.04.2-1.43.59L10.3 9.45l-7.72 7.72c-.78.78-.78 2.05 0 2.83L4 21.41c.39.39.9.59 1.41.59.51 0 1.02-.2 1.41-.59l7.78-7.78 2.81-2.81c.8-.78.8-2.07 0-2.86zM5.41 20L4 18.59l7.72-7.72 1.47 1.35L5.41 20z\"/>\n",
              "  </svg>\n",
              "      </button>\n",
              "      \n",
              "  <style>\n",
              "    .colab-df-container {\n",
              "      display:flex;\n",
              "      flex-wrap:wrap;\n",
              "      gap: 12px;\n",
              "    }\n",
              "\n",
              "    .colab-df-convert {\n",
              "      background-color: #E8F0FE;\n",
              "      border: none;\n",
              "      border-radius: 50%;\n",
              "      cursor: pointer;\n",
              "      display: none;\n",
              "      fill: #1967D2;\n",
              "      height: 32px;\n",
              "      padding: 0 0 0 0;\n",
              "      width: 32px;\n",
              "    }\n",
              "\n",
              "    .colab-df-convert:hover {\n",
              "      background-color: #E2EBFA;\n",
              "      box-shadow: 0px 1px 2px rgba(60, 64, 67, 0.3), 0px 1px 3px 1px rgba(60, 64, 67, 0.15);\n",
              "      fill: #174EA6;\n",
              "    }\n",
              "\n",
              "    [theme=dark] .colab-df-convert {\n",
              "      background-color: #3B4455;\n",
              "      fill: #D2E3FC;\n",
              "    }\n",
              "\n",
              "    [theme=dark] .colab-df-convert:hover {\n",
              "      background-color: #434B5C;\n",
              "      box-shadow: 0px 1px 3px 1px rgba(0, 0, 0, 0.15);\n",
              "      filter: drop-shadow(0px 1px 2px rgba(0, 0, 0, 0.3));\n",
              "      fill: #FFFFFF;\n",
              "    }\n",
              "  </style>\n",
              "\n",
              "      <script>\n",
              "        const buttonEl =\n",
              "          document.querySelector('#df-dd3ea2ea-9118-4a5b-b71f-aeb24eaddb5d button.colab-df-convert');\n",
              "        buttonEl.style.display =\n",
              "          google.colab.kernel.accessAllowed ? 'block' : 'none';\n",
              "\n",
              "        async function convertToInteractive(key) {\n",
              "          const element = document.querySelector('#df-dd3ea2ea-9118-4a5b-b71f-aeb24eaddb5d');\n",
              "          const dataTable =\n",
              "            await google.colab.kernel.invokeFunction('convertToInteractive',\n",
              "                                                     [key], {});\n",
              "          if (!dataTable) return;\n",
              "\n",
              "          const docLinkHtml = 'Like what you see? Visit the ' +\n",
              "            '<a target=\"_blank\" href=https://colab.research.google.com/notebooks/data_table.ipynb>data table notebook</a>'\n",
              "            + ' to learn more about interactive tables.';\n",
              "          element.innerHTML = '';\n",
              "          dataTable['output_type'] = 'display_data';\n",
              "          await google.colab.output.renderOutput(dataTable, element);\n",
              "          const docLink = document.createElement('div');\n",
              "          docLink.innerHTML = docLinkHtml;\n",
              "          element.appendChild(docLink);\n",
              "        }\n",
              "      </script>\n",
              "    </div>\n",
              "  </div>\n",
              "  "
            ]
          },
          "metadata": {},
          "execution_count": 151
        }
      ]
    },
    {
      "cell_type": "code",
      "source": [
        "y = train['price']\n",
        "del train['price']\n",
        "\n",
        "print(train.columns)"
      ],
      "metadata": {
        "colab": {
          "base_uri": "https://localhost:8080/"
        },
        "id": "PgXtMw2ljcLc",
        "outputId": "832ba5f1-0b6b-494f-a5f9-dba63a251d1b"
      },
      "execution_count": null,
      "outputs": [
        {
          "output_type": "stream",
          "name": "stdout",
          "text": [
            "Index(['id', 'date', 'bedrooms', 'bathrooms', 'sqft_living', 'sqft_lot',\n",
            "       'floors', 'waterfront', 'view', 'condition', 'grade', 'sqft_above',\n",
            "       'sqft_basement', 'yr_built', 'yr_renovated', 'zipcode', 'lat', 'long',\n",
            "       'sqft_living15', 'sqft_lot15'],\n",
            "      dtype='object')\n"
          ]
        }
      ]
    },
    {
      "cell_type": "code",
      "source": [
        "del train['id']\n",
        "\n",
        "print(train.columns)"
      ],
      "metadata": {
        "colab": {
          "base_uri": "https://localhost:8080/"
        },
        "id": "EzT5i5CvjcN7",
        "outputId": "d0284713-7aa7-4c12-cbeb-7b98ecd867a0"
      },
      "execution_count": null,
      "outputs": [
        {
          "output_type": "stream",
          "name": "stdout",
          "text": [
            "Index(['date', 'bedrooms', 'bathrooms', 'sqft_living', 'sqft_lot', 'floors',\n",
            "       'waterfront', 'view', 'condition', 'grade', 'sqft_above',\n",
            "       'sqft_basement', 'yr_built', 'yr_renovated', 'zipcode', 'lat', 'long',\n",
            "       'sqft_living15', 'sqft_lot15'],\n",
            "      dtype='object')\n"
          ]
        }
      ]
    },
    {
      "cell_type": "code",
      "source": [
        "test['date'] = test['date'].apply(lambda i: i[:6]).astype(int)\n",
        "\n",
        "del test['id']\n",
        "\n",
        "print(test.columns)"
      ],
      "metadata": {
        "colab": {
          "base_uri": "https://localhost:8080/"
        },
        "id": "T_DBN6w4jcQU",
        "outputId": "ad9eca1d-763d-461e-ba3b-b62383232ff7"
      },
      "execution_count": null,
      "outputs": [
        {
          "output_type": "stream",
          "name": "stdout",
          "text": [
            "Index(['date', 'bedrooms', 'bathrooms', 'sqft_living', 'sqft_lot', 'floors',\n",
            "       'waterfront', 'view', 'condition', 'grade', 'sqft_above',\n",
            "       'sqft_basement', 'yr_built', 'yr_renovated', 'zipcode', 'lat', 'long',\n",
            "       'sqft_living15', 'sqft_lot15'],\n",
            "      dtype='object')\n"
          ]
        }
      ]
    },
    {
      "cell_type": "code",
      "source": [
        "y"
      ],
      "metadata": {
        "colab": {
          "base_uri": "https://localhost:8080/"
        },
        "id": "acS6X-mqjcU0",
        "outputId": "045f0eba-ca60-44e1-f9bc-76f163dc369d"
      },
      "execution_count": null,
      "outputs": [
        {
          "output_type": "execute_result",
          "data": {
            "text/plain": [
              "0         221900.0\n",
              "1         180000.0\n",
              "2         510000.0\n",
              "3         257500.0\n",
              "4         291850.0\n",
              "           ...    \n",
              "15030     610685.0\n",
              "15031    1007500.0\n",
              "15032     360000.0\n",
              "15033     400000.0\n",
              "15034     325000.0\n",
              "Name: price, Length: 15035, dtype: float64"
            ]
          },
          "metadata": {},
          "execution_count": 155
        }
      ]
    },
    {
      "cell_type": "code",
      "source": [
        "y = np.log1p(y)\n",
        "y"
      ],
      "metadata": {
        "colab": {
          "base_uri": "https://localhost:8080/"
        },
        "id": "S20EfAy2jcW-",
        "outputId": "f083930c-8679-461c-f041-02ce4e2c7f0c"
      },
      "execution_count": null,
      "outputs": [
        {
          "output_type": "execute_result",
          "data": {
            "text/plain": [
              "0        12.309987\n",
              "1        12.100718\n",
              "2        13.142168\n",
              "3        12.458779\n",
              "4        12.583999\n",
              "           ...    \n",
              "15030    13.322338\n",
              "15031    13.822984\n",
              "15032    12.793862\n",
              "15033    12.899222\n",
              "15034    12.691584\n",
              "Name: price, Length: 15035, dtype: float64"
            ]
          },
          "metadata": {},
          "execution_count": 156
        }
      ]
    },
    {
      "cell_type": "code",
      "source": [
        "sns.kdeplot(y)\n",
        "plt.show()"
      ],
      "metadata": {
        "colab": {
          "base_uri": "https://localhost:8080/",
          "height": 280
        },
        "id": "vqaKUtfSjcZL",
        "outputId": "1dd32e78-67b0-4280-e641-83e40b96d36f"
      },
      "execution_count": null,
      "outputs": [
        {
          "output_type": "display_data",
          "data": {
            "text/plain": [
              "<Figure size 432x288 with 1 Axes>"
            ],
            "image/png": "[encoded data removed]"
          },
          "metadata": {
            "needs_background": "light"
          }
        }
      ]
    },
    {
      "cell_type": "code",
      "source": [
        "train.info()"
      ],
      "metadata": {
        "colab": {
          "base_uri": "https://localhost:8080/"
        },
        "id": "-hPMgIixp0Po",
        "outputId": "d166e8d0-fc37-4764-e0e0-cfee374091b4"
      },
      "execution_count": null,
      "outputs": [
        {
          "output_type": "stream",
          "name": "stdout",
          "text": [
            "<class 'pandas.core.frame.DataFrame'>\n",
            "RangeIndex: 15035 entries, 0 to 15034\n",
            "Data columns (total 19 columns):\n",
            " #   Column         Non-Null Count  Dtype  \n",
            "---  ------         --------------  -----  \n",
            " 0   date           15035 non-null  int64  \n",
            " 1   bedrooms       15035 non-null  int64  \n",
            " 2   bathrooms      15035 non-null  float64\n",
            " 3   sqft_living    15035 non-null  int64  \n",
            " 4   sqft_lot       15035 non-null  int64  \n",
            " 5   floors         15035 non-null  float64\n",
            " 6   waterfront     15035 non-null  int64  \n",
            " 7   view           15035 non-null  int64  \n",
            " 8   condition      15035 non-null  int64  \n",
            " 9   grade          15035 non-null  int64  \n",
            " 10  sqft_above     15035 non-null  int64  \n",
            " 11  sqft_basement  15035 non-null  int64  \n",
            " 12  yr_built       15035 non-null  int64  \n",
            " 13  yr_renovated   15035 non-null  int64  \n",
            " 14  zipcode        15035 non-null  int64  \n",
            " 15  lat            15035 non-null  float64\n",
            " 16  long           15035 non-null  float64\n",
            " 17  sqft_living15  15035 non-null  int64  \n",
            " 18  sqft_lot15     15035 non-null  int64  \n",
            "dtypes: float64(4), int64(15)\n",
            "memory usage: 2.2 MB\n"
          ]
        }
      ]
    },
    {
      "cell_type": "code",
      "source": [
        "from sklearn.model_selection import train_test_split\n",
        "from sklearn.metrics import mean_squared_error"
      ],
      "metadata": {
        "id": "g7t2pY9Np6G4"
      },
      "execution_count": null,
      "outputs": []
    },
    {
      "cell_type": "code",
      "source": [
        "def rmse(y_test, y_pred):\n",
        "    return np.sqrt(mean_squared_error(np.expm1(y_test), np.expm1(y_pred)))"
      ],
      "metadata": {
        "id": "dyBbQZGKp6D5"
      },
      "execution_count": null,
      "outputs": []
    },
    {
      "cell_type": "code",
      "source": [
        "from xgboost import XGBRegressor\n",
        "from lightgbm import LGBMRegressor\n",
        "from sklearn.ensemble import GradientBoostingRegressor, RandomForestRegressor\n"
      ],
      "metadata": {
        "id": "-Row_YVBp6Bx"
      },
      "execution_count": null,
      "outputs": []
    },
    {
      "cell_type": "code",
      "source": [
        "# random_state는 모델초기화나 데이터셋 구성에 사용되는 랜덤 시드값입니다. \n",
        "#random_state=None    # 이게 초기값입니다. 아무것도 지정하지 않고 None을 넘겨주면 모델 내부에서 임의로 선택합니다.  \n",
        "random_state=2020        # 하지만 우리는 이렇게 고정값을 세팅해 두겠습니다. \n",
        "\n",
        "gboost = GradientBoostingRegressor(random_state=random_state)\n",
        "xgboost = XGBRegressor(random_state=random_state)\n",
        "lightgbm = LGBMRegressor(random_state=random_state)\n",
        "rdforest = RandomForestRegressor(random_state=random_state)\n",
        "\n",
        "models = [gboost, xgboost, lightgbm, rdforest]"
      ],
      "metadata": {
        "id": "-f-FqAJjp5_V"
      },
      "execution_count": null,
      "outputs": []
    },
    {
      "cell_type": "code",
      "source": [
        "gboost.__class__.__name__"
      ],
      "metadata": {
        "colab": {
          "base_uri": "https://localhost:8080/",
          "height": 35
        },
        "id": "Ura-LM-9p59B",
        "outputId": "7fa17427-0ed5-449c-a003-7f91ed56bbeb"
      },
      "execution_count": null,
      "outputs": [
        {
          "output_type": "execute_result",
          "data": {
            "text/plain": [
              "'GradientBoostingRegressor'"
            ],
            "application/vnd.google.colaboratory.intrinsic+json": {
              "type": "string"
            }
          },
          "metadata": {},
          "execution_count": 163
        }
      ]
    },
    {
      "cell_type": "code",
      "source": [
        "def get_scores(models, train, y):\n",
        "\n",
        "\n",
        "  df = {}\n",
        "\n",
        "  for model in models:\n",
        "    # 모델 이름 획득\n",
        "    model_name = model.__class__.__name__\n",
        "\n",
        "    # train, test 데이터셋 분리 - 여기에도 random_state를 고정합니다. \n",
        "    X_train, X_test, y_train, y_test = train_test_split(train, y, random_state=random_state, test_size=0.2)\n",
        "\n",
        "    # 모델 학습\n",
        "    model.fit(X_train, y_train)\n",
        "    \n",
        "    # 예측\n",
        "    y_pred = model.predict(X_test)\n",
        "\n",
        "    # 예측 결과의 rmse값 저장\n",
        "    df[model_name] = rmse(y_test, y_pred)\n",
        "    \n",
        "    # data frame에 저장\n",
        "    score_df = pd.DataFrame(df, index=['RMSE']).T.sort_values('RMSE', ascending=False)\n",
        "    \n",
        "  return df\n",
        "\n",
        "get_scores(models, train, y)"
      ],
      "metadata": {
        "colab": {
          "base_uri": "https://localhost:8080/"
        },
        "id": "BviidqAFp563",
        "outputId": "32405703-1556-4c25-e07e-e46400d8c2e9"
      },
      "execution_count": null,
      "outputs": [
        {
          "output_type": "stream",
          "name": "stdout",
          "text": [
            "[10:29:40] WARNING: /workspace/src/objective/regression_obj.cu:152: reg:linear is now deprecated in favor of reg:squarederror.\n"
          ]
        },
        {
          "output_type": "execute_result",
          "data": {
            "text/plain": [
              "{'GradientBoostingRegressor': 128360.19649691365,\n",
              " 'LGBMRegressor': 111920.36735892233,\n",
              " 'RandomForestRegressor': 125487.07102453562,\n",
              " 'XGBRegressor': 131067.44622809246}"
            ]
          },
          "metadata": {},
          "execution_count": 164
        }
      ]
    },
    {
      "cell_type": "code",
      "source": [
        "from sklearn.model_selection import GridSearchCV"
      ],
      "metadata": {
        "id": "dZRveIYvp54R"
      },
      "execution_count": null,
      "outputs": []
    },
    {
      "cell_type": "code",
      "source": [
        "param_grid = {\n",
        "    'n_estimators': [50, 100],\n",
        "    'max_depth': [1, 10],\n",
        "}"
      ],
      "metadata": {
        "id": "Ys1zUOpAp51q"
      },
      "execution_count": null,
      "outputs": []
    },
    {
      "cell_type": "code",
      "source": [
        "model = LGBMRegressor(random_state=random_state)"
      ],
      "metadata": {
        "id": "4AH08QLnp5uh"
      },
      "execution_count": null,
      "outputs": []
    },
    {
      "cell_type": "code",
      "source": [
        "grid_model = GridSearchCV(model, param_grid=param_grid, \n",
        "                        scoring='neg_mean_squared_error', \n",
        "                        cv=5, verbose=1, n_jobs=5)"
      ],
      "metadata": {
        "id": "6mVgKNEcsYXa"
      },
      "execution_count": null,
      "outputs": []
    },
    {
      "cell_type": "code",
      "source": [
        "grid_model.fit(train, y)"
      ],
      "metadata": {
        "colab": {
          "base_uri": "https://localhost:8080/"
        },
        "id": "SPbN_QI3sYTs",
        "outputId": "da21ae6d-10f5-4578-b3e8-178e464c109d"
      },
      "execution_count": null,
      "outputs": [
        {
          "output_type": "stream",
          "name": "stdout",
          "text": [
            "Fitting 5 folds for each of 4 candidates, totalling 20 fits\n"
          ]
        },
        {
          "output_type": "execute_result",
          "data": {
            "text/plain": [
              "GridSearchCV(cv=5, estimator=LGBMRegressor(random_state=2020), n_jobs=5,\n",
              "             param_grid={'max_depth': [1, 10], 'n_estimators': [50, 100]},\n",
              "             scoring='neg_mean_squared_error', verbose=1)"
            ]
          },
          "metadata": {},
          "execution_count": 169
        }
      ]
    },
    {
      "cell_type": "code",
      "source": [
        "grid_model.cv_results_"
      ],
      "metadata": {
        "colab": {
          "base_uri": "https://localhost:8080/"
        },
        "id": "-hrcSydssYRa",
        "outputId": "7742011d-df89-48e6-f308-fca6941c89f5"
      },
      "execution_count": null,
      "outputs": [
        {
          "output_type": "execute_result",
          "data": {
            "text/plain": [
              "{'mean_fit_time': array([0.27295132, 0.37352657, 0.9629343 , 1.48206782]),\n",
              " 'mean_score_time': array([0.02503548, 0.0314878 , 0.06061673, 0.0595716 ]),\n",
              " 'mean_test_score': array([-0.07339447, -0.05502043, -0.02917734, -0.02702714]),\n",
              " 'param_max_depth': masked_array(data=[1, 1, 10, 10],\n",
              "              mask=[False, False, False, False],\n",
              "        fill_value='?',\n",
              "             dtype=object),\n",
              " 'param_n_estimators': masked_array(data=[50, 100, 50, 100],\n",
              "              mask=[False, False, False, False],\n",
              "        fill_value='?',\n",
              "             dtype=object),\n",
              " 'params': [{'max_depth': 1, 'n_estimators': 50},\n",
              "  {'max_depth': 1, 'n_estimators': 100},\n",
              "  {'max_depth': 10, 'n_estimators': 50},\n",
              "  {'max_depth': 10, 'n_estimators': 100}],\n",
              " 'rank_test_score': array([4, 3, 2, 1], dtype=int32),\n",
              " 'split0_test_score': array([-0.0756974 , -0.05555652, -0.02885847, -0.02665428]),\n",
              " 'split1_test_score': array([-0.07666447, -0.057876  , -0.03041465, -0.02795896]),\n",
              " 'split2_test_score': array([-0.07354904, -0.05546079, -0.03068533, -0.02834112]),\n",
              " 'split3_test_score': array([-0.07510863, -0.05582109, -0.02987609, -0.02774809]),\n",
              " 'split4_test_score': array([-0.06595281, -0.05038773, -0.02605217, -0.02443328]),\n",
              " 'std_fit_time': array([0.01582334, 0.03047673, 0.04935368, 0.08258062]),\n",
              " 'std_score_time': array([0.00610155, 0.00655636, 0.01248525, 0.02162802]),\n",
              " 'std_test_score': array([0.00385583, 0.00247946, 0.00168295, 0.00141292])}"
            ]
          },
          "metadata": {},
          "execution_count": 170
        }
      ]
    },
    {
      "cell_type": "code",
      "source": [
        "params = grid_model.cv_results_['params']\n",
        "print(params)\n"
      ],
      "metadata": {
        "colab": {
          "base_uri": "https://localhost:8080/"
        },
        "id": "hkt5161_sYPC",
        "outputId": "b1c5a450-2551-4530-e865-7140e657f1ab"
      },
      "execution_count": null,
      "outputs": [
        {
          "output_type": "stream",
          "name": "stdout",
          "text": [
            "[{'max_depth': 1, 'n_estimators': 50}, {'max_depth': 1, 'n_estimators': 100}, {'max_depth': 10, 'n_estimators': 50}, {'max_depth': 10, 'n_estimators': 100}]\n"
          ]
        }
      ]
    },
    {
      "cell_type": "code",
      "source": [
        "score = grid_model.cv_results_['mean_test_score']\n",
        "score"
      ],
      "metadata": {
        "colab": {
          "base_uri": "https://localhost:8080/"
        },
        "id": "aKWeTY91sYJa",
        "outputId": "6bcadba1-a7a7-481b-c300-97fba9c8f011"
      },
      "execution_count": null,
      "outputs": [
        {
          "output_type": "execute_result",
          "data": {
            "text/plain": [
              "array([-0.07339447, -0.05502043, -0.02917734, -0.02702714])"
            ]
          },
          "metadata": {},
          "execution_count": 172
        }
      ]
    },
    {
      "cell_type": "code",
      "source": [
        "# 여기에 코드를 작성하세요.'\\\\\n",
        "import pandas as pd \n",
        "results = pd.DataFrame(params)\n",
        "results['score'] = score\n",
        "\n",
        "results\n"
      ],
      "metadata": {
        "colab": {
          "base_uri": "https://localhost:8080/",
          "height": 175
        },
        "id": "7DhK-YcQyUbk",
        "outputId": "92c7c60c-965f-47b7-ab92-f08b2b2d1d57"
      },
      "execution_count": null,
      "outputs": [
        {
          "output_type": "execute_result",
          "data": {
            "text/plain": [
              "   max_depth  n_estimators     score\n",
              "0          1            50 -0.073394\n",
              "1          1           100 -0.055020\n",
              "2         10            50 -0.029177\n",
              "3         10           100 -0.027027"
            ],
            "text/html": [
              "\n",
              "  <div id=\"df-0f24f050-a5c3-4cd8-a38a-0102ce432ba3\">\n",
              "    <div class=\"colab-df-container\">\n",
              "      <div>\n",
              "<style scoped>\n",
              "    .dataframe tbody tr th:only-of-type {\n",
              "        vertical-align: middle;\n",
              "    }\n",
              "\n",
              "    .dataframe tbody tr th {\n",
              "        vertical-align: top;\n",
              "    }\n",
              "\n",
              "    .dataframe thead th {\n",
              "        text-align: right;\n",
              "    }\n",
              "</style>\n",
              "<table border=\"1\" class=\"dataframe\">\n",
              "  <thead>\n",
              "    <tr style=\"text-align: right;\">\n",
              "      <th></th>\n",
              "      <th>max_depth</th>\n",
              "      <th>n_estimators</th>\n",
              "      <th>score</th>\n",
              "    </tr>\n",
              "  </thead>\n",
              "  <tbody>\n",
              "    <tr>\n",
              "      <th>0</th>\n",
              "      <td>1</td>\n",
              "      <td>50</td>\n",
              "      <td>-0.073394</td>\n",
              "    </tr>\n",
              "    <tr>\n",
              "      <th>1</th>\n",
              "      <td>1</td>\n",
              "      <td>100</td>\n",
              "      <td>-0.055020</td>\n",
              "    </tr>\n",
              "    <tr>\n",
              "      <th>2</th>\n",
              "      <td>10</td>\n",
              "      <td>50</td>\n",
              "      <td>-0.029177</td>\n",
              "    </tr>\n",
              "    <tr>\n",
              "      <th>3</th>\n",
              "      <td>10</td>\n",
              "      <td>100</td>\n",
              "      <td>-0.027027</td>\n",
              "    </tr>\n",
              "  </tbody>\n",
              "</table>\n",
              "</div>\n",
              "      <button class=\"colab-df-convert\" onclick=\"convertToInteractive('df-0f24f050-a5c3-4cd8-a38a-0102ce432ba3')\"\n",
              "              title=\"Convert this dataframe to an interactive table.\"\n",
              "              style=\"display:none;\">\n",
              "        \n",
              "  <svg xmlns=\"http://www.w3.org/2000/svg\" height=\"24px\"viewBox=\"0 0 24 24\"\n",
              "       width=\"24px\">\n",
              "    <path d=\"M0 0h24v24H0V0z\" fill=\"none\"/>\n",
              "    <path d=\"M18.56 5.44l.94 2.06.94-2.06 2.06-.94-2.06-.94-.94-2.06-.94 2.06-2.06.94zm-11 1L8.5 8.5l.94-2.06 2.06-.94-2.06-.94L8.5 2.5l-.94 2.06-2.06.94zm10 10l.94 2.06.94-2.06 2.06-.94-2.06-.94-.94-2.06-.94 2.06-2.06.94z\"/><path d=\"M17.41 7.96l-1.37-1.37c-.4-.4-.92-.59-1.43-.59-.52 0-1.04.2-1.43.59L10.3 9.45l-7.72 7.72c-.78.78-.78 2.05 0 2.83L4 21.41c.39.39.9.59 1.41.59.51 0 1.02-.2 1.41-.59l7.78-7.78 2.81-2.81c.8-.78.8-2.07 0-2.86zM5.41 20L4 18.59l7.72-7.72 1.47 1.35L5.41 20z\"/>\n",
              "  </svg>\n",
              "      </button>\n",
              "      \n",
              "  <style>\n",
              "    .colab-df-container {\n",
              "      display:flex;\n",
              "      flex-wrap:wrap;\n",
              "      gap: 12px;\n",
              "    }\n",
              "\n",
              "    .colab-df-convert {\n",
              "      background-color: #E8F0FE;\n",
              "      border: none;\n",
              "      border-radius: 50%;\n",
              "      cursor: pointer;\n",
              "      display: none;\n",
              "      fill: #1967D2;\n",
              "      height: 32px;\n",
              "      padding: 0 0 0 0;\n",
              "      width: 32px;\n",
              "    }\n",
              "\n",
              "    .colab-df-convert:hover {\n",
              "      background-color: #E2EBFA;\n",
              "      box-shadow: 0px 1px 2px rgba(60, 64, 67, 0.3), 0px 1px 3px 1px rgba(60, 64, 67, 0.15);\n",
              "      fill: #174EA6;\n",
              "    }\n",
              "\n",
              "    [theme=dark] .colab-df-convert {\n",
              "      background-color: #3B4455;\n",
              "      fill: #D2E3FC;\n",
              "    }\n",
              "\n",
              "    [theme=dark] .colab-df-convert:hover {\n",
              "      background-color: #434B5C;\n",
              "      box-shadow: 0px 1px 3px 1px rgba(0, 0, 0, 0.15);\n",
              "      filter: drop-shadow(0px 1px 2px rgba(0, 0, 0, 0.3));\n",
              "      fill: #FFFFFF;\n",
              "    }\n",
              "  </style>\n",
              "\n",
              "      <script>\n",
              "        const buttonEl =\n",
              "          document.querySelector('#df-0f24f050-a5c3-4cd8-a38a-0102ce432ba3 button.colab-df-convert');\n",
              "        buttonEl.style.display =\n",
              "          google.colab.kernel.accessAllowed ? 'block' : 'none';\n",
              "\n",
              "        async function convertToInteractive(key) {\n",
              "          const element = document.querySelector('#df-0f24f050-a5c3-4cd8-a38a-0102ce432ba3');\n",
              "          const dataTable =\n",
              "            await google.colab.kernel.invokeFunction('convertToInteractive',\n",
              "                                                     [key], {});\n",
              "          if (!dataTable) return;\n",
              "\n",
              "          const docLinkHtml = 'Like what you see? Visit the ' +\n",
              "            '<a target=\"_blank\" href=https://colab.research.google.com/notebooks/data_table.ipynb>data table notebook</a>'\n",
              "            + ' to learn more about interactive tables.';\n",
              "          element.innerHTML = '';\n",
              "          dataTable['output_type'] = 'display_data';\n",
              "          await google.colab.output.renderOutput(dataTable, element);\n",
              "          const docLink = document.createElement('div');\n",
              "          docLink.innerHTML = docLinkHtml;\n",
              "          element.appendChild(docLink);\n",
              "        }\n",
              "      </script>\n",
              "    </div>\n",
              "  </div>\n",
              "  "
            ]
          },
          "metadata": {},
          "execution_count": 173
        }
      ]
    },
    {
      "cell_type": "code",
      "source": [
        "results['RMSE'] = np.sqrt(-1 * results['score'])\n",
        "results['RMSE']"
      ],
      "metadata": {
        "colab": {
          "base_uri": "https://localhost:8080/"
        },
        "id": "kdSBI14eyUWb",
        "outputId": "a128c061-de50-40b6-e423-29393160ff3f"
      },
      "execution_count": null,
      "outputs": [
        {
          "output_type": "execute_result",
          "data": {
            "text/plain": [
              "0    0.270914\n",
              "1    0.234564\n",
              "2    0.170814\n",
              "3    0.164399\n",
              "Name: RMSE, dtype: float64"
            ]
          },
          "metadata": {},
          "execution_count": 174
        }
      ]
    },
    {
      "cell_type": "code",
      "source": [
        "results = results.rename(columns={'RMSE': 'RMSLE'})\n",
        "results"
      ],
      "metadata": {
        "colab": {
          "base_uri": "https://localhost:8080/",
          "height": 175
        },
        "id": "_XR3-7sJyUUV",
        "outputId": "5b341cce-5a17-4505-c7cc-03e3f6d85182"
      },
      "execution_count": null,
      "outputs": [
        {
          "output_type": "execute_result",
          "data": {
            "text/plain": [
              "   max_depth  n_estimators     score     RMSLE\n",
              "0          1            50 -0.073394  0.270914\n",
              "1          1           100 -0.055020  0.234564\n",
              "2         10            50 -0.029177  0.170814\n",
              "3         10           100 -0.027027  0.164399"
            ],
            "text/html": [
              "\n",
              "  <div id=\"df-516fe4e2-c7aa-4927-9379-12de69234dc3\">\n",
              "    <div class=\"colab-df-container\">\n",
              "      <div>\n",
              "<style scoped>\n",
              "    .dataframe tbody tr th:only-of-type {\n",
              "        vertical-align: middle;\n",
              "    }\n",
              "\n",
              "    .dataframe tbody tr th {\n",
              "        vertical-align: top;\n",
              "    }\n",
              "\n",
              "    .dataframe thead th {\n",
              "        text-align: right;\n",
              "    }\n",
              "</style>\n",
              "<table border=\"1\" class=\"dataframe\">\n",
              "  <thead>\n",
              "    <tr style=\"text-align: right;\">\n",
              "      <th></th>\n",
              "      <th>max_depth</th>\n",
              "      <th>n_estimators</th>\n",
              "      <th>score</th>\n",
              "      <th>RMSLE</th>\n",
              "    </tr>\n",
              "  </thead>\n",
              "  <tbody>\n",
              "    <tr>\n",
              "      <th>0</th>\n",
              "      <td>1</td>\n",
              "      <td>50</td>\n",
              "      <td>-0.073394</td>\n",
              "      <td>0.270914</td>\n",
              "    </tr>\n",
              "    <tr>\n",
              "      <th>1</th>\n",
              "      <td>1</td>\n",
              "      <td>100</td>\n",
              "      <td>-0.055020</td>\n",
              "      <td>0.234564</td>\n",
              "    </tr>\n",
              "    <tr>\n",
              "      <th>2</th>\n",
              "      <td>10</td>\n",
              "      <td>50</td>\n",
              "      <td>-0.029177</td>\n",
              "      <td>0.170814</td>\n",
              "    </tr>\n",
              "    <tr>\n",
              "      <th>3</th>\n",
              "      <td>10</td>\n",
              "      <td>100</td>\n",
              "      <td>-0.027027</td>\n",
              "      <td>0.164399</td>\n",
              "    </tr>\n",
              "  </tbody>\n",
              "</table>\n",
              "</div>\n",
              "      <button class=\"colab-df-convert\" onclick=\"convertToInteractive('df-516fe4e2-c7aa-4927-9379-12de69234dc3')\"\n",
              "              title=\"Convert this dataframe to an interactive table.\"\n",
              "              style=\"display:none;\">\n",
              "        \n",
              "  <svg xmlns=\"http://www.w3.org/2000/svg\" height=\"24px\"viewBox=\"0 0 24 24\"\n",
              "       width=\"24px\">\n",
              "    <path d=\"M0 0h24v24H0V0z\" fill=\"none\"/>\n",
              "    <path d=\"M18.56 5.44l.94 2.06.94-2.06 2.06-.94-2.06-.94-.94-2.06-.94 2.06-2.06.94zm-11 1L8.5 8.5l.94-2.06 2.06-.94-2.06-.94L8.5 2.5l-.94 2.06-2.06.94zm10 10l.94 2.06.94-2.06 2.06-.94-2.06-.94-.94-2.06-.94 2.06-2.06.94z\"/><path d=\"M17.41 7.96l-1.37-1.37c-.4-.4-.92-.59-1.43-.59-.52 0-1.04.2-1.43.59L10.3 9.45l-7.72 7.72c-.78.78-.78 2.05 0 2.83L4 21.41c.39.39.9.59 1.41.59.51 0 1.02-.2 1.41-.59l7.78-7.78 2.81-2.81c.8-.78.8-2.07 0-2.86zM5.41 20L4 18.59l7.72-7.72 1.47 1.35L5.41 20z\"/>\n",
              "  </svg>\n",
              "      </button>\n",
              "      \n",
              "  <style>\n",
              "    .colab-df-container {\n",
              "      display:flex;\n",
              "      flex-wrap:wrap;\n",
              "      gap: 12px;\n",
              "    }\n",
              "\n",
              "    .colab-df-convert {\n",
              "      background-color: #E8F0FE;\n",
              "      border: none;\n",
              "      border-radius: 50%;\n",
              "      cursor: pointer;\n",
              "      display: none;\n",
              "      fill: #1967D2;\n",
              "      height: 32px;\n",
              "      padding: 0 0 0 0;\n",
              "      width: 32px;\n",
              "    }\n",
              "\n",
              "    .colab-df-convert:hover {\n",
              "      background-color: #E2EBFA;\n",
              "      box-shadow: 0px 1px 2px rgba(60, 64, 67, 0.3), 0px 1px 3px 1px rgba(60, 64, 67, 0.15);\n",
              "      fill: #174EA6;\n",
              "    }\n",
              "\n",
              "    [theme=dark] .colab-df-convert {\n",
              "      background-color: #3B4455;\n",
              "      fill: #D2E3FC;\n",
              "    }\n",
              "\n",
              "    [theme=dark] .colab-df-convert:hover {\n",
              "      background-color: #434B5C;\n",
              "      box-shadow: 0px 1px 3px 1px rgba(0, 0, 0, 0.15);\n",
              "      filter: drop-shadow(0px 1px 2px rgba(0, 0, 0, 0.3));\n",
              "      fill: #FFFFFF;\n",
              "    }\n",
              "  </style>\n",
              "\n",
              "      <script>\n",
              "        const buttonEl =\n",
              "          document.querySelector('#df-516fe4e2-c7aa-4927-9379-12de69234dc3 button.colab-df-convert');\n",
              "        buttonEl.style.display =\n",
              "          google.colab.kernel.accessAllowed ? 'block' : 'none';\n",
              "\n",
              "        async function convertToInteractive(key) {\n",
              "          const element = document.querySelector('#df-516fe4e2-c7aa-4927-9379-12de69234dc3');\n",
              "          const dataTable =\n",
              "            await google.colab.kernel.invokeFunction('convertToInteractive',\n",
              "                                                     [key], {});\n",
              "          if (!dataTable) return;\n",
              "\n",
              "          const docLinkHtml = 'Like what you see? Visit the ' +\n",
              "            '<a target=\"_blank\" href=https://colab.research.google.com/notebooks/data_table.ipynb>data table notebook</a>'\n",
              "            + ' to learn more about interactive tables.';\n",
              "          element.innerHTML = '';\n",
              "          dataTable['output_type'] = 'display_data';\n",
              "          await google.colab.output.renderOutput(dataTable, element);\n",
              "          const docLink = document.createElement('div');\n",
              "          docLink.innerHTML = docLinkHtml;\n",
              "          element.appendChild(docLink);\n",
              "        }\n",
              "      </script>\n",
              "    </div>\n",
              "  </div>\n",
              "  "
            ]
          },
          "metadata": {},
          "execution_count": 175
        }
      ]
    },
    {
      "cell_type": "code",
      "source": [
        "results = results.sort_values('RMSLE')\n",
        "results"
      ],
      "metadata": {
        "colab": {
          "base_uri": "https://localhost:8080/",
          "height": 175
        },
        "id": "0cf8DSz2yUQb",
        "outputId": "74cdfe07-4b73-49e5-c94b-d6331aaaf124"
      },
      "execution_count": null,
      "outputs": [
        {
          "output_type": "execute_result",
          "data": {
            "text/plain": [
              "   max_depth  n_estimators     score     RMSLE\n",
              "3         10           100 -0.027027  0.164399\n",
              "2         10            50 -0.029177  0.170814\n",
              "1          1           100 -0.055020  0.234564\n",
              "0          1            50 -0.073394  0.270914"
            ],
            "text/html": [
              "\n",
              "  <div id=\"df-a7394798-32ff-476c-a80d-40d4dae5dbe2\">\n",
              "    <div class=\"colab-df-container\">\n",
              "      <div>\n",
              "<style scoped>\n",
              "    .dataframe tbody tr th:only-of-type {\n",
              "        vertical-align: middle;\n",
              "    }\n",
              "\n",
              "    .dataframe tbody tr th {\n",
              "        vertical-align: top;\n",
              "    }\n",
              "\n",
              "    .dataframe thead th {\n",
              "        text-align: right;\n",
              "    }\n",
              "</style>\n",
              "<table border=\"1\" class=\"dataframe\">\n",
              "  <thead>\n",
              "    <tr style=\"text-align: right;\">\n",
              "      <th></th>\n",
              "      <th>max_depth</th>\n",
              "      <th>n_estimators</th>\n",
              "      <th>score</th>\n",
              "      <th>RMSLE</th>\n",
              "    </tr>\n",
              "  </thead>\n",
              "  <tbody>\n",
              "    <tr>\n",
              "      <th>3</th>\n",
              "      <td>10</td>\n",
              "      <td>100</td>\n",
              "      <td>-0.027027</td>\n",
              "      <td>0.164399</td>\n",
              "    </tr>\n",
              "    <tr>\n",
              "      <th>2</th>\n",
              "      <td>10</td>\n",
              "      <td>50</td>\n",
              "      <td>-0.029177</td>\n",
              "      <td>0.170814</td>\n",
              "    </tr>\n",
              "    <tr>\n",
              "      <th>1</th>\n",
              "      <td>1</td>\n",
              "      <td>100</td>\n",
              "      <td>-0.055020</td>\n",
              "      <td>0.234564</td>\n",
              "    </tr>\n",
              "    <tr>\n",
              "      <th>0</th>\n",
              "      <td>1</td>\n",
              "      <td>50</td>\n",
              "      <td>-0.073394</td>\n",
              "      <td>0.270914</td>\n",
              "    </tr>\n",
              "  </tbody>\n",
              "</table>\n",
              "</div>\n",
              "      <button class=\"colab-df-convert\" onclick=\"convertToInteractive('df-a7394798-32ff-476c-a80d-40d4dae5dbe2')\"\n",
              "              title=\"Convert this dataframe to an interactive table.\"\n",
              "              style=\"display:none;\">\n",
              "        \n",
              "  <svg xmlns=\"http://www.w3.org/2000/svg\" height=\"24px\"viewBox=\"0 0 24 24\"\n",
              "       width=\"24px\">\n",
              "    <path d=\"M0 0h24v24H0V0z\" fill=\"none\"/>\n",
              "    <path d=\"M18.56 5.44l.94 2.06.94-2.06 2.06-.94-2.06-.94-.94-2.06-.94 2.06-2.06.94zm-11 1L8.5 8.5l.94-2.06 2.06-.94-2.06-.94L8.5 2.5l-.94 2.06-2.06.94zm10 10l.94 2.06.94-2.06 2.06-.94-2.06-.94-.94-2.06-.94 2.06-2.06.94z\"/><path d=\"M17.41 7.96l-1.37-1.37c-.4-.4-.92-.59-1.43-.59-.52 0-1.04.2-1.43.59L10.3 9.45l-7.72 7.72c-.78.78-.78 2.05 0 2.83L4 21.41c.39.39.9.59 1.41.59.51 0 1.02-.2 1.41-.59l7.78-7.78 2.81-2.81c.8-.78.8-2.07 0-2.86zM5.41 20L4 18.59l7.72-7.72 1.47 1.35L5.41 20z\"/>\n",
              "  </svg>\n",
              "      </button>\n",
              "      \n",
              "  <style>\n",
              "    .colab-df-container {\n",
              "      display:flex;\n",
              "      flex-wrap:wrap;\n",
              "      gap: 12px;\n",
              "    }\n",
              "\n",
              "    .colab-df-convert {\n",
              "      background-color: #E8F0FE;\n",
              "      border: none;\n",
              "      border-radius: 50%;\n",
              "      cursor: pointer;\n",
              "      display: none;\n",
              "      fill: #1967D2;\n",
              "      height: 32px;\n",
              "      padding: 0 0 0 0;\n",
              "      width: 32px;\n",
              "    }\n",
              "\n",
              "    .colab-df-convert:hover {\n",
              "      background-color: #E2EBFA;\n",
              "      box-shadow: 0px 1px 2px rgba(60, 64, 67, 0.3), 0px 1px 3px 1px rgba(60, 64, 67, 0.15);\n",
              "      fill: #174EA6;\n",
              "    }\n",
              "\n",
              "    [theme=dark] .colab-df-convert {\n",
              "      background-color: #3B4455;\n",
              "      fill: #D2E3FC;\n",
              "    }\n",
              "\n",
              "    [theme=dark] .colab-df-convert:hover {\n",
              "      background-color: #434B5C;\n",
              "      box-shadow: 0px 1px 3px 1px rgba(0, 0, 0, 0.15);\n",
              "      filter: drop-shadow(0px 1px 2px rgba(0, 0, 0, 0.3));\n",
              "      fill: #FFFFFF;\n",
              "    }\n",
              "  </style>\n",
              "\n",
              "      <script>\n",
              "        const buttonEl =\n",
              "          document.querySelector('#df-a7394798-32ff-476c-a80d-40d4dae5dbe2 button.colab-df-convert');\n",
              "        buttonEl.style.display =\n",
              "          google.colab.kernel.accessAllowed ? 'block' : 'none';\n",
              "\n",
              "        async function convertToInteractive(key) {\n",
              "          const element = document.querySelector('#df-a7394798-32ff-476c-a80d-40d4dae5dbe2');\n",
              "          const dataTable =\n",
              "            await google.colab.kernel.invokeFunction('convertToInteractive',\n",
              "                                                     [key], {});\n",
              "          if (!dataTable) return;\n",
              "\n",
              "          const docLinkHtml = 'Like what you see? Visit the ' +\n",
              "            '<a target=\"_blank\" href=https://colab.research.google.com/notebooks/data_table.ipynb>data table notebook</a>'\n",
              "            + ' to learn more about interactive tables.';\n",
              "          element.innerHTML = '';\n",
              "          dataTable['output_type'] = 'display_data';\n",
              "          await google.colab.output.renderOutput(dataTable, element);\n",
              "          const docLink = document.createElement('div');\n",
              "          docLink.innerHTML = docLinkHtml;\n",
              "          element.appendChild(docLink);\n",
              "        }\n",
              "      </script>\n",
              "    </div>\n",
              "  </div>\n",
              "  "
            ]
          },
          "metadata": {},
          "execution_count": 176
        }
      ]
    },
    {
      "cell_type": "code",
      "source": [
        "def my_GridSearch(model, train, y, param_grid, verbose=2, n_jobs=5):\n",
        "    # GridSearchCV 모델로 초기화\n",
        "    grid_model = GridSearchCV(model, param_grid=param_grid, scoring='neg_mean_squared_error', \\\n",
        "                              cv=5, verbose=verbose, n_jobs=n_jobs)\n",
        "    \n",
        "    # 모델 fitting\n",
        "    grid_model.fit(train, y)\n",
        "\n",
        "    # 결과값 저장\n",
        "    params = grid_model.cv_results_['params']\n",
        "    score = grid_model.cv_results_['mean_test_score']\n",
        "    \n",
        "    # 데이터 프레임 생성\n",
        "    results = pd.DataFrame(params)\n",
        "    results['score'] = score\n",
        "    \n",
        "    # RMSLE 값 계산 후 정렬\n",
        "    results['RMSLE'] = np.sqrt(-1 * results['score'])\n",
        "    results = results.sort_values('RMSLE')\n",
        "\n",
        "    return results"
      ],
      "metadata": {
        "id": "HaX_sbPQyUOT"
      },
      "execution_count": null,
      "outputs": []
    },
    {
      "cell_type": "code",
      "source": [
        "param_grid = {\n",
        "    'n_estimators': [50, 100],\n",
        "    'max_depth': [1, 10],\n",
        "}\n",
        "\n",
        "model = LGBMRegressor(random_state=random_state)\n",
        "my_GridSearch(model, train, y, param_grid, verbose=2, n_jobs=5)"
      ],
      "metadata": {
        "colab": {
          "base_uri": "https://localhost:8080/",
          "height": 193
        },
        "id": "Z1rPEdv1yUL8",
        "outputId": "91ad039c-7ffd-4904-92b9-94525ecada3b"
      },
      "execution_count": null,
      "outputs": [
        {
          "output_type": "stream",
          "name": "stdout",
          "text": [
            "Fitting 5 folds for each of 4 candidates, totalling 20 fits\n"
          ]
        },
        {
          "output_type": "execute_result",
          "data": {
            "text/plain": [
              "   max_depth  n_estimators     score     RMSLE\n",
              "3         10           100 -0.027027  0.164399\n",
              "2         10            50 -0.029177  0.170814\n",
              "1          1           100 -0.055020  0.234564\n",
              "0          1            50 -0.073394  0.270914"
            ],
            "text/html": [
              "\n",
              "  <div id=\"df-65247cbe-02ab-434b-93f8-9fe7abdc3124\">\n",
              "    <div class=\"colab-df-container\">\n",
              "      <div>\n",
              "<style scoped>\n",
              "    .dataframe tbody tr th:only-of-type {\n",
              "        vertical-align: middle;\n",
              "    }\n",
              "\n",
              "    .dataframe tbody tr th {\n",
              "        vertical-align: top;\n",
              "    }\n",
              "\n",
              "    .dataframe thead th {\n",
              "        text-align: right;\n",
              "    }\n",
              "</style>\n",
              "<table border=\"1\" class=\"dataframe\">\n",
              "  <thead>\n",
              "    <tr style=\"text-align: right;\">\n",
              "      <th></th>\n",
              "      <th>max_depth</th>\n",
              "      <th>n_estimators</th>\n",
              "      <th>score</th>\n",
              "      <th>RMSLE</th>\n",
              "    </tr>\n",
              "  </thead>\n",
              "  <tbody>\n",
              "    <tr>\n",
              "      <th>3</th>\n",
              "      <td>10</td>\n",
              "      <td>100</td>\n",
              "      <td>-0.027027</td>\n",
              "      <td>0.164399</td>\n",
              "    </tr>\n",
              "    <tr>\n",
              "      <th>2</th>\n",
              "      <td>10</td>\n",
              "      <td>50</td>\n",
              "      <td>-0.029177</td>\n",
              "      <td>0.170814</td>\n",
              "    </tr>\n",
              "    <tr>\n",
              "      <th>1</th>\n",
              "      <td>1</td>\n",
              "      <td>100</td>\n",
              "      <td>-0.055020</td>\n",
              "      <td>0.234564</td>\n",
              "    </tr>\n",
              "    <tr>\n",
              "      <th>0</th>\n",
              "      <td>1</td>\n",
              "      <td>50</td>\n",
              "      <td>-0.073394</td>\n",
              "      <td>0.270914</td>\n",
              "    </tr>\n",
              "  </tbody>\n",
              "</table>\n",
              "</div>\n",
              "      <button class=\"colab-df-convert\" onclick=\"convertToInteractive('df-65247cbe-02ab-434b-93f8-9fe7abdc3124')\"\n",
              "              title=\"Convert this dataframe to an interactive table.\"\n",
              "              style=\"display:none;\">\n",
              "        \n",
              "  <svg xmlns=\"http://www.w3.org/2000/svg\" height=\"24px\"viewBox=\"0 0 24 24\"\n",
              "       width=\"24px\">\n",
              "    <path d=\"M0 0h24v24H0V0z\" fill=\"none\"/>\n",
              "    <path d=\"M18.56 5.44l.94 2.06.94-2.06 2.06-.94-2.06-.94-.94-2.06-.94 2.06-2.06.94zm-11 1L8.5 8.5l.94-2.06 2.06-.94-2.06-.94L8.5 2.5l-.94 2.06-2.06.94zm10 10l.94 2.06.94-2.06 2.06-.94-2.06-.94-.94-2.06-.94 2.06-2.06.94z\"/><path d=\"M17.41 7.96l-1.37-1.37c-.4-.4-.92-.59-1.43-.59-.52 0-1.04.2-1.43.59L10.3 9.45l-7.72 7.72c-.78.78-.78 2.05 0 2.83L4 21.41c.39.39.9.59 1.41.59.51 0 1.02-.2 1.41-.59l7.78-7.78 2.81-2.81c.8-.78.8-2.07 0-2.86zM5.41 20L4 18.59l7.72-7.72 1.47 1.35L5.41 20z\"/>\n",
              "  </svg>\n",
              "      </button>\n",
              "      \n",
              "  <style>\n",
              "    .colab-df-container {\n",
              "      display:flex;\n",
              "      flex-wrap:wrap;\n",
              "      gap: 12px;\n",
              "    }\n",
              "\n",
              "    .colab-df-convert {\n",
              "      background-color: #E8F0FE;\n",
              "      border: none;\n",
              "      border-radius: 50%;\n",
              "      cursor: pointer;\n",
              "      display: none;\n",
              "      fill: #1967D2;\n",
              "      height: 32px;\n",
              "      padding: 0 0 0 0;\n",
              "      width: 32px;\n",
              "    }\n",
              "\n",
              "    .colab-df-convert:hover {\n",
              "      background-color: #E2EBFA;\n",
              "      box-shadow: 0px 1px 2px rgba(60, 64, 67, 0.3), 0px 1px 3px 1px rgba(60, 64, 67, 0.15);\n",
              "      fill: #174EA6;\n",
              "    }\n",
              "\n",
              "    [theme=dark] .colab-df-convert {\n",
              "      background-color: #3B4455;\n",
              "      fill: #D2E3FC;\n",
              "    }\n",
              "\n",
              "    [theme=dark] .colab-df-convert:hover {\n",
              "      background-color: #434B5C;\n",
              "      box-shadow: 0px 1px 3px 1px rgba(0, 0, 0, 0.15);\n",
              "      filter: drop-shadow(0px 1px 2px rgba(0, 0, 0, 0.3));\n",
              "      fill: #FFFFFF;\n",
              "    }\n",
              "  </style>\n",
              "\n",
              "      <script>\n",
              "        const buttonEl =\n",
              "          document.querySelector('#df-65247cbe-02ab-434b-93f8-9fe7abdc3124 button.colab-df-convert');\n",
              "        buttonEl.style.display =\n",
              "          google.colab.kernel.accessAllowed ? 'block' : 'none';\n",
              "\n",
              "        async function convertToInteractive(key) {\n",
              "          const element = document.querySelector('#df-65247cbe-02ab-434b-93f8-9fe7abdc3124');\n",
              "          const dataTable =\n",
              "            await google.colab.kernel.invokeFunction('convertToInteractive',\n",
              "                                                     [key], {});\n",
              "          if (!dataTable) return;\n",
              "\n",
              "          const docLinkHtml = 'Like what you see? Visit the ' +\n",
              "            '<a target=\"_blank\" href=https://colab.research.google.com/notebooks/data_table.ipynb>data table notebook</a>'\n",
              "            + ' to learn more about interactive tables.';\n",
              "          element.innerHTML = '';\n",
              "          dataTable['output_type'] = 'display_data';\n",
              "          await google.colab.output.renderOutput(dataTable, element);\n",
              "          const docLink = document.createElement('div');\n",
              "          docLink.innerHTML = docLinkHtml;\n",
              "          element.appendChild(docLink);\n",
              "        }\n",
              "      </script>\n",
              "    </div>\n",
              "  </div>\n",
              "  "
            ]
          },
          "metadata": {},
          "execution_count": 178
        }
      ]
    },
    {
      "cell_type": "code",
      "source": [
        "model = LGBMRegressor(max_depth=10, n_estimators=100, random_state=random_state)\n",
        "model.fit(train, y)\n",
        "prediction = model.predict(test)\n",
        "prediction"
      ],
      "metadata": {
        "colab": {
          "base_uri": "https://localhost:8080/"
        },
        "id": "1ZCLNk3EyUJs",
        "outputId": "b7bec05d-f22b-49eb-c1c9-cb87fb0ad4fc"
      },
      "execution_count": null,
      "outputs": [
        {
          "output_type": "execute_result",
          "data": {
            "text/plain": [
              "array([13.13580793, 13.08051399, 14.11202067, ..., 13.01592878,\n",
              "       12.69894979, 12.96297768])"
            ]
          },
          "metadata": {},
          "execution_count": 179
        }
      ]
    },
    {
      "cell_type": "code",
      "source": [
        "prediction = np.expm1(prediction)\n",
        "prediction"
      ],
      "metadata": {
        "colab": {
          "base_uri": "https://localhost:8080/"
        },
        "id": "yjZa33u80Inm",
        "outputId": "aa4ed68d-4ffd-4152-e064-d2460c10a879"
      },
      "execution_count": null,
      "outputs": [
        {
          "output_type": "execute_result",
          "data": {
            "text/plain": [
              "array([ 506766.66784595,  479506.10405112, 1345155.15609376, ...,\n",
              "        449515.92243642,  327402.87855805,  426332.71354302])"
            ]
          },
          "metadata": {},
          "execution_count": 180
        }
      ]
    },
    {
      "cell_type": "code",
      "source": [
        "submission_path = '/content/gdrive/MyDrive/Colab Notebooks/ex3/sample_submission.csv'\n",
        "print(submission_path)\n",
        "submission = pd.read_csv(submission_path)\n",
        "submission.head()"
      ],
      "metadata": {
        "colab": {
          "base_uri": "https://localhost:8080/",
          "height": 224
        },
        "id": "8l7uF9Kj0IqC",
        "outputId": "e3ef51ce-b46b-45ff-f0c2-d0d50a4d63a2"
      },
      "execution_count": null,
      "outputs": [
        {
          "output_type": "stream",
          "name": "stdout",
          "text": [
            "/content/gdrive/MyDrive/Colab Notebooks/ex3/sample_submission.csv\n"
          ]
        },
        {
          "output_type": "execute_result",
          "data": {
            "text/plain": [
              "      id         price\n",
              "0  15035  5.625664e+05\n",
              "1  15036  3.896607e+05\n",
              "2  15037  1.340643e+06\n",
              "3  15038  3.317573e+05\n",
              "4  15039  2.966855e+05"
            ],
            "text/html": [
              "\n",
              "  <div id=\"df-817bb5ba-f322-4d8a-baa1-4ae584ae3e1a\">\n",
              "    <div class=\"colab-df-container\">\n",
              "      <div>\n",
              "<style scoped>\n",
              "    .dataframe tbody tr th:only-of-type {\n",
              "        vertical-align: middle;\n",
              "    }\n",
              "\n",
              "    .dataframe tbody tr th {\n",
              "        vertical-align: top;\n",
              "    }\n",
              "\n",
              "    .dataframe thead th {\n",
              "        text-align: right;\n",
              "    }\n",
              "</style>\n",
              "<table border=\"1\" class=\"dataframe\">\n",
              "  <thead>\n",
              "    <tr style=\"text-align: right;\">\n",
              "      <th></th>\n",
              "      <th>id</th>\n",
              "      <th>price</th>\n",
              "    </tr>\n",
              "  </thead>\n",
              "  <tbody>\n",
              "    <tr>\n",
              "      <th>0</th>\n",
              "      <td>15035</td>\n",
              "      <td>5.625664e+05</td>\n",
              "    </tr>\n",
              "    <tr>\n",
              "      <th>1</th>\n",
              "      <td>15036</td>\n",
              "      <td>3.896607e+05</td>\n",
              "    </tr>\n",
              "    <tr>\n",
              "      <th>2</th>\n",
              "      <td>15037</td>\n",
              "      <td>1.340643e+06</td>\n",
              "    </tr>\n",
              "    <tr>\n",
              "      <th>3</th>\n",
              "      <td>15038</td>\n",
              "      <td>3.317573e+05</td>\n",
              "    </tr>\n",
              "    <tr>\n",
              "      <th>4</th>\n",
              "      <td>15039</td>\n",
              "      <td>2.966855e+05</td>\n",
              "    </tr>\n",
              "  </tbody>\n",
              "</table>\n",
              "</div>\n",
              "      <button class=\"colab-df-convert\" onclick=\"convertToInteractive('df-817bb5ba-f322-4d8a-baa1-4ae584ae3e1a')\"\n",
              "              title=\"Convert this dataframe to an interactive table.\"\n",
              "              style=\"display:none;\">\n",
              "        \n",
              "  <svg xmlns=\"http://www.w3.org/2000/svg\" height=\"24px\"viewBox=\"0 0 24 24\"\n",
              "       width=\"24px\">\n",
              "    <path d=\"M0 0h24v24H0V0z\" fill=\"none\"/>\n",
              "    <path d=\"M18.56 5.44l.94 2.06.94-2.06 2.06-.94-2.06-.94-.94-2.06-.94 2.06-2.06.94zm-11 1L8.5 8.5l.94-2.06 2.06-.94-2.06-.94L8.5 2.5l-.94 2.06-2.06.94zm10 10l.94 2.06.94-2.06 2.06-.94-2.06-.94-.94-2.06-.94 2.06-2.06.94z\"/><path d=\"M17.41 7.96l-1.37-1.37c-.4-.4-.92-.59-1.43-.59-.52 0-1.04.2-1.43.59L10.3 9.45l-7.72 7.72c-.78.78-.78 2.05 0 2.83L4 21.41c.39.39.9.59 1.41.59.51 0 1.02-.2 1.41-.59l7.78-7.78 2.81-2.81c.8-.78.8-2.07 0-2.86zM5.41 20L4 18.59l7.72-7.72 1.47 1.35L5.41 20z\"/>\n",
              "  </svg>\n",
              "      </button>\n",
              "      \n",
              "  <style>\n",
              "    .colab-df-container {\n",
              "      display:flex;\n",
              "      flex-wrap:wrap;\n",
              "      gap: 12px;\n",
              "    }\n",
              "\n",
              "    .colab-df-convert {\n",
              "      background-color: #E8F0FE;\n",
              "      border: none;\n",
              "      border-radius: 50%;\n",
              "      cursor: pointer;\n",
              "      display: none;\n",
              "      fill: #1967D2;\n",
              "      height: 32px;\n",
              "      padding: 0 0 0 0;\n",
              "      width: 32px;\n",
              "    }\n",
              "\n",
              "    .colab-df-convert:hover {\n",
              "      background-color: #E2EBFA;\n",
              "      box-shadow: 0px 1px 2px rgba(60, 64, 67, 0.3), 0px 1px 3px 1px rgba(60, 64, 67, 0.15);\n",
              "      fill: #174EA6;\n",
              "    }\n",
              "\n",
              "    [theme=dark] .colab-df-convert {\n",
              "      background-color: #3B4455;\n",
              "      fill: #D2E3FC;\n",
              "    }\n",
              "\n",
              "    [theme=dark] .colab-df-convert:hover {\n",
              "      background-color: #434B5C;\n",
              "      box-shadow: 0px 1px 3px 1px rgba(0, 0, 0, 0.15);\n",
              "      filter: drop-shadow(0px 1px 2px rgba(0, 0, 0, 0.3));\n",
              "      fill: #FFFFFF;\n",
              "    }\n",
              "  </style>\n",
              "\n",
              "      <script>\n",
              "        const buttonEl =\n",
              "          document.querySelector('#df-817bb5ba-f322-4d8a-baa1-4ae584ae3e1a button.colab-df-convert');\n",
              "        buttonEl.style.display =\n",
              "          google.colab.kernel.accessAllowed ? 'block' : 'none';\n",
              "\n",
              "        async function convertToInteractive(key) {\n",
              "          const element = document.querySelector('#df-817bb5ba-f322-4d8a-baa1-4ae584ae3e1a');\n",
              "          const dataTable =\n",
              "            await google.colab.kernel.invokeFunction('convertToInteractive',\n",
              "                                                     [key], {});\n",
              "          if (!dataTable) return;\n",
              "\n",
              "          const docLinkHtml = 'Like what you see? Visit the ' +\n",
              "            '<a target=\"_blank\" href=https://colab.research.google.com/notebooks/data_table.ipynb>data table notebook</a>'\n",
              "            + ' to learn more about interactive tables.';\n",
              "          element.innerHTML = '';\n",
              "          dataTable['output_type'] = 'display_data';\n",
              "          await google.colab.output.renderOutput(dataTable, element);\n",
              "          const docLink = document.createElement('div');\n",
              "          docLink.innerHTML = docLinkHtml;\n",
              "          element.appendChild(docLink);\n",
              "        }\n",
              "      </script>\n",
              "    </div>\n",
              "  </div>\n",
              "  "
            ]
          },
          "metadata": {},
          "execution_count": 181
        }
      ]
    },
    {
      "cell_type": "code",
      "source": [
        "submission['price'] = prediction\n",
        "submission.head()"
      ],
      "metadata": {
        "colab": {
          "base_uri": "https://localhost:8080/",
          "height": 206
        },
        "id": "lE-BF9Tr0Isa",
        "outputId": "2949d118-03a2-412b-d468-00a7adc79ddc"
      },
      "execution_count": null,
      "outputs": [
        {
          "output_type": "execute_result",
          "data": {
            "text/plain": [
              "      id         price\n",
              "0  15035  5.067667e+05\n",
              "1  15036  4.795061e+05\n",
              "2  15037  1.345155e+06\n",
              "3  15038  3.122579e+05\n",
              "4  15039  3.338645e+05"
            ],
            "text/html": [
              "\n",
              "  <div id=\"df-8caf6309-bd77-456e-9c32-bea71f6528e9\">\n",
              "    <div class=\"colab-df-container\">\n",
              "      <div>\n",
              "<style scoped>\n",
              "    .dataframe tbody tr th:only-of-type {\n",
              "        vertical-align: middle;\n",
              "    }\n",
              "\n",
              "    .dataframe tbody tr th {\n",
              "        vertical-align: top;\n",
              "    }\n",
              "\n",
              "    .dataframe thead th {\n",
              "        text-align: right;\n",
              "    }\n",
              "</style>\n",
              "<table border=\"1\" class=\"dataframe\">\n",
              "  <thead>\n",
              "    <tr style=\"text-align: right;\">\n",
              "      <th></th>\n",
              "      <th>id</th>\n",
              "      <th>price</th>\n",
              "    </tr>\n",
              "  </thead>\n",
              "  <tbody>\n",
              "    <tr>\n",
              "      <th>0</th>\n",
              "      <td>15035</td>\n",
              "      <td>5.067667e+05</td>\n",
              "    </tr>\n",
              "    <tr>\n",
              "      <th>1</th>\n",
              "      <td>15036</td>\n",
              "      <td>4.795061e+05</td>\n",
              "    </tr>\n",
              "    <tr>\n",
              "      <th>2</th>\n",
              "      <td>15037</td>\n",
              "      <td>1.345155e+06</td>\n",
              "    </tr>\n",
              "    <tr>\n",
              "      <th>3</th>\n",
              "      <td>15038</td>\n",
              "      <td>3.122579e+05</td>\n",
              "    </tr>\n",
              "    <tr>\n",
              "      <th>4</th>\n",
              "      <td>15039</td>\n",
              "      <td>3.338645e+05</td>\n",
              "    </tr>\n",
              "  </tbody>\n",
              "</table>\n",
              "</div>\n",
              "      <button class=\"colab-df-convert\" onclick=\"convertToInteractive('df-8caf6309-bd77-456e-9c32-bea71f6528e9')\"\n",
              "              title=\"Convert this dataframe to an interactive table.\"\n",
              "              style=\"display:none;\">\n",
              "        \n",
              "  <svg xmlns=\"http://www.w3.org/2000/svg\" height=\"24px\"viewBox=\"0 0 24 24\"\n",
              "       width=\"24px\">\n",
              "    <path d=\"M0 0h24v24H0V0z\" fill=\"none\"/>\n",
              "    <path d=\"M18.56 5.44l.94 2.06.94-2.06 2.06-.94-2.06-.94-.94-2.06-.94 2.06-2.06.94zm-11 1L8.5 8.5l.94-2.06 2.06-.94-2.06-.94L8.5 2.5l-.94 2.06-2.06.94zm10 10l.94 2.06.94-2.06 2.06-.94-2.06-.94-.94-2.06-.94 2.06-2.06.94z\"/><path d=\"M17.41 7.96l-1.37-1.37c-.4-.4-.92-.59-1.43-.59-.52 0-1.04.2-1.43.59L10.3 9.45l-7.72 7.72c-.78.78-.78 2.05 0 2.83L4 21.41c.39.39.9.59 1.41.59.51 0 1.02-.2 1.41-.59l7.78-7.78 2.81-2.81c.8-.78.8-2.07 0-2.86zM5.41 20L4 18.59l7.72-7.72 1.47 1.35L5.41 20z\"/>\n",
              "  </svg>\n",
              "      </button>\n",
              "      \n",
              "  <style>\n",
              "    .colab-df-container {\n",
              "      display:flex;\n",
              "      flex-wrap:wrap;\n",
              "      gap: 12px;\n",
              "    }\n",
              "\n",
              "    .colab-df-convert {\n",
              "      background-color: #E8F0FE;\n",
              "      border: none;\n",
              "      border-radius: 50%;\n",
              "      cursor: pointer;\n",
              "      display: none;\n",
              "      fill: #1967D2;\n",
              "      height: 32px;\n",
              "      padding: 0 0 0 0;\n",
              "      width: 32px;\n",
              "    }\n",
              "\n",
              "    .colab-df-convert:hover {\n",
              "      background-color: #E2EBFA;\n",
              "      box-shadow: 0px 1px 2px rgba(60, 64, 67, 0.3), 0px 1px 3px 1px rgba(60, 64, 67, 0.15);\n",
              "      fill: #174EA6;\n",
              "    }\n",
              "\n",
              "    [theme=dark] .colab-df-convert {\n",
              "      background-color: #3B4455;\n",
              "      fill: #D2E3FC;\n",
              "    }\n",
              "\n",
              "    [theme=dark] .colab-df-convert:hover {\n",
              "      background-color: #434B5C;\n",
              "      box-shadow: 0px 1px 3px 1px rgba(0, 0, 0, 0.15);\n",
              "      filter: drop-shadow(0px 1px 2px rgba(0, 0, 0, 0.3));\n",
              "      fill: #FFFFFF;\n",
              "    }\n",
              "  </style>\n",
              "\n",
              "      <script>\n",
              "        const buttonEl =\n",
              "          document.querySelector('#df-8caf6309-bd77-456e-9c32-bea71f6528e9 button.colab-df-convert');\n",
              "        buttonEl.style.display =\n",
              "          google.colab.kernel.accessAllowed ? 'block' : 'none';\n",
              "\n",
              "        async function convertToInteractive(key) {\n",
              "          const element = document.querySelector('#df-8caf6309-bd77-456e-9c32-bea71f6528e9');\n",
              "          const dataTable =\n",
              "            await google.colab.kernel.invokeFunction('convertToInteractive',\n",
              "                                                     [key], {});\n",
              "          if (!dataTable) return;\n",
              "\n",
              "          const docLinkHtml = 'Like what you see? Visit the ' +\n",
              "            '<a target=\"_blank\" href=https://colab.research.google.com/notebooks/data_table.ipynb>data table notebook</a>'\n",
              "            + ' to learn more about interactive tables.';\n",
              "          element.innerHTML = '';\n",
              "          dataTable['output_type'] = 'display_data';\n",
              "          await google.colab.output.renderOutput(dataTable, element);\n",
              "          const docLink = document.createElement('div');\n",
              "          docLink.innerHTML = docLinkHtml;\n",
              "          element.appendChild(docLink);\n",
              "        }\n",
              "      </script>\n",
              "    </div>\n",
              "  </div>\n",
              "  "
            ]
          },
          "metadata": {},
          "execution_count": 182
        }
      ]
    },
    {
      "cell_type": "code",
      "source": [
        "submission_csv_path = 'submission_{}_RMSLE_{}.csv'.format('lgbm', '0.164399')\n",
        "submission.to_csv(submission_csv_path, index=False)\n",
        "print(submission_csv_path)"
      ],
      "metadata": {
        "colab": {
          "base_uri": "https://localhost:8080/"
        },
        "id": "jZafXu8w0IuY",
        "outputId": "7d145605-144c-4fe7-babe-0d18ad0099a5"
      },
      "execution_count": null,
      "outputs": [
        {
          "output_type": "stream",
          "name": "stdout",
          "text": [
            "submission_lgbm_RMSLE_0.164399.csv\n"
          ]
        }
      ]
    },
    {
      "cell_type": "code",
      "source": [
        "\n",
        "def save_submission(model, train, y, test, model_name, rmsle=None):\n",
        "    model.fit(train, y)\n",
        "    prediction = model.predict(test)\n",
        "    prediction = np.expm1(prediction)\n",
        "    data_path = '/content/gdrive/MyDrive/Colab Notebooks/ex3'\n",
        "    submission_path = '/content/gdrive/MyDrive/Colab Notebooks/ex3/sample_submission.csv'\n",
        "    submission = pd.read_csv(submission_path)\n",
        "    submission['price'] = prediction\n",
        "    submission_csv_path = '{}/submission_{}_RMSLE_{}.csv'.format(data_path, model_name, rmsle)\n",
        "    submission.to_csv(submission_csv_path, index=False)\n",
        "    print('{} saved!'.format(submission_csv_path))"
      ],
      "metadata": {
        "id": "9U4hoS__2WHw"
      },
      "execution_count": null,
      "outputs": []
    },
    {
      "cell_type": "code",
      "source": [
        "save_submission(model, train, y, test, 'lgbm', rmsle='0.0168')\n",
        "submission_csv_path = 'submission_{}_RMSLE_{}.csv'.format('lgbm', '0.164399')\n",
        "submission.to_csv(submission_csv_path, index=False)\n",
        "print(submission_csv_path)"
      ],
      "metadata": {
        "colab": {
          "base_uri": "https://localhost:8080/"
        },
        "id": "T3a4iS9I2WKJ",
        "outputId": "41a6abf2-09d7-4417-ef1c-bdb1a11e4e91"
      },
      "execution_count": null,
      "outputs": [
        {
          "output_type": "stream",
          "name": "stdout",
          "text": [
            "/content/gdrive/MyDrive/Colab Notebooks/ex3/submission_lgbm_RMSLE_0.0168.csv saved!\n",
            "submission_lgbm_RMSLE_0.164399.csv\n"
          ]
        }
      ]
    },
    {
      "cell_type": "code",
      "source": [
        "# 하이퍼 파라미터 튜닝하기\n",
        "param_grid = {\n",
        "        'n_estimators': [500,700,1000],\n",
        "    'max_depth': [5,50,100],\n",
        "    'learning_rate':[0.001,0.01,0.1]\n",
        "    \n",
        "}\n",
        "\n",
        "model = LGBMRegressor(random_state=2020)\n",
        "my_GridSearch(model, train, y, param_grid, verbose=2, n_jobs=5)\n"
      ],
      "metadata": {
        "id": "-q1u4P942WL9",
        "colab": {
          "base_uri": "https://localhost:8080/",
          "height": 914
        },
        "outputId": "1e9ffdb9-45f0-4fdb-e327-0256c2184274"
      },
      "execution_count": null,
      "outputs": [
        {
          "output_type": "stream",
          "name": "stdout",
          "text": [
            "Fitting 5 folds for each of 27 candidates, totalling 135 fits\n"
          ]
        },
        {
          "output_type": "execute_result",
          "data": {
            "text/plain": [
              "    learning_rate  max_depth  n_estimators     score     RMSLE\n",
              "24          0.100        100           500 -0.026340  0.162295\n",
              "21          0.100         50           500 -0.026340  0.162295\n",
              "18          0.100          5           500 -0.026456  0.162653\n",
              "22          0.100         50           700 -0.026517  0.162839\n",
              "25          0.100        100           700 -0.026517  0.162839\n",
              "19          0.100          5           700 -0.026569  0.163001\n",
              "17          0.010        100          1000 -0.026690  0.163371\n",
              "14          0.010         50          1000 -0.026690  0.163371\n",
              "26          0.100        100          1000 -0.026767  0.163605\n",
              "23          0.100         50          1000 -0.026767  0.163605\n",
              "20          0.100          5          1000 -0.026862  0.163896\n",
              "16          0.010        100           700 -0.027504  0.165844\n",
              "13          0.010         50           700 -0.027504  0.165844\n",
              "11          0.010          5          1000 -0.028535  0.168922\n",
              "15          0.010        100           500 -0.028965  0.170190\n",
              "12          0.010         50           500 -0.028965  0.170190\n",
              "10          0.010          5           700 -0.029870  0.172830\n",
              "9           0.010          5           500 -0.031638  0.177871\n",
              "8           0.001        100          1000 -0.081378  0.285269\n",
              "5           0.001         50          1000 -0.081378  0.285269\n",
              "2           0.001          5          1000 -0.083979  0.289791\n",
              "7           0.001        100           700 -0.109997  0.331658\n",
              "4           0.001         50           700 -0.109997  0.331658\n",
              "1           0.001          5           700 -0.112264  0.335058\n",
              "6           0.001        100           500 -0.139021  0.372855\n",
              "3           0.001         50           500 -0.139021  0.372855\n",
              "0           0.001          5           500 -0.141056  0.375575"
            ],
            "text/html": [
              "\n",
              "  <div id=\"df-e690ecce-aa26-45f9-a424-726208a86e13\">\n",
              "    <div class=\"colab-df-container\">\n",
              "      <div>\n",
              "<style scoped>\n",
              "    .dataframe tbody tr th:only-of-type {\n",
              "        vertical-align: middle;\n",
              "    }\n",
              "\n",
              "    .dataframe tbody tr th {\n",
              "        vertical-align: top;\n",
              "    }\n",
              "\n",
              "    .dataframe thead th {\n",
              "        text-align: right;\n",
              "    }\n",
              "</style>\n",
              "<table border=\"1\" class=\"dataframe\">\n",
              "  <thead>\n",
              "    <tr style=\"text-align: right;\">\n",
              "      <th></th>\n",
              "      <th>learning_rate</th>\n",
              "      <th>max_depth</th>\n",
              "      <th>n_estimators</th>\n",
              "      <th>score</th>\n",
              "      <th>RMSLE</th>\n",
              "    </tr>\n",
              "  </thead>\n",
              "  <tbody>\n",
              "    <tr>\n",
              "      <th>24</th>\n",
              "      <td>0.100</td>\n",
              "      <td>100</td>\n",
              "      <td>500</td>\n",
              "      <td>-0.026340</td>\n",
              "      <td>0.162295</td>\n",
              "    </tr>\n",
              "    <tr>\n",
              "      <th>21</th>\n",
              "      <td>0.100</td>\n",
              "      <td>50</td>\n",
              "      <td>500</td>\n",
              "      <td>-0.026340</td>\n",
              "      <td>0.162295</td>\n",
              "    </tr>\n",
              "    <tr>\n",
              "      <th>18</th>\n",
              "      <td>0.100</td>\n",
              "      <td>5</td>\n",
              "      <td>500</td>\n",
              "      <td>-0.026456</td>\n",
              "      <td>0.162653</td>\n",
              "    </tr>\n",
              "    <tr>\n",
              "      <th>22</th>\n",
              "      <td>0.100</td>\n",
              "      <td>50</td>\n",
              "      <td>700</td>\n",
              "      <td>-0.026517</td>\n",
              "      <td>0.162839</td>\n",
              "    </tr>\n",
              "    <tr>\n",
              "      <th>25</th>\n",
              "      <td>0.100</td>\n",
              "      <td>100</td>\n",
              "      <td>700</td>\n",
              "      <td>-0.026517</td>\n",
              "      <td>0.162839</td>\n",
              "    </tr>\n",
              "    <tr>\n",
              "      <th>19</th>\n",
              "      <td>0.100</td>\n",
              "      <td>5</td>\n",
              "      <td>700</td>\n",
              "      <td>-0.026569</td>\n",
              "      <td>0.163001</td>\n",
              "    </tr>\n",
              "    <tr>\n",
              "      <th>17</th>\n",
              "      <td>0.010</td>\n",
              "      <td>100</td>\n",
              "      <td>1000</td>\n",
              "      <td>-0.026690</td>\n",
              "      <td>0.163371</td>\n",
              "    </tr>\n",
              "    <tr>\n",
              "      <th>14</th>\n",
              "      <td>0.010</td>\n",
              "      <td>50</td>\n",
              "      <td>1000</td>\n",
              "      <td>-0.026690</td>\n",
              "      <td>0.163371</td>\n",
              "    </tr>\n",
              "    <tr>\n",
              "      <th>26</th>\n",
              "      <td>0.100</td>\n",
              "      <td>100</td>\n",
              "      <td>1000</td>\n",
              "      <td>-0.026767</td>\n",
              "      <td>0.163605</td>\n",
              "    </tr>\n",
              "    <tr>\n",
              "      <th>23</th>\n",
              "      <td>0.100</td>\n",
              "      <td>50</td>\n",
              "      <td>1000</td>\n",
              "      <td>-0.026767</td>\n",
              "      <td>0.163605</td>\n",
              "    </tr>\n",
              "    <tr>\n",
              "      <th>20</th>\n",
              "      <td>0.100</td>\n",
              "      <td>5</td>\n",
              "      <td>1000</td>\n",
              "      <td>-0.026862</td>\n",
              "      <td>0.163896</td>\n",
              "    </tr>\n",
              "    <tr>\n",
              "      <th>16</th>\n",
              "      <td>0.010</td>\n",
              "      <td>100</td>\n",
              "      <td>700</td>\n",
              "      <td>-0.027504</td>\n",
              "      <td>0.165844</td>\n",
              "    </tr>\n",
              "    <tr>\n",
              "      <th>13</th>\n",
              "      <td>0.010</td>\n",
              "      <td>50</td>\n",
              "      <td>700</td>\n",
              "      <td>-0.027504</td>\n",
              "      <td>0.165844</td>\n",
              "    </tr>\n",
              "    <tr>\n",
              "      <th>11</th>\n",
              "      <td>0.010</td>\n",
              "      <td>5</td>\n",
              "      <td>1000</td>\n",
              "      <td>-0.028535</td>\n",
              "      <td>0.168922</td>\n",
              "    </tr>\n",
              "    <tr>\n",
              "      <th>15</th>\n",
              "      <td>0.010</td>\n",
              "      <td>100</td>\n",
              "      <td>500</td>\n",
              "      <td>-0.028965</td>\n",
              "      <td>0.170190</td>\n",
              "    </tr>\n",
              "    <tr>\n",
              "      <th>12</th>\n",
              "      <td>0.010</td>\n",
              "      <td>50</td>\n",
              "      <td>500</td>\n",
              "      <td>-0.028965</td>\n",
              "      <td>0.170190</td>\n",
              "    </tr>\n",
              "    <tr>\n",
              "      <th>10</th>\n",
              "      <td>0.010</td>\n",
              "      <td>5</td>\n",
              "      <td>700</td>\n",
              "      <td>-0.029870</td>\n",
              "      <td>0.172830</td>\n",
              "    </tr>\n",
              "    <tr>\n",
              "      <th>9</th>\n",
              "      <td>0.010</td>\n",
              "      <td>5</td>\n",
              "      <td>500</td>\n",
              "      <td>-0.031638</td>\n",
              "      <td>0.177871</td>\n",
              "    </tr>\n",
              "    <tr>\n",
              "      <th>8</th>\n",
              "      <td>0.001</td>\n",
              "      <td>100</td>\n",
              "      <td>1000</td>\n",
              "      <td>-0.081378</td>\n",
              "      <td>0.285269</td>\n",
              "    </tr>\n",
              "    <tr>\n",
              "      <th>5</th>\n",
              "      <td>0.001</td>\n",
              "      <td>50</td>\n",
              "      <td>1000</td>\n",
              "      <td>-0.081378</td>\n",
              "      <td>0.285269</td>\n",
              "    </tr>\n",
              "    <tr>\n",
              "      <th>2</th>\n",
              "      <td>0.001</td>\n",
              "      <td>5</td>\n",
              "      <td>1000</td>\n",
              "      <td>-0.083979</td>\n",
              "      <td>0.289791</td>\n",
              "    </tr>\n",
              "    <tr>\n",
              "      <th>7</th>\n",
              "      <td>0.001</td>\n",
              "      <td>100</td>\n",
              "      <td>700</td>\n",
              "      <td>-0.109997</td>\n",
              "      <td>0.331658</td>\n",
              "    </tr>\n",
              "    <tr>\n",
              "      <th>4</th>\n",
              "      <td>0.001</td>\n",
              "      <td>50</td>\n",
              "      <td>700</td>\n",
              "      <td>-0.109997</td>\n",
              "      <td>0.331658</td>\n",
              "    </tr>\n",
              "    <tr>\n",
              "      <th>1</th>\n",
              "      <td>0.001</td>\n",
              "      <td>5</td>\n",
              "      <td>700</td>\n",
              "      <td>-0.112264</td>\n",
              "      <td>0.335058</td>\n",
              "    </tr>\n",
              "    <tr>\n",
              "      <th>6</th>\n",
              "      <td>0.001</td>\n",
              "      <td>100</td>\n",
              "      <td>500</td>\n",
              "      <td>-0.139021</td>\n",
              "      <td>0.372855</td>\n",
              "    </tr>\n",
              "    <tr>\n",
              "      <th>3</th>\n",
              "      <td>0.001</td>\n",
              "      <td>50</td>\n",
              "      <td>500</td>\n",
              "      <td>-0.139021</td>\n",
              "      <td>0.372855</td>\n",
              "    </tr>\n",
              "    <tr>\n",
              "      <th>0</th>\n",
              "      <td>0.001</td>\n",
              "      <td>5</td>\n",
              "      <td>500</td>\n",
              "      <td>-0.141056</td>\n",
              "      <td>0.375575</td>\n",
              "    </tr>\n",
              "  </tbody>\n",
              "</table>\n",
              "</div>\n",
              "      <button class=\"colab-df-convert\" onclick=\"convertToInteractive('df-e690ecce-aa26-45f9-a424-726208a86e13')\"\n",
              "              title=\"Convert this dataframe to an interactive table.\"\n",
              "              style=\"display:none;\">\n",
              "        \n",
              "  <svg xmlns=\"http://www.w3.org/2000/svg\" height=\"24px\"viewBox=\"0 0 24 24\"\n",
              "       width=\"24px\">\n",
              "    <path d=\"M0 0h24v24H0V0z\" fill=\"none\"/>\n",
              "    <path d=\"M18.56 5.44l.94 2.06.94-2.06 2.06-.94-2.06-.94-.94-2.06-.94 2.06-2.06.94zm-11 1L8.5 8.5l.94-2.06 2.06-.94-2.06-.94L8.5 2.5l-.94 2.06-2.06.94zm10 10l.94 2.06.94-2.06 2.06-.94-2.06-.94-.94-2.06-.94 2.06-2.06.94z\"/><path d=\"M17.41 7.96l-1.37-1.37c-.4-.4-.92-.59-1.43-.59-.52 0-1.04.2-1.43.59L10.3 9.45l-7.72 7.72c-.78.78-.78 2.05 0 2.83L4 21.41c.39.39.9.59 1.41.59.51 0 1.02-.2 1.41-.59l7.78-7.78 2.81-2.81c.8-.78.8-2.07 0-2.86zM5.41 20L4 18.59l7.72-7.72 1.47 1.35L5.41 20z\"/>\n",
              "  </svg>\n",
              "      </button>\n",
              "      \n",
              "  <style>\n",
              "    .colab-df-container {\n",
              "      display:flex;\n",
              "      flex-wrap:wrap;\n",
              "      gap: 12px;\n",
              "    }\n",
              "\n",
              "    .colab-df-convert {\n",
              "      background-color: #E8F0FE;\n",
              "      border: none;\n",
              "      border-radius: 50%;\n",
              "      cursor: pointer;\n",
              "      display: none;\n",
              "      fill: #1967D2;\n",
              "      height: 32px;\n",
              "      padding: 0 0 0 0;\n",
              "      width: 32px;\n",
              "    }\n",
              "\n",
              "    .colab-df-convert:hover {\n",
              "      background-color: #E2EBFA;\n",
              "      box-shadow: 0px 1px 2px rgba(60, 64, 67, 0.3), 0px 1px 3px 1px rgba(60, 64, 67, 0.15);\n",
              "      fill: #174EA6;\n",
              "    }\n",
              "\n",
              "    [theme=dark] .colab-df-convert {\n",
              "      background-color: #3B4455;\n",
              "      fill: #D2E3FC;\n",
              "    }\n",
              "\n",
              "    [theme=dark] .colab-df-convert:hover {\n",
              "      background-color: #434B5C;\n",
              "      box-shadow: 0px 1px 3px 1px rgba(0, 0, 0, 0.15);\n",
              "      filter: drop-shadow(0px 1px 2px rgba(0, 0, 0, 0.3));\n",
              "      fill: #FFFFFF;\n",
              "    }\n",
              "  </style>\n",
              "\n",
              "      <script>\n",
              "        const buttonEl =\n",
              "          document.querySelector('#df-e690ecce-aa26-45f9-a424-726208a86e13 button.colab-df-convert');\n",
              "        buttonEl.style.display =\n",
              "          google.colab.kernel.accessAllowed ? 'block' : 'none';\n",
              "\n",
              "        async function convertToInteractive(key) {\n",
              "          const element = document.querySelector('#df-e690ecce-aa26-45f9-a424-726208a86e13');\n",
              "          const dataTable =\n",
              "            await google.colab.kernel.invokeFunction('convertToInteractive',\n",
              "                                                     [key], {});\n",
              "          if (!dataTable) return;\n",
              "\n",
              "          const docLinkHtml = 'Like what you see? Visit the ' +\n",
              "            '<a target=\"_blank\" href=https://colab.research.google.com/notebooks/data_table.ipynb>data table notebook</a>'\n",
              "            + ' to learn more about interactive tables.';\n",
              "          element.innerHTML = '';\n",
              "          dataTable['output_type'] = 'display_data';\n",
              "          await google.colab.output.renderOutput(dataTable, element);\n",
              "          const docLink = document.createElement('div');\n",
              "          docLink.innerHTML = docLinkHtml;\n",
              "          element.appendChild(docLink);\n",
              "        }\n",
              "      </script>\n",
              "    </div>\n",
              "  </div>\n",
              "  "
            ]
          },
          "metadata": {},
          "execution_count": 186
        }
      ]
    },
    {
      "cell_type": "code",
      "source": [
        "model = LGBMRegressor(max_depth=100, n_estimators=500, learning_rate = 0.01, random_state=random_state)\n",
        "model.fit(train, y)\n",
        "prediction = model.predict(test)\n",
        "prediction"
      ],
      "metadata": {
        "colab": {
          "base_uri": "https://localhost:8080/"
        },
        "id": "cY_4EEBQ01N_",
        "outputId": "7a864ecb-93dc-4794-9b9b-80da34b6aa85"
      },
      "execution_count": null,
      "outputs": [
        {
          "output_type": "execute_result",
          "data": {
            "text/plain": [
              "array([13.12583344, 13.00549524, 14.09032113, ..., 13.02320327,\n",
              "       12.70733093, 12.95329797])"
            ]
          },
          "metadata": {},
          "execution_count": 187
        }
      ]
    },
    {
      "cell_type": "code",
      "source": [
        "prediction = np.expm1(prediction)\n",
        "prediction"
      ],
      "metadata": {
        "colab": {
          "base_uri": "https://localhost:8080/"
        },
        "id": "m2wTxz9u8qdb",
        "outputId": "6c879288-1e11-4fe1-e2b8-fa0ee37a0bea"
      },
      "execution_count": null,
      "outputs": [
        {
          "output_type": "execute_result",
          "data": {
            "text/plain": [
              "array([ 501737.04561467,  444850.25077021, 1316280.30470862, ...,\n",
              "        452797.85198736,  330158.42876716,  422225.83435796])"
            ]
          },
          "metadata": {},
          "execution_count": 188
        }
      ]
    },
    {
      "cell_type": "code",
      "source": [
        "submission_path = '/content/gdrive/MyDrive/Colab Notebooks/ex3/sample_submission.csv'\n",
        "print(submission_path)\n",
        "submission = pd.read_csv(submission_path)\n",
        "submission.head()"
      ],
      "metadata": {
        "colab": {
          "base_uri": "https://localhost:8080/",
          "height": 224
        },
        "id": "ac1DgwcZ8uDD",
        "outputId": "8b99e35a-9033-49e3-b892-72c906c26238"
      },
      "execution_count": null,
      "outputs": [
        {
          "output_type": "stream",
          "name": "stdout",
          "text": [
            "/content/gdrive/MyDrive/Colab Notebooks/ex3/sample_submission.csv\n"
          ]
        },
        {
          "output_type": "execute_result",
          "data": {
            "text/plain": [
              "      id         price\n",
              "0  15035  5.625664e+05\n",
              "1  15036  3.896607e+05\n",
              "2  15037  1.340643e+06\n",
              "3  15038  3.317573e+05\n",
              "4  15039  2.966855e+05"
            ],
            "text/html": [
              "\n",
              "  <div id=\"df-0f368f43-ba03-44ac-ab0a-a9f2043e9f1f\">\n",
              "    <div class=\"colab-df-container\">\n",
              "      <div>\n",
              "<style scoped>\n",
              "    .dataframe tbody tr th:only-of-type {\n",
              "        vertical-align: middle;\n",
              "    }\n",
              "\n",
              "    .dataframe tbody tr th {\n",
              "        vertical-align: top;\n",
              "    }\n",
              "\n",
              "    .dataframe thead th {\n",
              "        text-align: right;\n",
              "    }\n",
              "</style>\n",
              "<table border=\"1\" class=\"dataframe\">\n",
              "  <thead>\n",
              "    <tr style=\"text-align: right;\">\n",
              "      <th></th>\n",
              "      <th>id</th>\n",
              "      <th>price</th>\n",
              "    </tr>\n",
              "  </thead>\n",
              "  <tbody>\n",
              "    <tr>\n",
              "      <th>0</th>\n",
              "      <td>15035</td>\n",
              "      <td>5.625664e+05</td>\n",
              "    </tr>\n",
              "    <tr>\n",
              "      <th>1</th>\n",
              "      <td>15036</td>\n",
              "      <td>3.896607e+05</td>\n",
              "    </tr>\n",
              "    <tr>\n",
              "      <th>2</th>\n",
              "      <td>15037</td>\n",
              "      <td>1.340643e+06</td>\n",
              "    </tr>\n",
              "    <tr>\n",
              "      <th>3</th>\n",
              "      <td>15038</td>\n",
              "      <td>3.317573e+05</td>\n",
              "    </tr>\n",
              "    <tr>\n",
              "      <th>4</th>\n",
              "      <td>15039</td>\n",
              "      <td>2.966855e+05</td>\n",
              "    </tr>\n",
              "  </tbody>\n",
              "</table>\n",
              "</div>\n",
              "      <button class=\"colab-df-convert\" onclick=\"convertToInteractive('df-0f368f43-ba03-44ac-ab0a-a9f2043e9f1f')\"\n",
              "              title=\"Convert this dataframe to an interactive table.\"\n",
              "              style=\"display:none;\">\n",
              "        \n",
              "  <svg xmlns=\"http://www.w3.org/2000/svg\" height=\"24px\"viewBox=\"0 0 24 24\"\n",
              "       width=\"24px\">\n",
              "    <path d=\"M0 0h24v24H0V0z\" fill=\"none\"/>\n",
              "    <path d=\"M18.56 5.44l.94 2.06.94-2.06 2.06-.94-2.06-.94-.94-2.06-.94 2.06-2.06.94zm-11 1L8.5 8.5l.94-2.06 2.06-.94-2.06-.94L8.5 2.5l-.94 2.06-2.06.94zm10 10l.94 2.06.94-2.06 2.06-.94-2.06-.94-.94-2.06-.94 2.06-2.06.94z\"/><path d=\"M17.41 7.96l-1.37-1.37c-.4-.4-.92-.59-1.43-.59-.52 0-1.04.2-1.43.59L10.3 9.45l-7.72 7.72c-.78.78-.78 2.05 0 2.83L4 21.41c.39.39.9.59 1.41.59.51 0 1.02-.2 1.41-.59l7.78-7.78 2.81-2.81c.8-.78.8-2.07 0-2.86zM5.41 20L4 18.59l7.72-7.72 1.47 1.35L5.41 20z\"/>\n",
              "  </svg>\n",
              "      </button>\n",
              "      \n",
              "  <style>\n",
              "    .colab-df-container {\n",
              "      display:flex;\n",
              "      flex-wrap:wrap;\n",
              "      gap: 12px;\n",
              "    }\n",
              "\n",
              "    .colab-df-convert {\n",
              "      background-color: #E8F0FE;\n",
              "      border: none;\n",
              "      border-radius: 50%;\n",
              "      cursor: pointer;\n",
              "      display: none;\n",
              "      fill: #1967D2;\n",
              "      height: 32px;\n",
              "      padding: 0 0 0 0;\n",
              "      width: 32px;\n",
              "    }\n",
              "\n",
              "    .colab-df-convert:hover {\n",
              "      background-color: #E2EBFA;\n",
              "      box-shadow: 0px 1px 2px rgba(60, 64, 67, 0.3), 0px 1px 3px 1px rgba(60, 64, 67, 0.15);\n",
              "      fill: #174EA6;\n",
              "    }\n",
              "\n",
              "    [theme=dark] .colab-df-convert {\n",
              "      background-color: #3B4455;\n",
              "      fill: #D2E3FC;\n",
              "    }\n",
              "\n",
              "    [theme=dark] .colab-df-convert:hover {\n",
              "      background-color: #434B5C;\n",
              "      box-shadow: 0px 1px 3px 1px rgba(0, 0, 0, 0.15);\n",
              "      filter: drop-shadow(0px 1px 2px rgba(0, 0, 0, 0.3));\n",
              "      fill: #FFFFFF;\n",
              "    }\n",
              "  </style>\n",
              "\n",
              "      <script>\n",
              "        const buttonEl =\n",
              "          document.querySelector('#df-0f368f43-ba03-44ac-ab0a-a9f2043e9f1f button.colab-df-convert');\n",
              "        buttonEl.style.display =\n",
              "          google.colab.kernel.accessAllowed ? 'block' : 'none';\n",
              "\n",
              "        async function convertToInteractive(key) {\n",
              "          const element = document.querySelector('#df-0f368f43-ba03-44ac-ab0a-a9f2043e9f1f');\n",
              "          const dataTable =\n",
              "            await google.colab.kernel.invokeFunction('convertToInteractive',\n",
              "                                                     [key], {});\n",
              "          if (!dataTable) return;\n",
              "\n",
              "          const docLinkHtml = 'Like what you see? Visit the ' +\n",
              "            '<a target=\"_blank\" href=https://colab.research.google.com/notebooks/data_table.ipynb>data table notebook</a>'\n",
              "            + ' to learn more about interactive tables.';\n",
              "          element.innerHTML = '';\n",
              "          dataTable['output_type'] = 'display_data';\n",
              "          await google.colab.output.renderOutput(dataTable, element);\n",
              "          const docLink = document.createElement('div');\n",
              "          docLink.innerHTML = docLinkHtml;\n",
              "          element.appendChild(docLink);\n",
              "        }\n",
              "      </script>\n",
              "    </div>\n",
              "  </div>\n",
              "  "
            ]
          },
          "metadata": {},
          "execution_count": 189
        }
      ]
    },
    {
      "cell_type": "code",
      "source": [
        "\n",
        "submission['price'] = prediction\n",
        "submission.head()"
      ],
      "metadata": {
        "colab": {
          "base_uri": "https://localhost:8080/",
          "height": 206
        },
        "id": "Cg4od-rX8ym9",
        "outputId": "c1e8a494-4c14-487e-e450-952364dfe426"
      },
      "execution_count": null,
      "outputs": [
        {
          "output_type": "execute_result",
          "data": {
            "text/plain": [
              "      id         price\n",
              "0  15035  5.017370e+05\n",
              "1  15036  4.448503e+05\n",
              "2  15037  1.316280e+06\n",
              "3  15038  3.228301e+05\n",
              "4  15039  3.230633e+05"
            ],
            "text/html": [
              "\n",
              "  <div id=\"df-5c0b2798-a5fd-433d-b42c-c05bcfaad1c8\">\n",
              "    <div class=\"colab-df-container\">\n",
              "      <div>\n",
              "<style scoped>\n",
              "    .dataframe tbody tr th:only-of-type {\n",
              "        vertical-align: middle;\n",
              "    }\n",
              "\n",
              "    .dataframe tbody tr th {\n",
              "        vertical-align: top;\n",
              "    }\n",
              "\n",
              "    .dataframe thead th {\n",
              "        text-align: right;\n",
              "    }\n",
              "</style>\n",
              "<table border=\"1\" class=\"dataframe\">\n",
              "  <thead>\n",
              "    <tr style=\"text-align: right;\">\n",
              "      <th></th>\n",
              "      <th>id</th>\n",
              "      <th>price</th>\n",
              "    </tr>\n",
              "  </thead>\n",
              "  <tbody>\n",
              "    <tr>\n",
              "      <th>0</th>\n",
              "      <td>15035</td>\n",
              "      <td>5.017370e+05</td>\n",
              "    </tr>\n",
              "    <tr>\n",
              "      <th>1</th>\n",
              "      <td>15036</td>\n",
              "      <td>4.448503e+05</td>\n",
              "    </tr>\n",
              "    <tr>\n",
              "      <th>2</th>\n",
              "      <td>15037</td>\n",
              "      <td>1.316280e+06</td>\n",
              "    </tr>\n",
              "    <tr>\n",
              "      <th>3</th>\n",
              "      <td>15038</td>\n",
              "      <td>3.228301e+05</td>\n",
              "    </tr>\n",
              "    <tr>\n",
              "      <th>4</th>\n",
              "      <td>15039</td>\n",
              "      <td>3.230633e+05</td>\n",
              "    </tr>\n",
              "  </tbody>\n",
              "</table>\n",
              "</div>\n",
              "      <button class=\"colab-df-convert\" onclick=\"convertToInteractive('df-5c0b2798-a5fd-433d-b42c-c05bcfaad1c8')\"\n",
              "              title=\"Convert this dataframe to an interactive table.\"\n",
              "              style=\"display:none;\">\n",
              "        \n",
              "  <svg xmlns=\"http://www.w3.org/2000/svg\" height=\"24px\"viewBox=\"0 0 24 24\"\n",
              "       width=\"24px\">\n",
              "    <path d=\"M0 0h24v24H0V0z\" fill=\"none\"/>\n",
              "    <path d=\"M18.56 5.44l.94 2.06.94-2.06 2.06-.94-2.06-.94-.94-2.06-.94 2.06-2.06.94zm-11 1L8.5 8.5l.94-2.06 2.06-.94-2.06-.94L8.5 2.5l-.94 2.06-2.06.94zm10 10l.94 2.06.94-2.06 2.06-.94-2.06-.94-.94-2.06-.94 2.06-2.06.94z\"/><path d=\"M17.41 7.96l-1.37-1.37c-.4-.4-.92-.59-1.43-.59-.52 0-1.04.2-1.43.59L10.3 9.45l-7.72 7.72c-.78.78-.78 2.05 0 2.83L4 21.41c.39.39.9.59 1.41.59.51 0 1.02-.2 1.41-.59l7.78-7.78 2.81-2.81c.8-.78.8-2.07 0-2.86zM5.41 20L4 18.59l7.72-7.72 1.47 1.35L5.41 20z\"/>\n",
              "  </svg>\n",
              "      </button>\n",
              "      \n",
              "  <style>\n",
              "    .colab-df-container {\n",
              "      display:flex;\n",
              "      flex-wrap:wrap;\n",
              "      gap: 12px;\n",
              "    }\n",
              "\n",
              "    .colab-df-convert {\n",
              "      background-color: #E8F0FE;\n",
              "      border: none;\n",
              "      border-radius: 50%;\n",
              "      cursor: pointer;\n",
              "      display: none;\n",
              "      fill: #1967D2;\n",
              "      height: 32px;\n",
              "      padding: 0 0 0 0;\n",
              "      width: 32px;\n",
              "    }\n",
              "\n",
              "    .colab-df-convert:hover {\n",
              "      background-color: #E2EBFA;\n",
              "      box-shadow: 0px 1px 2px rgba(60, 64, 67, 0.3), 0px 1px 3px 1px rgba(60, 64, 67, 0.15);\n",
              "      fill: #174EA6;\n",
              "    }\n",
              "\n",
              "    [theme=dark] .colab-df-convert {\n",
              "      background-color: #3B4455;\n",
              "      fill: #D2E3FC;\n",
              "    }\n",
              "\n",
              "    [theme=dark] .colab-df-convert:hover {\n",
              "      background-color: #434B5C;\n",
              "      box-shadow: 0px 1px 3px 1px rgba(0, 0, 0, 0.15);\n",
              "      filter: drop-shadow(0px 1px 2px rgba(0, 0, 0, 0.3));\n",
              "      fill: #FFFFFF;\n",
              "    }\n",
              "  </style>\n",
              "\n",
              "      <script>\n",
              "        const buttonEl =\n",
              "          document.querySelector('#df-5c0b2798-a5fd-433d-b42c-c05bcfaad1c8 button.colab-df-convert');\n",
              "        buttonEl.style.display =\n",
              "          google.colab.kernel.accessAllowed ? 'block' : 'none';\n",
              "\n",
              "        async function convertToInteractive(key) {\n",
              "          const element = document.querySelector('#df-5c0b2798-a5fd-433d-b42c-c05bcfaad1c8');\n",
              "          const dataTable =\n",
              "            await google.colab.kernel.invokeFunction('convertToInteractive',\n",
              "                                                     [key], {});\n",
              "          if (!dataTable) return;\n",
              "\n",
              "          const docLinkHtml = 'Like what you see? Visit the ' +\n",
              "            '<a target=\"_blank\" href=https://colab.research.google.com/notebooks/data_table.ipynb>data table notebook</a>'\n",
              "            + ' to learn more about interactive tables.';\n",
              "          element.innerHTML = '';\n",
              "          dataTable['output_type'] = 'display_data';\n",
              "          await google.colab.output.renderOutput(dataTable, element);\n",
              "          const docLink = document.createElement('div');\n",
              "          docLink.innerHTML = docLinkHtml;\n",
              "          element.appendChild(docLink);\n",
              "        }\n",
              "      </script>\n",
              "    </div>\n",
              "  </div>\n",
              "  "
            ]
          },
          "metadata": {},
          "execution_count": 190
        }
      ]
    },
    {
      "cell_type": "code",
      "source": [
        "submission_csv_path = 'submission_{}_RMSLE_{}.csv'.format('lgbm', '0.164399')\n",
        "submission.to_csv(submission_csv_path, index=False)\n",
        "print(submission_csv_path)"
      ],
      "metadata": {
        "colab": {
          "base_uri": "https://localhost:8080/"
        },
        "id": "yI0RuK2C81ns",
        "outputId": "88bdb60b-bce5-40ca-f34c-fa15a5390ad9"
      },
      "execution_count": null,
      "outputs": [
        {
          "output_type": "stream",
          "name": "stdout",
          "text": [
            "submission_lgbm_RMSLE_0.164399.csv\n"
          ]
        }
      ]
    },
    {
      "cell_type": "code",
      "source": [
        "save_submission(model, train, y, test, 'lgbm', rmsle='0.0168')\n",
        "submission_csv_path = 'submission_{}_RMSLE_{}.csv'.format('lgbm', '0.164399')\n",
        "submission.to_csv(submission_csv_path, index=False)\n",
        "print(submission_csv_path)"
      ],
      "metadata": {
        "colab": {
          "base_uri": "https://localhost:8080/"
        },
        "id": "60KvIjrd81vE",
        "outputId": "4f57842b-ad70-484a-cb3f-64616e318a85"
      },
      "execution_count": null,
      "outputs": [
        {
          "output_type": "stream",
          "name": "stdout",
          "text": [
            "/content/gdrive/MyDrive/Colab Notebooks/ex3/submission_lgbm_RMSLE_0.0168.csv saved!\n",
            "submission_lgbm_RMSLE_0.164399.csv\n"
          ]
        }
      ]
    },
    {
      "cell_type": "markdown",
      "source": [
        "![image.png](data:image/png;base64,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)"
      ],
      "metadata": {
        "id": "j6NT7mq-5XiV"
      }
    }
  ]
}