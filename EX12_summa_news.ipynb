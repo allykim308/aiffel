{
 "cells": [
  {
   "cell_type": "markdown",
   "id": "d82498ff",
   "metadata": {},
   "source": [
    "# 뉴스기사 요약해보기"
   ]
  },
  {
   "cell_type": "code",
   "execution_count": 101,
   "id": "efc18c34",
   "metadata": {},
   "outputs": [
    {
     "name": "stdout",
     "output_type": "stream",
     "text": [
      "3.6.5\n",
      "2.6.0\n",
      "1.2.0\n"
     ]
    },
    {
     "name": "stderr",
     "output_type": "stream",
     "text": [
      "[nltk_data] Downloading package stopwords to /aiffel/nltk_data...\n",
      "[nltk_data]   Package stopwords is already up-to-date!\n"
     ]
    }
   ],
   "source": [
    "from importlib.metadata import version\n",
    "import nltk\n",
    "nltk.download('stopwords')\n",
    "import tensorflow\n",
    "import summa\n",
    "import pandas as pd\n",
    "\n",
    "print(nltk.__version__)\n",
    "print(tensorflow.__version__)\n",
    "print(version('summa'))"
   ]
  },
  {
   "cell_type": "code",
   "execution_count": 102,
   "id": "79d0ca90",
   "metadata": {},
   "outputs": [],
   "source": [
    "import urllib.request\n",
    "urllib.request.urlretrieve(\"https://raw.githubusercontent.com/sunnysai12345/News_Summary/master/news_summary_more.csv\", filename=\"news_summary_more.csv\")\n",
    "data = pd.read_csv('news_summary_more.csv', encoding='iso-8859-1')"
   ]
  },
  {
   "cell_type": "code",
   "execution_count": 3,
   "id": "fb868964",
   "metadata": {},
   "outputs": [
    {
     "data": {
      "text/html": [
       "<div>\n",
       "<style scoped>\n",
       "    .dataframe tbody tr th:only-of-type {\n",
       "        vertical-align: middle;\n",
       "    }\n",
       "\n",
       "    .dataframe tbody tr th {\n",
       "        vertical-align: top;\n",
       "    }\n",
       "\n",
       "    .dataframe thead th {\n",
       "        text-align: right;\n",
       "    }\n",
       "</style>\n",
       "<table border=\"1\" class=\"dataframe\">\n",
       "  <thead>\n",
       "    <tr style=\"text-align: right;\">\n",
       "      <th></th>\n",
       "      <th>headlines</th>\n",
       "      <th>text</th>\n",
       "    </tr>\n",
       "  </thead>\n",
       "  <tbody>\n",
       "    <tr>\n",
       "      <th>85714</th>\n",
       "      <td>Hard yet elastic, electrically conductive carb...</td>\n",
       "      <td>Scientists have developed an ultrastrong, ligh...</td>\n",
       "    </tr>\n",
       "    <tr>\n",
       "      <th>41234</th>\n",
       "      <td>Snapchat trolls FB with April Fools' Russian b...</td>\n",
       "      <td>Photo-sharing app Snapchat trolled Facebook on...</td>\n",
       "    </tr>\n",
       "    <tr>\n",
       "      <th>65244</th>\n",
       "      <td>Kerala High Court restores life ban on S Srees...</td>\n",
       "      <td>The life ban imposed on fast bowler S Sreesant...</td>\n",
       "    </tr>\n",
       "    <tr>\n",
       "      <th>81818</th>\n",
       "      <td>Govt approves renaming of Ganda, Kinnar villag...</td>\n",
       "      <td>The central government has approved the renami...</td>\n",
       "    </tr>\n",
       "    <tr>\n",
       "      <th>66321</th>\n",
       "      <td>IIT Kanpur suspends 16 students for 3 years fo...</td>\n",
       "      <td>IIT Kanpur on Monday suspended 16 students for...</td>\n",
       "    </tr>\n",
       "    <tr>\n",
       "      <th>80674</th>\n",
       "      <td>Swords used in 'Game of Thrones' are made in I...</td>\n",
       "      <td>The swords used in American fantasy-drama tele...</td>\n",
       "    </tr>\n",
       "    <tr>\n",
       "      <th>86543</th>\n",
       "      <td>Couple makes kids quit school, sells possessio...</td>\n",
       "      <td>A young couple from Wales has made their child...</td>\n",
       "    </tr>\n",
       "    <tr>\n",
       "      <th>96892</th>\n",
       "      <td>No question of supplying Cauvery water to Tami...</td>\n",
       "      <td>The Karnataka government on Friday said there ...</td>\n",
       "    </tr>\n",
       "    <tr>\n",
       "      <th>2263</th>\n",
       "      <td>US startup makes wristband that can control bo...</td>\n",
       "      <td>US-based MIT scientists' startup Embr Labs sho...</td>\n",
       "    </tr>\n",
       "    <tr>\n",
       "      <th>34345</th>\n",
       "      <td>Warner's brother-in-law smashes window of phot...</td>\n",
       "      <td>Australia's David Warner, who is serving a ban...</td>\n",
       "    </tr>\n",
       "  </tbody>\n",
       "</table>\n",
       "</div>"
      ],
      "text/plain": [
       "                                               headlines  \\\n",
       "85714  Hard yet elastic, electrically conductive carb...   \n",
       "41234  Snapchat trolls FB with April Fools' Russian b...   \n",
       "65244  Kerala High Court restores life ban on S Srees...   \n",
       "81818  Govt approves renaming of Ganda, Kinnar villag...   \n",
       "66321  IIT Kanpur suspends 16 students for 3 years fo...   \n",
       "80674  Swords used in 'Game of Thrones' are made in I...   \n",
       "86543  Couple makes kids quit school, sells possessio...   \n",
       "96892  No question of supplying Cauvery water to Tami...   \n",
       "2263   US startup makes wristband that can control bo...   \n",
       "34345  Warner's brother-in-law smashes window of phot...   \n",
       "\n",
       "                                                    text  \n",
       "85714  Scientists have developed an ultrastrong, ligh...  \n",
       "41234  Photo-sharing app Snapchat trolled Facebook on...  \n",
       "65244  The life ban imposed on fast bowler S Sreesant...  \n",
       "81818  The central government has approved the renami...  \n",
       "66321  IIT Kanpur on Monday suspended 16 students for...  \n",
       "80674  The swords used in American fantasy-drama tele...  \n",
       "86543  A young couple from Wales has made their child...  \n",
       "96892  The Karnataka government on Friday said there ...  \n",
       "2263   US-based MIT scientists' startup Embr Labs sho...  \n",
       "34345  Australia's David Warner, who is serving a ban...  "
      ]
     },
     "execution_count": 3,
     "metadata": {},
     "output_type": "execute_result"
    }
   ],
   "source": [
    "data.sample(10)"
   ]
  },
  {
   "cell_type": "code",
   "execution_count": 103,
   "id": "ab571465",
   "metadata": {},
   "outputs": [
    {
     "data": {
      "text/plain": [
       "\"New Zealand defeated India by 8 wickets in the fourth ODI at Hamilton on Thursday to win their first match of the five-match ODI series. India lost an international match under Rohit Sharma's captaincy after 12 consecutive victories dating back to March 2018. The match witnessed India getting all out for 92, their seventh lowest total in ODI cricket history.\""
      ]
     },
     "execution_count": 103,
     "metadata": {},
     "output_type": "execute_result"
    }
   ],
   "source": [
    "data['text'][2]"
   ]
  },
  {
   "cell_type": "markdown",
   "id": "edf8bf8e",
   "metadata": {},
   "source": [
    "이 데이터는 기사의 본문에 해당되는 text와 headlines 두 가지 열로 구성되어져 있습니다.\n",
    "\n",
    "추상적 요약을 하는 경우에는 text를 본문, headlines를 이미 요약된 데이터로 삼아서 모델을 학습할 수 있어요. 추출적 요약을 하는 경우에는 오직 text열만을 사용하세요."
   ]
  },
  {
   "cell_type": "markdown",
   "id": "3730f654",
   "metadata": {},
   "source": [
    "## Step 2. 데이터 전처리하기 (추상적 요약)\n",
    "실습에서 사용된 전처리를 참고하여 각자 필요하다고 생각하는 전처리를 추가 사용하여 텍스트를 정규화 또는 정제해 보세요. 만약, 불용어 제거를 선택한다면 상대적으로 길이가 짧은 요약 데이터에 대해서도 불용어를 제거하는 것이 좋을지 고민해 보세요.\n"
   ]
  },
  {
   "cell_type": "code",
   "execution_count": 4,
   "id": "e509fc21",
   "metadata": {},
   "outputs": [],
   "source": [
    "import numpy as np\n",
    "import os\n",
    "import re\n",
    "import matplotlib.pyplot as plt\n",
    "from nltk.corpus import stopwords\n",
    "from bs4 import BeautifulSoup \n",
    "from tensorflow.keras.preprocessing.text import Tokenizer \n",
    "from tensorflow.keras.preprocessing.sequence import pad_sequences\n",
    "import urllib.request\n",
    "import warnings\n",
    "warnings.filterwarnings(\"ignore\", category=UserWarning, module='bs4')"
   ]
  },
  {
   "cell_type": "code",
   "execution_count": 5,
   "id": "fc887a37",
   "metadata": {},
   "outputs": [
    {
     "data": {
      "text/html": [
       "<div>\n",
       "<style scoped>\n",
       "    .dataframe tbody tr th:only-of-type {\n",
       "        vertical-align: middle;\n",
       "    }\n",
       "\n",
       "    .dataframe tbody tr th {\n",
       "        vertical-align: top;\n",
       "    }\n",
       "\n",
       "    .dataframe thead th {\n",
       "        text-align: right;\n",
       "    }\n",
       "</style>\n",
       "<table border=\"1\" class=\"dataframe\">\n",
       "  <thead>\n",
       "    <tr style=\"text-align: right;\">\n",
       "      <th></th>\n",
       "      <th>headlines</th>\n",
       "      <th>text</th>\n",
       "    </tr>\n",
       "  </thead>\n",
       "  <tbody>\n",
       "    <tr>\n",
       "      <th>0</th>\n",
       "      <td>upGrad learner switches to career in ML &amp; Al w...</td>\n",
       "      <td>Saurav Kant, an alumnus of upGrad and IIIT-B's...</td>\n",
       "    </tr>\n",
       "    <tr>\n",
       "      <th>1</th>\n",
       "      <td>Delhi techie wins free food from Swiggy for on...</td>\n",
       "      <td>Kunal Shah's credit card bill payment platform...</td>\n",
       "    </tr>\n",
       "    <tr>\n",
       "      <th>2</th>\n",
       "      <td>New Zealand end Rohit Sharma-led India's 12-ma...</td>\n",
       "      <td>New Zealand defeated India by 8 wickets in the...</td>\n",
       "    </tr>\n",
       "    <tr>\n",
       "      <th>3</th>\n",
       "      <td>Aegon life iTerm insurance plan helps customer...</td>\n",
       "      <td>With Aegon Life iTerm Insurance plan, customer...</td>\n",
       "    </tr>\n",
       "    <tr>\n",
       "      <th>4</th>\n",
       "      <td>Have known Hirani for yrs, what if MeToo claim...</td>\n",
       "      <td>Speaking about the sexual harassment allegatio...</td>\n",
       "    </tr>\n",
       "  </tbody>\n",
       "</table>\n",
       "</div>"
      ],
      "text/plain": [
       "                                           headlines  \\\n",
       "0  upGrad learner switches to career in ML & Al w...   \n",
       "1  Delhi techie wins free food from Swiggy for on...   \n",
       "2  New Zealand end Rohit Sharma-led India's 12-ma...   \n",
       "3  Aegon life iTerm insurance plan helps customer...   \n",
       "4  Have known Hirani for yrs, what if MeToo claim...   \n",
       "\n",
       "                                                text  \n",
       "0  Saurav Kant, an alumnus of upGrad and IIIT-B's...  \n",
       "1  Kunal Shah's credit card bill payment platform...  \n",
       "2  New Zealand defeated India by 8 wickets in the...  \n",
       "3  With Aegon Life iTerm Insurance plan, customer...  \n",
       "4  Speaking about the sexual harassment allegatio...  "
      ]
     },
     "execution_count": 5,
     "metadata": {},
     "output_type": "execute_result"
    }
   ],
   "source": [
    "data.head()"
   ]
  },
  {
   "cell_type": "markdown",
   "id": "e4e9a768",
   "metadata": {},
   "source": [
    "### 데이터 전처리(데이터 정리하기)"
   ]
  },
  {
   "cell_type": "code",
   "execution_count": 6,
   "id": "19e8c753",
   "metadata": {},
   "outputs": [
    {
     "name": "stdout",
     "output_type": "stream",
     "text": [
      "전체 샘플수 : 98401\n",
      "Text 열에서 중복을 배제한 유일한 샘플의 수 : 98360\n"
     ]
    }
   ],
   "source": [
    "print('전체 샘플수 :', (len(data)))\n",
    "print('Text 열에서 중복을 배제한 유일한 샘플의 수 :', data['text'].nunique())"
   ]
  },
  {
   "cell_type": "code",
   "execution_count": 7,
   "id": "ea712393",
   "metadata": {},
   "outputs": [
    {
     "name": "stdout",
     "output_type": "stream",
     "text": [
      "전체 샘플수 : 98360\n"
     ]
    }
   ],
   "source": [
    "# inplace=True 를 설정하면 DataFrame 타입 값을 return 하지 않고 data 내부를 직접적으로 바꿉니다\n",
    "data.drop_duplicates(subset = ['text'], inplace=True)\n",
    "print('전체 샘플수 :', (len(data)))"
   ]
  },
  {
   "cell_type": "code",
   "execution_count": 8,
   "id": "b8b5be2d",
   "metadata": {},
   "outputs": [
    {
     "name": "stdout",
     "output_type": "stream",
     "text": [
      "headlines    0\n",
      "text         0\n",
      "dtype: int64\n"
     ]
    }
   ],
   "source": [
    "print(data.isnull().sum())"
   ]
  },
  {
   "cell_type": "code",
   "execution_count": 9,
   "id": "6792d43c",
   "metadata": {},
   "outputs": [
    {
     "name": "stdout",
     "output_type": "stream",
     "text": [
      "정규화 사전의 수:  120\n"
     ]
    }
   ],
   "source": [
    "contractions = {\"ain't\": \"is not\", \"aren't\": \"are not\",\"can't\": \"cannot\", \"'cause\": \"because\", \"could've\": \"could have\", \"couldn't\": \"could not\",\n",
    "                           \"didn't\": \"did not\",  \"doesn't\": \"does not\", \"don't\": \"do not\", \"hadn't\": \"had not\", \"hasn't\": \"has not\", \"haven't\": \"have not\",\n",
    "                           \"he'd\": \"he would\",\"he'll\": \"he will\", \"he's\": \"he is\", \"how'd\": \"how did\", \"how'd'y\": \"how do you\", \"how'll\": \"how will\", \"how's\": \"how is\",\n",
    "                           \"I'd\": \"I would\", \"I'd've\": \"I would have\", \"I'll\": \"I will\", \"I'll've\": \"I will have\",\"I'm\": \"I am\", \"I've\": \"I have\", \"i'd\": \"i would\",\n",
    "                           \"i'd've\": \"i would have\", \"i'll\": \"i will\",  \"i'll've\": \"i will have\",\"i'm\": \"i am\", \"i've\": \"i have\", \"isn't\": \"is not\", \"it'd\": \"it would\",\n",
    "                           \"it'd've\": \"it would have\", \"it'll\": \"it will\", \"it'll've\": \"it will have\",\"it's\": \"it is\", \"let's\": \"let us\", \"ma'am\": \"madam\",\n",
    "                           \"mayn't\": \"may not\", \"might've\": \"might have\",\"mightn't\": \"might not\",\"mightn't've\": \"might not have\", \"must've\": \"must have\",\n",
    "                           \"mustn't\": \"must not\", \"mustn't've\": \"must not have\", \"needn't\": \"need not\", \"needn't've\": \"need not have\",\"o'clock\": \"of the clock\",\n",
    "                           \"oughtn't\": \"ought not\", \"oughtn't've\": \"ought not have\", \"shan't\": \"shall not\", \"sha'n't\": \"shall not\", \"shan't've\": \"shall not have\",\n",
    "                           \"she'd\": \"she would\", \"she'd've\": \"she would have\", \"she'll\": \"she will\", \"she'll've\": \"she will have\", \"she's\": \"she is\",\n",
    "                           \"should've\": \"should have\", \"shouldn't\": \"should not\", \"shouldn't've\": \"should not have\", \"so've\": \"so have\",\"so's\": \"so as\",\n",
    "                           \"this's\": \"this is\",\"that'd\": \"that would\", \"that'd've\": \"that would have\", \"that's\": \"that is\", \"there'd\": \"there would\",\n",
    "                           \"there'd've\": \"there would have\", \"there's\": \"there is\", \"here's\": \"here is\",\"they'd\": \"they would\", \"they'd've\": \"they would have\",\n",
    "                           \"they'll\": \"they will\", \"they'll've\": \"they will have\", \"they're\": \"they are\", \"they've\": \"they have\", \"to've\": \"to have\",\n",
    "                           \"wasn't\": \"was not\", \"we'd\": \"we would\", \"we'd've\": \"we would have\", \"we'll\": \"we will\", \"we'll've\": \"we will have\", \"we're\": \"we are\",\n",
    "                           \"we've\": \"we have\", \"weren't\": \"were not\", \"what'll\": \"what will\", \"what'll've\": \"what will have\", \"what're\": \"what are\",\n",
    "                           \"what's\": \"what is\", \"what've\": \"what have\", \"when's\": \"when is\", \"when've\": \"when have\", \"where'd\": \"where did\", \"where's\": \"where is\",\n",
    "                           \"where've\": \"where have\", \"who'll\": \"who will\", \"who'll've\": \"who will have\", \"who's\": \"who is\", \"who've\": \"who have\",\n",
    "                           \"why's\": \"why is\", \"why've\": \"why have\", \"will've\": \"will have\", \"won't\": \"will not\", \"won't've\": \"will not have\",\n",
    "                           \"would've\": \"would have\", \"wouldn't\": \"would not\", \"wouldn't've\": \"would not have\", \"y'all\": \"you all\",\n",
    "                           \"y'all'd\": \"you all would\",\"y'all'd've\": \"you all would have\",\"y'all're\": \"you all are\",\"y'all've\": \"you all have\",\n",
    "                           \"you'd\": \"you would\", \"you'd've\": \"you would have\", \"you'll\": \"you will\", \"you'll've\": \"you will have\",\n",
    "                           \"you're\": \"you are\", \"you've\": \"you have\"}\n",
    "\n",
    "print(\"정규화 사전의 수: \", len(contractions))"
   ]
  },
  {
   "cell_type": "code",
   "execution_count": 10,
   "id": "b44e8c5b",
   "metadata": {},
   "outputs": [
    {
     "name": "stdout",
     "output_type": "stream",
     "text": [
      "불용어 개수 : 179\n",
      "['i', 'me', 'my', 'myself', 'we', 'our', 'ours', 'ourselves', 'you', \"you're\", \"you've\", \"you'll\", \"you'd\", 'your', 'yours', 'yourself', 'yourselves', 'he', 'him', 'his', 'himself', 'she', \"she's\", 'her', 'hers', 'herself', 'it', \"it's\", 'its', 'itself', 'they', 'them', 'their', 'theirs', 'themselves', 'what', 'which', 'who', 'whom', 'this', 'that', \"that'll\", 'these', 'those', 'am', 'is', 'are', 'was', 'were', 'be', 'been', 'being', 'have', 'has', 'had', 'having', 'do', 'does', 'did', 'doing', 'a', 'an', 'the', 'and', 'but', 'if', 'or', 'because', 'as', 'until', 'while', 'of', 'at', 'by', 'for', 'with', 'about', 'against', 'between', 'into', 'through', 'during', 'before', 'after', 'above', 'below', 'to', 'from', 'up', 'down', 'in', 'out', 'on', 'off', 'over', 'under', 'again', 'further', 'then', 'once', 'here', 'there', 'when', 'where', 'why', 'how', 'all', 'any', 'both', 'each', 'few', 'more', 'most', 'other', 'some', 'such', 'no', 'nor', 'not', 'only', 'own', 'same', 'so', 'than', 'too', 'very', 's', 't', 'can', 'will', 'just', 'don', \"don't\", 'should', \"should've\", 'now', 'd', 'll', 'm', 'o', 're', 've', 'y', 'ain', 'aren', \"aren't\", 'couldn', \"couldn't\", 'didn', \"didn't\", 'doesn', \"doesn't\", 'hadn', \"hadn't\", 'hasn', \"hasn't\", 'haven', \"haven't\", 'isn', \"isn't\", 'ma', 'mightn', \"mightn't\", 'mustn', \"mustn't\", 'needn', \"needn't\", 'shan', \"shan't\", 'shouldn', \"shouldn't\", 'wasn', \"wasn't\", 'weren', \"weren't\", 'won', \"won't\", 'wouldn', \"wouldn't\"]\n"
     ]
    }
   ],
   "source": [
    "print('불용어 개수 :', len(stopwords.words('english') ))\n",
    "print(stopwords.words('english'))"
   ]
  },
  {
   "cell_type": "code",
   "execution_count": 11,
   "id": "c3f67fb1",
   "metadata": {},
   "outputs": [],
   "source": [
    "# 데이터 전처리 함수\n",
    "def preprocess_sentence(sentence, remove_stopwords=True):\n",
    "    sentence = sentence.lower() # 텍스트 소문자화\n",
    "    sentence = BeautifulSoup(sentence, \"lxml\").text # <br />, <a href = ...> 등의 html 태그 제거\n",
    "    sentence = re.sub(r'\\([^)]*\\)', '', sentence) # 괄호로 닫힌 문자열 (...) 제거 Ex) my husband (and myself!) for => my husband for\n",
    "    sentence = re.sub('\"','', sentence) # 쌍따옴표 \" 제거\n",
    "    sentence = ' '.join([contractions[t] if t in contractions else t for t in sentence.split(\" \")]) # 약어 정규화\n",
    "    sentence = re.sub(r\"'s\\b\",\"\", sentence) # 소유격 제거. Ex) roland's -> roland\n",
    "    sentence = re.sub(\"[^a-zA-Z]\", \" \", sentence) # 영어 외 문자(숫자, 특수문자 등) 공백으로 변환\n",
    "    sentence = re.sub('[m]{2,}', 'mm', sentence) # m이 3개 이상이면 2개로 변경. Ex) ummmmmmm yeah -> umm yeah\n",
    "    \n",
    "    # 불용어 제거 (text)\n",
    "    if remove_stopwords:\n",
    "        tokens = ' '.join(word for word in sentence.split() if not word in stopwords.words('english') if len(word) > 1)\n",
    "    # 불용어 미제거 (headlines)\n",
    "    else:\n",
    "        tokens = ' '.join(word for word in sentence.split() if len(word) > 1)\n",
    "    return tokens"
   ]
  },
  {
   "cell_type": "code",
   "execution_count": 12,
   "id": "1fe47671",
   "metadata": {},
   "outputs": [
    {
     "name": "stdout",
     "output_type": "stream",
     "text": [
      "text:  everything bought great infact ordered twice third ordered wasfor mother father\n",
      "headline: great way to start the day\n"
     ]
    }
   ],
   "source": [
    "temp_text = 'Everything I bought was great, infact I ordered twice and the third ordered was<br />for my mother and father.'\n",
    "temp_headline = 'Great way to start (or finish) the day!!!'\n",
    "\n",
    "print(\"text: \", preprocess_sentence(temp_text))\n",
    "print(\"headline:\", preprocess_sentence(temp_headline, False))  # 불용어를 제거하지 않습니다."
   ]
  },
  {
   "cell_type": "code",
   "execution_count": 13,
   "id": "b28bcfc7",
   "metadata": {},
   "outputs": [
    {
     "name": "stdout",
     "output_type": "stream",
     "text": [
      "text 전처리 후 결과:  ['saurav kant alumnus upgrad iiit pg program machine learning artificial intelligence sr systems engineer infosys almost years work experience program upgrad degree career support helped transition data scientist tech mahindra salary hike upgrad online power learning powered lakh careers', 'kunal shah credit card bill payment platform cred gave users chance win free food swiggy one year pranav kaushik delhi techie bagged reward spending cred coins users get one cred coin per rupee bill paid used avail rewards brands like ixigo bookmyshow ubereats cult fit', 'new zealand defeated india wickets fourth odi hamilton thursday win first match five match odi series india lost international match rohit sharma captaincy consecutive victories dating back march match witnessed india getting seventh lowest total odi cricket history']\n"
     ]
    }
   ],
   "source": [
    "clean_text = []\n",
    "for s in data['text']:\n",
    "    clean_text.append(preprocess_sentence(s))\n",
    "print(\"text 전처리 후 결과: \", clean_text[:3])"
   ]
  },
  {
   "cell_type": "code",
   "execution_count": 14,
   "id": "6459579a",
   "metadata": {},
   "outputs": [
    {
     "name": "stdout",
     "output_type": "stream",
     "text": [
      "headlines 전처리 후 결과:  ['upgrad learner switches to career in ml al with salary hike', 'delhi techie wins free food from swiggy for one year on cred', 'new zealand end rohit sharma led india match winning streak']\n"
     ]
    }
   ],
   "source": [
    "clean_headlines = []\n",
    "# 전체 headlines 데이터에 대한 전처리 : 5분 이상 시간이 걸릴 수 있습니다. \n",
    "for s in data['headlines']:\n",
    "    clean_headlines.append(preprocess_sentence(s, False))\n",
    "\n",
    "print(\"headlines 전처리 후 결과: \", clean_headlines[:3])"
   ]
  },
  {
   "cell_type": "code",
   "execution_count": 15,
   "id": "2d5a7e4c",
   "metadata": {},
   "outputs": [],
   "source": [
    "data['text'] = clean_text\n",
    "data['headlines'] =  clean_headlines"
   ]
  },
  {
   "cell_type": "code",
   "execution_count": 16,
   "id": "2b11b3a3",
   "metadata": {},
   "outputs": [
    {
     "data": {
      "text/plain": [
       "headlines    0\n",
       "text         0\n",
       "dtype: int64"
      ]
     },
     "execution_count": 16,
     "metadata": {},
     "output_type": "execute_result"
    }
   ],
   "source": [
    "data.isnull().sum()"
   ]
  },
  {
   "cell_type": "code",
   "execution_count": 17,
   "id": "78fce873",
   "metadata": {},
   "outputs": [
    {
     "name": "stdout",
     "output_type": "stream",
     "text": [
      "전체 샘플수 : 98360\n"
     ]
    }
   ],
   "source": [
    "data.dropna(axis=0, inplace=True)\n",
    "print('전체 샘플수 :', (len(data)))"
   ]
  },
  {
   "cell_type": "markdown",
   "id": "aacf4102",
   "metadata": {},
   "source": [
    "### 데이터 전처리 (훈련데이터와 테스트데이터 나누기)\n",
    "\n",
    "- 학습을 진행하기 위해서는 학습에 사용할 데이터의 크기를 결정하고, 문장의 시작과 끝을 표시함\n",
    "\n",
    "- 샘플의 최대 길이 정하기 (훈련에 사용할 샘플의 최대 길이 정하기)\n",
    "\n",
    "- text와 headlines의 최소, 최대, 평균 길이를 구하고, 길이 분포를 시각화 해봄"
   ]
  },
  {
   "cell_type": "code",
   "execution_count": 18,
   "id": "19442946",
   "metadata": {},
   "outputs": [
    {
     "name": "stdout",
     "output_type": "stream",
     "text": [
      "텍스트의 최소 길이 : 1\n",
      "텍스트의 최대 길이 : 60\n",
      "텍스트의 평균 길이 : 35.09968483123221\n",
      "요약의 최소 길이 : 1\n",
      "요약의 최대 길이 : 16\n",
      "요약의 평균 길이 : 9.299532330215534\n"
     ]
    },
    {
     "data": {
      "image/png": "[encoded data removed]",
      "text/plain": [
       "<Figure size 432x288 with 2 Axes>"
      ]
     },
     "metadata": {
      "needs_background": "light"
     },
     "output_type": "display_data"
    },
    {
     "data": {
      "image/png": "[encoded data removed]",
      "text/plain": [
       "<Figure size 432x288 with 1 Axes>"
      ]
     },
     "metadata": {
      "needs_background": "light"
     },
     "output_type": "display_data"
    },
    {
     "data": {
      "image/png": "[encoded data removed]",
      "text/plain": [
       "<Figure size 432x288 with 1 Axes>"
      ]
     },
     "metadata": {
      "needs_background": "light"
     },
     "output_type": "display_data"
    }
   ],
   "source": [
    "# 길이 분포 출력\n",
    "import matplotlib.pyplot as plt\n",
    "\n",
    "text_len = [len(s.split()) for s in data['text']]\n",
    "headlines_len = [len(s.split()) for s in data['headlines']]\n",
    "\n",
    "print('텍스트의 최소 길이 : {}'.format(np.min(text_len)))\n",
    "print('텍스트의 최대 길이 : {}'.format(np.max(text_len)))\n",
    "print('텍스트의 평균 길이 : {}'.format(np.mean(text_len)))\n",
    "print('요약의 최소 길이 : {}'.format(np.min(headlines_len)))\n",
    "print('요약의 최대 길이 : {}'.format(np.max(headlines_len)))\n",
    "print('요약의 평균 길이 : {}'.format(np.mean(headlines_len)))\n",
    "\n",
    "plt.subplot(1,2,1)\n",
    "plt.boxplot(text_len)\n",
    "plt.title('text')\n",
    "plt.subplot(1,2,2)\n",
    "plt.boxplot(headlines_len)\n",
    "plt.title('headlines')\n",
    "plt.tight_layout()\n",
    "plt.show()\n",
    "\n",
    "plt.title('text')\n",
    "plt.hist(text_len, bins = 40)\n",
    "plt.xlabel('length of samples')\n",
    "plt.ylabel('number of samples')\n",
    "plt.show()\n",
    "\n",
    "plt.title('headlines')\n",
    "plt.hist(headlines_len, bins = 40)\n",
    "plt.xlabel('length of samples')\n",
    "plt.ylabel('number of samples')\n",
    "plt.show()"
   ]
  },
  {
   "cell_type": "code",
   "execution_count": 19,
   "id": "f07f6fc3",
   "metadata": {},
   "outputs": [],
   "source": [
    "text_max_len = 38\n",
    "headlines_max_len = 10"
   ]
  },
  {
   "cell_type": "code",
   "execution_count": 20,
   "id": "c28f4171",
   "metadata": {},
   "outputs": [],
   "source": [
    "def below_threshold_len(max_len, nested_list):\n",
    "  cnt = 0\n",
    "  for s in nested_list:\n",
    "    if(len(s.split()) <= max_len):\n",
    "        cnt = cnt + 1\n",
    "  print('전체 샘플 중 길이가 %s 이하인 샘플의 비율: %s'%(max_len, (cnt / len(nested_list))))"
   ]
  },
  {
   "cell_type": "code",
   "execution_count": 21,
   "id": "fde72ef9",
   "metadata": {},
   "outputs": [
    {
     "name": "stdout",
     "output_type": "stream",
     "text": [
      "전체 샘플 중 길이가 38 이하인 샘플의 비율: 0.8163379422529483\n",
      "전체 샘플 중 길이가 10 이하인 샘플의 비율: 0.8162972753151687\n"
     ]
    }
   ],
   "source": [
    "below_threshold_len(text_max_len, data['text'])\n",
    "below_threshold_len(headlines_max_len,  data['headlines'])"
   ]
  },
  {
   "cell_type": "code",
   "execution_count": 22,
   "id": "f4052b04",
   "metadata": {},
   "outputs": [
    {
     "name": "stdout",
     "output_type": "stream",
     "text": [
      "전체 샘플수 : 65295\n"
     ]
    }
   ],
   "source": [
    "data = data[data['text'].apply(lambda x: len(x.split()) <= text_max_len)]\n",
    "data = data[data['headlines'].apply(lambda x: len(x.split()) <= headlines_max_len)]\n",
    "print('전체 샘플수 :', (len(data)))"
   ]
  },
  {
   "cell_type": "code",
   "execution_count": 23,
   "id": "24039c3e",
   "metadata": {},
   "outputs": [
    {
     "data": {
      "text/html": [
       "<div>\n",
       "<style scoped>\n",
       "    .dataframe tbody tr th:only-of-type {\n",
       "        vertical-align: middle;\n",
       "    }\n",
       "\n",
       "    .dataframe tbody tr th {\n",
       "        vertical-align: top;\n",
       "    }\n",
       "\n",
       "    .dataframe thead th {\n",
       "        text-align: right;\n",
       "    }\n",
       "</style>\n",
       "<table border=\"1\" class=\"dataframe\">\n",
       "  <thead>\n",
       "    <tr style=\"text-align: right;\">\n",
       "      <th></th>\n",
       "      <th>headlines</th>\n",
       "      <th>text</th>\n",
       "      <th>decoder_input</th>\n",
       "      <th>decoder_target</th>\n",
       "    </tr>\n",
       "  </thead>\n",
       "  <tbody>\n",
       "    <tr>\n",
       "      <th>2</th>\n",
       "      <td>new zealand end rohit sharma led india match w...</td>\n",
       "      <td>new zealand defeated india wickets fourth odi ...</td>\n",
       "      <td>sostoken new zealand end rohit sharma led indi...</td>\n",
       "      <td>new zealand end rohit sharma led india match w...</td>\n",
       "    </tr>\n",
       "    <tr>\n",
       "      <th>3</th>\n",
       "      <td>aegon life iterm insurance plan helps customer...</td>\n",
       "      <td>aegon life iterm insurance plan customers enjo...</td>\n",
       "      <td>sostoken aegon life iterm insurance plan helps...</td>\n",
       "      <td>aegon life iterm insurance plan helps customer...</td>\n",
       "    </tr>\n",
       "    <tr>\n",
       "      <th>5</th>\n",
       "      <td>rahat fateh ali khan denies getting notice for...</td>\n",
       "      <td>pakistani singer rahat fateh ali khan denied r...</td>\n",
       "      <td>sostoken rahat fateh ali khan denies getting n...</td>\n",
       "      <td>rahat fateh ali khan denies getting notice for...</td>\n",
       "    </tr>\n",
       "    <tr>\n",
       "      <th>9</th>\n",
       "      <td>cong wins ramgarh bypoll in rajasthan takes to...</td>\n",
       "      <td>congress candidate shafia zubair ramgarh assem...</td>\n",
       "      <td>sostoken cong wins ramgarh bypoll in rajasthan...</td>\n",
       "      <td>cong wins ramgarh bypoll in rajasthan takes to...</td>\n",
       "    </tr>\n",
       "    <tr>\n",
       "      <th>10</th>\n",
       "      <td>up cousins fed human excreta for friendship wi...</td>\n",
       "      <td>two minor cousins uttar pradesh gorakhpur alle...</td>\n",
       "      <td>sostoken up cousins fed human excreta for frie...</td>\n",
       "      <td>up cousins fed human excreta for friendship wi...</td>\n",
       "    </tr>\n",
       "  </tbody>\n",
       "</table>\n",
       "</div>"
      ],
      "text/plain": [
       "                                            headlines  \\\n",
       "2   new zealand end rohit sharma led india match w...   \n",
       "3   aegon life iterm insurance plan helps customer...   \n",
       "5   rahat fateh ali khan denies getting notice for...   \n",
       "9   cong wins ramgarh bypoll in rajasthan takes to...   \n",
       "10  up cousins fed human excreta for friendship wi...   \n",
       "\n",
       "                                                 text  \\\n",
       "2   new zealand defeated india wickets fourth odi ...   \n",
       "3   aegon life iterm insurance plan customers enjo...   \n",
       "5   pakistani singer rahat fateh ali khan denied r...   \n",
       "9   congress candidate shafia zubair ramgarh assem...   \n",
       "10  two minor cousins uttar pradesh gorakhpur alle...   \n",
       "\n",
       "                                        decoder_input  \\\n",
       "2   sostoken new zealand end rohit sharma led indi...   \n",
       "3   sostoken aegon life iterm insurance plan helps...   \n",
       "5   sostoken rahat fateh ali khan denies getting n...   \n",
       "9   sostoken cong wins ramgarh bypoll in rajasthan...   \n",
       "10  sostoken up cousins fed human excreta for frie...   \n",
       "\n",
       "                                       decoder_target  \n",
       "2   new zealand end rohit sharma led india match w...  \n",
       "3   aegon life iterm insurance plan helps customer...  \n",
       "5   rahat fateh ali khan denies getting notice for...  \n",
       "9   cong wins ramgarh bypoll in rajasthan takes to...  \n",
       "10  up cousins fed human excreta for friendship wi...  "
      ]
     },
     "execution_count": 23,
     "metadata": {},
     "output_type": "execute_result"
    }
   ],
   "source": [
    "# 요약 데이터에는 시작 토큰과 종료 토큰을 추가한다.\n",
    "data['decoder_input'] = data['headlines'].apply(lambda x : 'sostoken '+ x)\n",
    "data['decoder_target'] = data['headlines'].apply(lambda x : x + ' eostoken')\n",
    "data.head()"
   ]
  },
  {
   "cell_type": "code",
   "execution_count": 24,
   "id": "57138ce7",
   "metadata": {},
   "outputs": [],
   "source": [
    "encoder_input = np.array(data['text']) # 인코더의 입력\n",
    "decoder_input = np.array(data['decoder_input']) # 디코더의 입력\n",
    "decoder_target = np.array(data['decoder_target']) # 디코더의 레이블"
   ]
  },
  {
   "cell_type": "code",
   "execution_count": 25,
   "id": "ff541cba",
   "metadata": {},
   "outputs": [
    {
     "data": {
      "text/plain": [
       "'new zealand defeated india wickets fourth odi hamilton thursday win first match five match odi series india lost international match rohit sharma captaincy consecutive victories dating back march match witnessed india getting seventh lowest total odi cricket history'"
      ]
     },
     "execution_count": 25,
     "metadata": {},
     "output_type": "execute_result"
    }
   ],
   "source": [
    "encoder_input[0]"
   ]
  },
  {
   "cell_type": "code",
   "execution_count": 26,
   "id": "cca2744d",
   "metadata": {},
   "outputs": [
    {
     "data": {
      "text/plain": [
       "'sostoken new zealand end rohit sharma led india match winning streak'"
      ]
     },
     "execution_count": 26,
     "metadata": {},
     "output_type": "execute_result"
    }
   ],
   "source": [
    "decoder_input[0]"
   ]
  },
  {
   "cell_type": "code",
   "execution_count": 27,
   "id": "6986252f",
   "metadata": {},
   "outputs": [
    {
     "data": {
      "text/plain": [
       "'new zealand end rohit sharma led india match winning streak eostoken'"
      ]
     },
     "execution_count": 27,
     "metadata": {},
     "output_type": "execute_result"
    }
   ],
   "source": [
    "decoder_target[0]"
   ]
  },
  {
   "cell_type": "markdown",
   "id": "45b2397c",
   "metadata": {},
   "source": [
    "훈련 데이터와 테스트 데이터를 분리\n",
    "encoder_input과 크기와 형태가 같은 순서가 섞인 정수를 만들어서 분리."
   ]
  },
  {
   "cell_type": "code",
   "execution_count": 28,
   "id": "e7915a9f",
   "metadata": {},
   "outputs": [
    {
     "data": {
      "text/plain": [
       "65295"
      ]
     },
     "execution_count": 28,
     "metadata": {},
     "output_type": "execute_result"
    }
   ],
   "source": [
    "encoder_input.shape[0]"
   ]
  },
  {
   "cell_type": "code",
   "execution_count": 29,
   "id": "2e163cce",
   "metadata": {},
   "outputs": [
    {
     "name": "stdout",
     "output_type": "stream",
     "text": [
      "[14437 39179 56842 ... 56658 36261 24436]\n"
     ]
    }
   ],
   "source": [
    "indices = np.arange(encoder_input.shape[0])\n",
    "np.random.shuffle(indices)\n",
    "print(indices)"
   ]
  },
  {
   "cell_type": "code",
   "execution_count": 30,
   "id": "0dd76155",
   "metadata": {},
   "outputs": [],
   "source": [
    "encoder_input = encoder_input[indices]\n",
    "decoder_input = decoder_input[indices]\n",
    "decoder_target = decoder_target[indices]"
   ]
  },
  {
   "cell_type": "code",
   "execution_count": 31,
   "id": "a105fa94",
   "metadata": {},
   "outputs": [
    {
     "data": {
      "text/plain": [
       "'making least acquisitions india past two years including itzcash card centrum capital nasdaq listed software firm ebix inc friday announced acquisition pune headquartered indus software technologies million ebix said indus integrated digital payments offering ebixcash employees joining workforce'"
      ]
     },
     "execution_count": 31,
     "metadata": {},
     "output_type": "execute_result"
    }
   ],
   "source": [
    "encoder_input[0]"
   ]
  },
  {
   "cell_type": "code",
   "execution_count": 32,
   "id": "852a4828",
   "metadata": {},
   "outputs": [
    {
     "name": "stdout",
     "output_type": "stream",
     "text": [
      "테스트 데이터의 수 : 13059\n"
     ]
    }
   ],
   "source": [
    "n_of_val = int(len(encoder_input)*0.2)\n",
    "print('테스트 데이터의 수 :', n_of_val)"
   ]
  },
  {
   "cell_type": "code",
   "execution_count": 33,
   "id": "42608ecd",
   "metadata": {},
   "outputs": [
    {
     "name": "stdout",
     "output_type": "stream",
     "text": [
      "훈련 데이터의 개수 : 52236\n",
      "훈련 레이블의 개수 : 52236\n",
      "테스트 데이터의 개수 : 13059\n",
      "테스트 레이블의 개수 : 13059\n"
     ]
    }
   ],
   "source": [
    "encoder_input_train = encoder_input[:-n_of_val]\n",
    "decoder_input_train = decoder_input[:-n_of_val]\n",
    "decoder_target_train = decoder_target[:-n_of_val]\n",
    "\n",
    "encoder_input_test = encoder_input[-n_of_val:]\n",
    "decoder_input_test = decoder_input[-n_of_val:]\n",
    "decoder_target_test = decoder_target[-n_of_val:]\n",
    "\n",
    "print('훈련 데이터의 개수 :', len(encoder_input_train))\n",
    "print('훈련 레이블의 개수 :', len(decoder_input_train))\n",
    "print('테스트 데이터의 개수 :', len(encoder_input_test))\n",
    "print('테스트 레이블의 개수 :', len(decoder_input_test))"
   ]
  },
  {
   "cell_type": "markdown",
   "id": "b198a1b7",
   "metadata": {},
   "source": [
    "### 데이터 전처리하기  (정수 인코딩)\n",
    "\n",
    "단어 집합(vocabulary) 만들기 및 정수 인코딩 이제 기계가 텍스트를 숫자로 처리할 수 있도록 훈련 데이터와 테스트 데이터의 단어들을 모두 정수로 바꾸어 주어야 해요. 이를 위해서는 각 단어에 고유한 정수를 맵핑하는 작업이 필요해요. 이 과정을 단어 집합(vocabulary) 을 만든다고 표현해요. 훈련 데이터에 대해서 단어 집합을 만들어볼게요. 우선, 원문에 해당되는 encoder_input_train에 대해서 단어 집합을 만들게요.\n",
    "\n",
    "Keras의 토크나이저를 사용하면, 입력된 훈련 데이터로부터 단어 집합을 만들 수 있어요."
   ]
  },
  {
   "cell_type": "code",
   "execution_count": 34,
   "id": "354ae9ea",
   "metadata": {},
   "outputs": [],
   "source": [
    "src_tokenizer = Tokenizer() # 토크나이저 정의\n",
    "src_tokenizer.fit_on_texts(encoder_input_train) # 입력된 데이터로부터 단어 집합 생성"
   ]
  },
  {
   "cell_type": "markdown",
   "id": "92206c8a",
   "metadata": {},
   "source": [
    "- 단어 집합이 생성되는 동시에 각 단어에 고유한 정수가 부여되었음.\n",
    "- 현재 생성된 단어 집합은 src_tokenizer.word_index에 저장됨.\n",
    "- src_tokenizer.word_counts.items()에는 단어와 각 단어의 등장 빈도수가 저장됨."
   ]
  },
  {
   "cell_type": "code",
   "execution_count": 35,
   "id": "22d0eccd",
   "metadata": {},
   "outputs": [
    {
     "name": "stdout",
     "output_type": "stream",
     "text": [
      "단어 집합(vocabulary)의 크기 : 57189\n",
      "등장 빈도가 5번 이하인 희귀 단어의 수: 37746\n",
      "단어 집합에서 희귀 단어를 제외시킬 경우의 단어 집합의 크기 19443\n",
      "단어 집합에서 희귀 단어의 비율: 66.00220322089912\n",
      "전체 등장 빈도에서 희귀 단어 등장 빈도 비율: 4.000354408206017\n"
     ]
    }
   ],
   "source": [
    "threshold = 6\n",
    "total_cnt = len(src_tokenizer.word_index) # 단어의 수\n",
    "rare_cnt = 0 # 등장 빈도수가 threshold보다 작은 단어의 개수를 카운트\n",
    "total_freq = 0 # 훈련 데이터의 전체 단어 빈도수 총 합\n",
    "rare_freq = 0 # 등장 빈도수가 threshold보다 작은 단어의 등장 빈도수의 총 합\n",
    "\n",
    "# 단어와 빈도수의 쌍(pair)을 key와 value로 받는다.\n",
    "for key, value in src_tokenizer.word_counts.items():\n",
    "    total_freq = total_freq + value\n",
    "\n",
    "    # 단어의 등장 빈도수가 threshold보다 작으면\n",
    "    if(value < threshold):\n",
    "        rare_cnt = rare_cnt + 1\n",
    "        rare_freq = rare_freq + value\n",
    "\n",
    "print('단어 집합(vocabulary)의 크기 :', total_cnt)\n",
    "print('등장 빈도가 %s번 이하인 희귀 단어의 수: %s'%(threshold - 1, rare_cnt))\n",
    "print('단어 집합에서 희귀 단어를 제외시킬 경우의 단어 집합의 크기 %s'%(total_cnt - rare_cnt))\n",
    "print(\"단어 집합에서 희귀 단어의 비율:\", (rare_cnt / total_cnt)*100)\n",
    "print(\"전체 등장 빈도에서 희귀 단어 등장 빈도 비율:\", (rare_freq / total_freq)*100)"
   ]
  },
  {
   "cell_type": "markdown",
   "id": "015aa632",
   "metadata": {},
   "source": [
    "- encoder_input_train에는 5만여 개의 단어가 있음.\n",
    "\n",
    "- 등장 빈도가 threshold 값인 6회 미만인 단어들은 단어 집합에서 66%를 차지. 하지만 실제로 훈련 데이터에서 등장하는 비중은 4%.\n",
    "\n",
    "- 그래서 등장 빈도가 6회 미만인 단어들은 정수 인코딩 과정에서 빼고, 훈련 데이터에서 제거\n",
    "\n",
    "- 위에서 이를 제외한 단어 집합의 크기를 19천여 개로 계산했는데, 이와 비슷한 값으로 어림잡아 단어 집합의 크기를 19000개로 제한. \n",
    "\n",
    "- 토크나이저를 정의할 때 num_words의 값을 정해주면, 단어 집합의 크기를 제한할 수 있음."
   ]
  },
  {
   "cell_type": "code",
   "execution_count": 36,
   "id": "58e7d59b",
   "metadata": {},
   "outputs": [],
   "source": [
    "src_vocab = 19000\n",
    "src_tokenizer = Tokenizer(num_words=src_vocab) # 단어 집합의 크기를 19,000으로 제한\n",
    "src_tokenizer.fit_on_texts(encoder_input_train) # 단어 집합 재생성"
   ]
  },
  {
   "cell_type": "code",
   "execution_count": 37,
   "id": "6d6a9926",
   "metadata": {},
   "outputs": [
    {
     "name": "stdout",
     "output_type": "stream",
     "text": [
      "[[234, 123, 12022, 4, 473, 12, 22, 85, 1090, 301, 12579, 1830, 1175, 327, 9728, 55, 82, 1973, 1091, 7537, 10348, 1175, 2982, 48, 1, 10348, 5913, 928, 1176, 1320, 257, 2805, 4411], [27, 245, 313, 16631, 246, 227, 75, 301, 1604, 1124, 4801, 1275, 166, 1553, 2423, 398, 21, 9, 142, 1311, 166, 2600, 2507, 2139, 2423, 403, 771, 115, 209, 3368, 1], [653, 4, 2010, 1016, 3725, 3450, 788, 21, 130, 15, 2358, 57, 1, 1054, 96, 468, 33, 536, 1163, 585, 1453, 57, 6, 3483, 1068, 219, 1345, 13895, 3, 114, 1068, 4, 8445, 483]]\n"
     ]
    }
   ],
   "source": [
    "# 텍스트 시퀀스를 정수 시퀀스로 변환\n",
    "encoder_input_train = src_tokenizer.texts_to_sequences(encoder_input_train) \n",
    "encoder_input_test = src_tokenizer.texts_to_sequences(encoder_input_test)\n",
    "\n",
    "# 잘 진행되었는지 샘플 출력\n",
    "print(encoder_input_train[:3])"
   ]
  },
  {
   "cell_type": "code",
   "execution_count": 38,
   "id": "f9e196de",
   "metadata": {},
   "outputs": [],
   "source": [
    "tar_tokenizer = Tokenizer()\n",
    "tar_tokenizer.fit_on_texts(decoder_input_train)"
   ]
  },
  {
   "cell_type": "code",
   "execution_count": 39,
   "id": "69865c46",
   "metadata": {},
   "outputs": [
    {
     "name": "stdout",
     "output_type": "stream",
     "text": [
      "단어 집합(vocabulary)의 크기 : 25860\n",
      "등장 빈도가 4번 이하인 희귀 단어의 수: 16463\n",
      "단어 집합에서 희귀 단어를 제외시킬 경우의 단어 집합의 크기 9397\n",
      "단어 집합에서 희귀 단어의 비율: 63.66202629543697\n",
      "전체 등장 빈도에서 희귀 단어 등장 빈도 비율: 5.532752954652153\n"
     ]
    }
   ],
   "source": [
    "threshold = 5\n",
    "total_cnt = len(tar_tokenizer.word_index) # 단어의 수\n",
    "rare_cnt = 0 # 등장 빈도수가 threshold보다 작은 단어의 개수를 카운트\n",
    "total_freq = 0 # 훈련 데이터의 전체 단어 빈도수 총 합\n",
    "rare_freq = 0 # 등장 빈도수가 threshold보다 작은 단어의 등장 빈도수의 총 합\n",
    "\n",
    "# 단어와 빈도수의 쌍(pair)을 key와 value로 받는다.\n",
    "for key, value in tar_tokenizer.word_counts.items():\n",
    "    total_freq = total_freq + value\n",
    "\n",
    "    # 단어의 등장 빈도수가 threshold보다 작으면\n",
    "    if(value < threshold):\n",
    "        rare_cnt = rare_cnt + 1\n",
    "        rare_freq = rare_freq + value\n",
    "\n",
    "print('단어 집합(vocabulary)의 크기 :', total_cnt)\n",
    "print('등장 빈도가 %s번 이하인 희귀 단어의 수: %s'%(threshold - 1, rare_cnt))\n",
    "print('단어 집합에서 희귀 단어를 제외시킬 경우의 단어 집합의 크기 %s'%(total_cnt - rare_cnt))\n",
    "print(\"단어 집합에서 희귀 단어의 비율:\", (rare_cnt / total_cnt)*100)\n",
    "print(\"전체 등장 빈도에서 희귀 단어 등장 빈도 비율:\", (rare_freq / total_freq)*100)"
   ]
  },
  {
   "cell_type": "code",
   "execution_count": 40,
   "id": "af182be2",
   "metadata": {},
   "outputs": [
    {
     "name": "stdout",
     "output_type": "stream",
     "text": [
      "input\n",
      "input  [[1, 14, 188, 2646, 761, 648, 2570, 378, 8393, 5, 181], [1, 166, 946, 5594, 320, 1083, 23, 3, 1190, 1046], [1, 337, 1084, 4, 10, 611, 3455, 431, 2251, 185], [1, 581, 12, 254, 1085, 3, 878, 680, 243], [1, 163, 48, 7594, 212, 29, 1190, 18, 27, 31, 54]]\n",
      "target\n",
      "decoder  [[14, 188, 2646, 761, 648, 2570, 378, 8393, 5, 181, 2], [166, 946, 5594, 320, 1083, 23, 3, 1190, 1046, 2], [337, 1084, 4, 10, 611, 3455, 431, 2251, 185, 2], [581, 12, 254, 1085, 3, 878, 680, 243, 2], [163, 48, 7594, 212, 29, 1190, 18, 27, 31, 54, 2]]\n"
     ]
    }
   ],
   "source": [
    "tar_vocab = 9000\n",
    "tar_tokenizer = Tokenizer(num_words=tar_vocab) \n",
    "tar_tokenizer.fit_on_texts(decoder_input_train)\n",
    "tar_tokenizer.fit_on_texts(decoder_target_train)\n",
    "\n",
    "# 텍스트 시퀀스를 정수 시퀀스로 변환\n",
    "decoder_input_train = tar_tokenizer.texts_to_sequences(decoder_input_train) \n",
    "decoder_target_train = tar_tokenizer.texts_to_sequences(decoder_target_train)\n",
    "decoder_input_test = tar_tokenizer.texts_to_sequences(decoder_input_test)\n",
    "decoder_target_test = tar_tokenizer.texts_to_sequences(decoder_target_test)\n",
    "\n",
    "# 잘 변환되었는지 확인\n",
    "print('input')\n",
    "print('input ',decoder_input_train[:5])\n",
    "print('target')\n",
    "print('decoder ',decoder_target_train[:5])"
   ]
  },
  {
   "cell_type": "markdown",
   "id": "6b7687fe",
   "metadata": {},
   "source": [
    "- decoder_input_train과 decoder_target_train에는 더 이상 숫자 9,000이 넘는 숫자들은 존재하지 않음.\n",
    "- 전체 데이터에서 빈도수가 낮은 단어가 삭제되었다는 것은 빈도수가 낮은 단어만으로 구성되었던 샘플들은 이제 빈(empty) 샘플이 되었을 가능성이 있어요.\n",
    "- 요약문에서 길이가 0이 된 샘플들, 사실 decoder_input에는 sostoken, decoder_target에는 eostoken로 인해 실제로는 길이가 1인 인덱스를 받아와서  각각 drop_train과 drop_test에 라는 변수에 저장해볼게요. 이 샘플들은 모두 삭제할 거예요."
   ]
  },
  {
   "cell_type": "code",
   "execution_count": 41,
   "id": "a0313cf3",
   "metadata": {},
   "outputs": [
    {
     "name": "stdout",
     "output_type": "stream",
     "text": [
      "삭제할 훈련 데이터의 개수 : 0\n",
      "삭제할 테스트 데이터의 개수 : 0\n"
     ]
    }
   ],
   "source": [
    "drop_train = [index for index, sentence in enumerate(decoder_input_train) if len(sentence) == 1]\n",
    "drop_test = [index for index, sentence in enumerate(decoder_input_test) if len(sentence) == 1]\n",
    "\n",
    "print('삭제할 훈련 데이터의 개수 :', len(drop_train))\n",
    "print('삭제할 테스트 데이터의 개수 :', len(drop_test))\n",
    "\n",
    "# encoder_input_train = [sentence for index, sentence in enumerate(encoder_input_train) if index not in drop_train]\n",
    "# decoder_input_train = [sentence for index, sentence in enumerate(decoder_input_train) if index not in drop_train]\n",
    "# decoder_target_train = [sentence for index, sentence in enumerate(decoder_target_train) if index not in drop_train]\n",
    "\n",
    "# encoder_input_test = [sentence for index, sentence in enumerate(encoder_input_test) if index not in drop_test]\n",
    "# decoder_input_test = [sentence for index, sentence in enumerate(decoder_input_test) if index not in drop_test]\n",
    "# decoder_target_test = [sentence for index, sentence in enumerate(decoder_target_test) if index not in drop_test]\n"
   ]
  },
  {
   "cell_type": "markdown",
   "id": "4ba507ad",
   "metadata": {},
   "source": [
    "삭제할 훈련데이터의 개수와 테스트 데이터의 개수가 0으로 나온다. \n",
    "할 필요가 없었다. 체크할 필요는 있었는지도 모른다."
   ]
  },
  {
   "cell_type": "code",
   "execution_count": 42,
   "id": "b6ee986e",
   "metadata": {},
   "outputs": [
    {
     "name": "stdout",
     "output_type": "stream",
     "text": [
      "훈련 데이터의 개수 : 52236\n",
      "훈련 레이블의 개수 : 52236\n",
      "테스트 데이터의 개수 : 13059\n",
      "테스트 레이블의 개수 : 13059\n"
     ]
    }
   ],
   "source": [
    "print('훈련 데이터의 개수 :', len(encoder_input_train))\n",
    "print('훈련 레이블의 개수 :', len(decoder_input_train))\n",
    "print('테스트 데이터의 개수 :', len(encoder_input_test))\n",
    "print('테스트 레이블의 개수 :', len(decoder_input_test))"
   ]
  },
  {
   "cell_type": "markdown",
   "id": "ca901fb9",
   "metadata": {},
   "source": [
    "패딩하기 텍스트 시퀀스를 정수 시퀀스로 변환했다면, 이제 서로 다른 길이의 샘플들을 병렬 처리하기 위해 같은 길이로 맞춰주는 패딩 작업을 해주어야 해야 해요. 아까 정해두었던 최대 길이로 패딩 해 줄 거에요. 최대 길이보다 짧은 데이터들은 뒤의 공간에 숫자 0을 넣어 최대 길이로 길이를 맞춰줄게요."
   ]
  },
  {
   "cell_type": "code",
   "execution_count": 43,
   "id": "8ce894de",
   "metadata": {},
   "outputs": [],
   "source": [
    "encoder_input_train = pad_sequences(encoder_input_train, maxlen=text_max_len, padding='post')\n",
    "encoder_input_test = pad_sequences(encoder_input_test, maxlen=text_max_len, padding='post')\n",
    "decoder_input_train = pad_sequences(decoder_input_train, maxlen=headlines_max_len, padding='post')\n",
    "decoder_target_train = pad_sequences(decoder_target_train, maxlen=headlines_max_len, padding='post')\n",
    "decoder_input_test = pad_sequences(decoder_input_test, maxlen=headlines_max_len, padding='post')\n",
    "decoder_target_test = pad_sequences(decoder_target_test, maxlen=headlines_max_len, padding='post')"
   ]
  },
  {
   "cell_type": "markdown",
   "id": "ee4b9c49",
   "metadata": {},
   "source": [
    "# 모델 설계하기"
   ]
  },
  {
   "cell_type": "code",
   "execution_count": 44,
   "id": "f243205d",
   "metadata": {},
   "outputs": [],
   "source": [
    "from tensorflow.keras.layers import Input, LSTM, Embedding, Dense, Concatenate, TimeDistributed\n",
    "from tensorflow.keras.models import Model\n",
    "from tensorflow.keras.callbacks import EarlyStopping, ModelCheckpoint\n",
    "\n",
    "\n",
    "# 인코더 설계 시작\n",
    "embedding_dim = 128\n",
    "hidden_size = 256\n",
    "\n",
    "# 인코더\n",
    "encoder_inputs = Input(shape=(text_max_len,))\n",
    "\n",
    "# 인코더의 임베딩 층\n",
    "enc_emb = Embedding(src_vocab, embedding_dim)(encoder_inputs)\n",
    "\n",
    "# 인코더의 LSTM 1\n",
    "# encoder_lstm1 = LSTM(hidden_size, return_sequences=True, return_state=True ,dropout = 0.4, recurrent_dropout = 0.4)\n",
    "encoder_lstm1 = LSTM(hidden_size, return_sequences=True, return_state=True ,dropout = 0.4)\n",
    "encoder_output1, state_h1, state_c1 = encoder_lstm1(enc_emb)\n",
    "\n",
    "# 인코더의 LSTM 2\n",
    "# encoder_lstm2 = LSTM(hidden_size, return_sequences=True, return_state=True, dropout=0.4, recurrent_dropout=0.4)\n",
    "encoder_lstm2 = LSTM(hidden_size, return_sequences=True, return_state=True, dropout=0.4)\n",
    "encoder_output2, state_h2, state_c2 = encoder_lstm2(encoder_output1)\n",
    "\n",
    "# 인코더의 LSTM 3\n",
    "# encoder_lstm3 = LSTM(hidden_size, return_state=True, return_sequences=True, dropout=0.4, recurrent_dropout=0.4)\n",
    "encoder_lstm3 = LSTM(hidden_size, return_state=True, return_sequences=True, dropout=0.4)\n",
    "encoder_outputs, state_h, state_c= encoder_lstm3(encoder_output2)"
   ]
  },
  {
   "cell_type": "code",
   "execution_count": 45,
   "id": "3e7a09a7",
   "metadata": {},
   "outputs": [],
   "source": [
    "# 디코더 설계\n",
    "decoder_inputs = Input(shape=(None,))\n",
    "\n",
    "# 디코더의 임베딩 층\n",
    "dec_emb_layer = Embedding(tar_vocab, embedding_dim)\n",
    "dec_emb = dec_emb_layer(decoder_inputs)\n",
    "\n",
    "# 디코더의 LSTM\n",
    "# decoder_lstm = LSTM(hidden_size, return_sequences=True, return_state=True, dropout=0.4, recurrent_dropout=0.2)\n",
    "decoder_lstm = LSTM(hidden_size, return_sequences=True, return_state=True, dropout=0.4)\n",
    "decoder_outputs, _, _ = decoder_lstm(dec_emb, initial_state=[state_h, state_c])"
   ]
  },
  {
   "cell_type": "code",
   "execution_count": 46,
   "id": "dc61ebdb",
   "metadata": {},
   "outputs": [
    {
     "name": "stdout",
     "output_type": "stream",
     "text": [
      "Model: \"model\"\n",
      "__________________________________________________________________________________________________\n",
      "Layer (type)                    Output Shape         Param #     Connected to                     \n",
      "==================================================================================================\n",
      "input_1 (InputLayer)            [(None, 38)]         0                                            \n",
      "__________________________________________________________________________________________________\n",
      "embedding (Embedding)           (None, 38, 128)      2432000     input_1[0][0]                    \n",
      "__________________________________________________________________________________________________\n",
      "lstm (LSTM)                     [(None, 38, 256), (N 394240      embedding[0][0]                  \n",
      "__________________________________________________________________________________________________\n",
      "input_2 (InputLayer)            [(None, None)]       0                                            \n",
      "__________________________________________________________________________________________________\n",
      "lstm_1 (LSTM)                   [(None, 38, 256), (N 525312      lstm[0][0]                       \n",
      "__________________________________________________________________________________________________\n",
      "embedding_1 (Embedding)         (None, None, 128)    1152000     input_2[0][0]                    \n",
      "__________________________________________________________________________________________________\n",
      "lstm_2 (LSTM)                   [(None, 38, 256), (N 525312      lstm_1[0][0]                     \n",
      "__________________________________________________________________________________________________\n",
      "lstm_3 (LSTM)                   [(None, None, 256),  394240      embedding_1[0][0]                \n",
      "                                                                 lstm_2[0][1]                     \n",
      "                                                                 lstm_2[0][2]                     \n",
      "__________________________________________________________________________________________________\n",
      "dense (Dense)                   (None, None, 9000)   2313000     lstm_3[0][0]                     \n",
      "==================================================================================================\n",
      "Total params: 7,736,104\n",
      "Trainable params: 7,736,104\n",
      "Non-trainable params: 0\n",
      "__________________________________________________________________________________________________\n"
     ]
    }
   ],
   "source": [
    "# 디코더의 출력층\n",
    "decoder_softmax_layer = Dense(tar_vocab, activation='softmax')\n",
    "decoder_softmax_outputs = decoder_softmax_layer(decoder_outputs) \n",
    "\n",
    "# 모델 정의\n",
    "model = Model([encoder_inputs, decoder_inputs], decoder_softmax_outputs)\n",
    "model.summary()\n"
   ]
  },
  {
   "cell_type": "markdown",
   "id": "55cd7010",
   "metadata": {},
   "source": [
    "## Step 3. 어텐션 메커니즘 사용하기 (추상적 요약)\n",
    "일반적인 seq2seq보다는 어텐션 메커니즘을 사용한 seq2seq를 사용하는 것이 더 나은 성능을 얻을 수 있어요. 실습 내용을 참고하여 어텐션 메커니즘을 사용한 seq2seq를 설계해 보세요.\n"
   ]
  },
  {
   "cell_type": "code",
   "execution_count": 47,
   "id": "f8848c61",
   "metadata": {},
   "outputs": [
    {
     "name": "stdout",
     "output_type": "stream",
     "text": [
      "Model: \"model_1\"\n",
      "__________________________________________________________________________________________________\n",
      "Layer (type)                    Output Shape         Param #     Connected to                     \n",
      "==================================================================================================\n",
      "input_1 (InputLayer)            [(None, 38)]         0                                            \n",
      "__________________________________________________________________________________________________\n",
      "embedding (Embedding)           (None, 38, 128)      2432000     input_1[0][0]                    \n",
      "__________________________________________________________________________________________________\n",
      "lstm (LSTM)                     [(None, 38, 256), (N 394240      embedding[0][0]                  \n",
      "__________________________________________________________________________________________________\n",
      "input_2 (InputLayer)            [(None, None)]       0                                            \n",
      "__________________________________________________________________________________________________\n",
      "lstm_1 (LSTM)                   [(None, 38, 256), (N 525312      lstm[0][0]                       \n",
      "__________________________________________________________________________________________________\n",
      "embedding_1 (Embedding)         (None, None, 128)    1152000     input_2[0][0]                    \n",
      "__________________________________________________________________________________________________\n",
      "lstm_2 (LSTM)                   [(None, 38, 256), (N 525312      lstm_1[0][0]                     \n",
      "__________________________________________________________________________________________________\n",
      "lstm_3 (LSTM)                   [(None, None, 256),  394240      embedding_1[0][0]                \n",
      "                                                                 lstm_2[0][1]                     \n",
      "                                                                 lstm_2[0][2]                     \n",
      "__________________________________________________________________________________________________\n",
      "attention_layer (AdditiveAttent (None, None, 256)    256         lstm_3[0][0]                     \n",
      "                                                                 lstm_2[0][0]                     \n",
      "__________________________________________________________________________________________________\n",
      "concat_layer (Concatenate)      (None, None, 512)    0           lstm_3[0][0]                     \n",
      "                                                                 attention_layer[0][0]            \n",
      "__________________________________________________________________________________________________\n",
      "dense_1 (Dense)                 (None, None, 9000)   4617000     concat_layer[0][0]               \n",
      "==================================================================================================\n",
      "Total params: 10,040,360\n",
      "Trainable params: 10,040,360\n",
      "Non-trainable params: 0\n",
      "__________________________________________________________________________________________________\n"
     ]
    }
   ],
   "source": [
    "from tensorflow.keras.layers import AdditiveAttention\n",
    "\n",
    "# 어텐션 층(어텐션 함수)\n",
    "attn_layer = AdditiveAttention(name='attention_layer')\n",
    "\n",
    "# 인코더와 디코더의 모든 time step의 hidden state를 어텐션 층에 전달하고 결과를 리턴\n",
    "attn_out = attn_layer([decoder_outputs, encoder_outputs])\n",
    "\n",
    "\n",
    "# 어텐션의 결과와 디코더의 hidden state들을 연결\n",
    "decoder_concat_input = Concatenate(axis=-1, name='concat_layer')([decoder_outputs, attn_out])\n",
    "\n",
    "# 디코더의 출력층\n",
    "decoder_softmax_layer = Dense(tar_vocab, activation='softmax')\n",
    "decoder_softmax_outputs = decoder_softmax_layer(decoder_concat_input)\n",
    "\n",
    "# 모델 정의\n",
    "model = Model([encoder_inputs, decoder_inputs], decoder_softmax_outputs)\n",
    "model.summary()"
   ]
  },
  {
   "cell_type": "markdown",
   "id": "55cbd20e",
   "metadata": {},
   "source": [
    "### 모델 훈련하기"
   ]
  },
  {
   "cell_type": "code",
   "execution_count": 48,
   "id": "86ae3505",
   "metadata": {},
   "outputs": [
    {
     "name": "stdout",
     "output_type": "stream",
     "text": [
      "Epoch 1/50\n",
      "205/205 [==============================] - 49s 81ms/step - loss: 6.3440 - val_loss: 5.9654\n",
      "Epoch 2/50\n",
      "205/205 [==============================] - 16s 76ms/step - loss: 5.8273 - val_loss: 5.6483\n",
      "Epoch 3/50\n",
      "205/205 [==============================] - 16s 77ms/step - loss: 5.4921 - val_loss: 5.4045\n",
      "Epoch 4/50\n",
      "205/205 [==============================] - 16s 78ms/step - loss: 5.2188 - val_loss: 5.2205\n",
      "Epoch 5/50\n",
      "205/205 [==============================] - 16s 79ms/step - loss: 5.0016 - val_loss: 5.0672\n",
      "Epoch 6/50\n",
      "205/205 [==============================] - 16s 80ms/step - loss: 4.8132 - val_loss: 4.9461\n",
      "Epoch 7/50\n",
      "205/205 [==============================] - 17s 81ms/step - loss: 4.6414 - val_loss: 4.8565\n",
      "Epoch 8/50\n",
      "205/205 [==============================] - 17s 82ms/step - loss: 4.4880 - val_loss: 4.7373\n",
      "Epoch 9/50\n",
      "205/205 [==============================] - 17s 83ms/step - loss: 4.3455 - val_loss: 4.7359\n",
      "Epoch 10/50\n",
      "205/205 [==============================] - 17s 84ms/step - loss: 4.2161 - val_loss: 4.6289\n",
      "Epoch 11/50\n",
      "205/205 [==============================] - 17s 84ms/step - loss: 4.0951 - val_loss: 4.5567\n",
      "Epoch 12/50\n",
      "205/205 [==============================] - 17s 84ms/step - loss: 3.9852 - val_loss: 4.5140\n",
      "Epoch 13/50\n",
      "205/205 [==============================] - 17s 83ms/step - loss: 3.8833 - val_loss: 4.5001\n",
      "Epoch 14/50\n",
      "205/205 [==============================] - 17s 83ms/step - loss: 3.7863 - val_loss: 4.4938\n",
      "Epoch 15/50\n",
      "205/205 [==============================] - 17s 84ms/step - loss: 3.6954 - val_loss: 4.4425\n",
      "Epoch 16/50\n",
      "205/205 [==============================] - 17s 83ms/step - loss: 3.6114 - val_loss: 4.4434\n",
      "Epoch 17/50\n",
      "205/205 [==============================] - 17s 84ms/step - loss: 3.5316 - val_loss: 4.4046\n",
      "Epoch 18/50\n",
      "205/205 [==============================] - 17s 84ms/step - loss: 3.4576 - val_loss: 4.4141\n",
      "Epoch 19/50\n",
      "205/205 [==============================] - 17s 84ms/step - loss: 3.3860 - val_loss: 4.3714\n",
      "Epoch 20/50\n",
      "205/205 [==============================] - 17s 84ms/step - loss: 3.3127 - val_loss: 4.3817\n",
      "Epoch 21/50\n",
      "205/205 [==============================] - 17s 84ms/step - loss: 3.2473 - val_loss: 4.3963\n",
      "Epoch 00021: early stopping\n"
     ]
    }
   ],
   "source": [
    "model.compile(optimizer='rmsprop', loss='sparse_categorical_crossentropy')\n",
    "es = EarlyStopping(monitor='val_loss', patience=2, verbose=1)\n",
    "history = model.fit(x=[encoder_input_train, decoder_input_train], y=decoder_target_train, \\\n",
    "          validation_data=([encoder_input_test, decoder_input_test], decoder_target_test), \\\n",
    "          batch_size=256, callbacks=[es], epochs=50)"
   ]
  },
  {
   "cell_type": "code",
   "execution_count": 49,
   "id": "f92c91d7",
   "metadata": {},
   "outputs": [
    {
     "data": {
      "image/png": "[encoded data removed]",
      "text/plain": [
       "<Figure size 432x288 with 1 Axes>"
      ]
     },
     "metadata": {
      "needs_background": "light"
     },
     "output_type": "display_data"
    }
   ],
   "source": [
    "plt.plot(history.history['loss'], label='train')\n",
    "plt.plot(history.history['val_loss'], label='test')\n",
    "plt.legend()\n",
    "plt.show()"
   ]
  },
  {
   "cell_type": "markdown",
   "id": "200c28a9",
   "metadata": {},
   "source": [
    "### 인퍼런스 모델 구현하기"
   ]
  },
  {
   "cell_type": "markdown",
   "id": "cdbe7728",
   "metadata": {},
   "source": [
    "테스트 단계에서는 정수 인덱스 행렬로 존재하던 텍스트 데이터를 실제 데이터로 복원해야 하므로, 필요한 3개의 사전을 아래와 같이 미리 준비해 둡니다."
   ]
  },
  {
   "cell_type": "code",
   "execution_count": 50,
   "id": "3495ca55",
   "metadata": {},
   "outputs": [
    {
     "name": "stdout",
     "output_type": "stream",
     "text": [
      "src_index_to_word[1]:  said\n",
      "tar_word_to_index[great]:  1294\n",
      "tar_index_to_word[3]:  to\n"
     ]
    }
   ],
   "source": [
    "src_index_to_word = src_tokenizer.index_word # 원문 단어 집합에서 정수 -> 단어를 얻음\n",
    "tar_word_to_index = tar_tokenizer.word_index # 요약 단어 집합에서 단어 -> 정수를 얻음\n",
    "tar_index_to_word = tar_tokenizer.index_word # 요약 단어 집합에서 정수 -> 단어를 얻음\n",
    "\n",
    "print('src_index_to_word[1]: ', src_index_to_word[1])\n",
    "print('tar_word_to_index[great]: ', tar_word_to_index['great'])\n",
    "print('tar_index_to_word[3]: ', tar_index_to_word[3])"
   ]
  },
  {
   "cell_type": "markdown",
   "id": "f8d8a9b8",
   "metadata": {},
   "source": [
    "seq2seq는 훈련할 때와 실제 동작할 때(인퍼런스 단계)의 방식이 다르므로 그에 맞게 모델 설계를 별개로 진행해야 한다는 것, 알고 계시나요?\n",
    "\n",
    "훈련 단계에서는 디코더의 입력부에 정답이 되는 문장 전체를 한꺼번에 넣고 디코더의 출력과 한 번에 비교할 수 있으므로, 인코더와 디코더를 엮은 통짜 모델 하나만 준비했습니다.\n",
    "\n",
    "그러나 정답 문장이 없는 인퍼런스 단계에서는 만들어야 할 문장의 길이만큼 디코더가 반복 구조로 동작해야 하기 때문에 부득이하게 인퍼런스를 위한 모델 설계를 별도로 해주어야 합니다. 이때는 인코더 모델과 디코더 모델을 분리해서 설계합니다."
   ]
  },
  {
   "cell_type": "code",
   "execution_count": 51,
   "id": "9ae27f10",
   "metadata": {},
   "outputs": [],
   "source": [
    "# 인코더 설계\n",
    "encoder_model = Model(inputs=encoder_inputs, outputs=[encoder_outputs, state_h, state_c])\n",
    "\n",
    "# 이전 시점의 상태들을 저장하는 텐서\n",
    "decoder_state_input_h = Input(shape=(hidden_size,))\n",
    "decoder_state_input_c = Input(shape=(hidden_size,))\n",
    "\n",
    "dec_emb2 = dec_emb_layer(decoder_inputs)\n",
    "\n",
    "# 문장의 다음 단어를 예측하기 위해서 초기 상태(initial_state)를 이전 시점의 상태로 사용. 이는 뒤의 함수 decode_sequence()에 구현\n",
    "# 훈련 과정에서와 달리 LSTM의 리턴하는 은닉 상태와 셀 상태인 state_h와 state_c를 버리지 않음.\n",
    "decoder_outputs2, state_h2, state_c2 = decoder_lstm(dec_emb2, initial_state=[decoder_state_input_h, decoder_state_input_c])\n"
   ]
  },
  {
   "cell_type": "code",
   "execution_count": 52,
   "id": "d1bd2b06",
   "metadata": {},
   "outputs": [],
   "source": [
    "# 어텐션 함수\n",
    "decoder_hidden_state_input = Input(shape=(text_max_len, hidden_size))\n",
    "attn_out_inf = attn_layer([decoder_outputs2, decoder_hidden_state_input])\n",
    "decoder_inf_concat = Concatenate(axis=-1, name='concat')([decoder_outputs2, attn_out_inf])\n",
    "\n",
    "# 디코더의 출력층\n",
    "decoder_outputs2 = decoder_softmax_layer(decoder_inf_concat) \n",
    "\n",
    "# 최종 디코더 모델\n",
    "decoder_model = Model(\n",
    "    [decoder_inputs] + [decoder_hidden_state_input,decoder_state_input_h, decoder_state_input_c],\n",
    "    [decoder_outputs2] + [state_h2, state_c2])\n"
   ]
  },
  {
   "cell_type": "code",
   "execution_count": 53,
   "id": "89a503cb",
   "metadata": {},
   "outputs": [],
   "source": [
    "def decode_sequence(input_seq):\n",
    "    # 입력으로부터 인코더의 상태를 얻음\n",
    "    e_out, e_h, e_c = encoder_model.predict(input_seq)\n",
    "\n",
    "     # <SOS>에 해당하는 토큰 생성\n",
    "    target_seq = np.zeros((1,1))\n",
    "    target_seq[0, 0] = tar_word_to_index['sostoken']\n",
    "\n",
    "    stop_condition = False\n",
    "    decoded_sentence = ''\n",
    "    while not stop_condition: # stop_condition이 True가 될 때까지 루프 반복\n",
    "\n",
    "        output_tokens, h, c = decoder_model.predict([target_seq] + [e_out, e_h, e_c])\n",
    "        sampled_token_index = np.argmax(output_tokens[0, -1, :])\n",
    "        sampled_token = tar_index_to_word[sampled_token_index]\n",
    "\n",
    "        if (sampled_token!='eostoken'):\n",
    "            decoded_sentence += ' '+sampled_token\n",
    "\n",
    "        #  <eos>에 도달하거나 최대 길이를 넘으면 중단.\n",
    "        if (sampled_token == 'eostoken'  or len(decoded_sentence.split()) >= (headlines_max_len-1)):\n",
    "            stop_condition = True\n",
    "\n",
    "        # 길이가 1인 타겟 시퀀스를 업데이트\n",
    "        target_seq = np.zeros((1,1))\n",
    "        target_seq[0, 0] = sampled_token_index\n",
    "\n",
    "        # 상태를 업데이트 합니다.\n",
    "        e_h, e_c = h, c\n",
    "\n",
    "    return decoded_sentence"
   ]
  },
  {
   "cell_type": "code",
   "execution_count": 54,
   "id": "041b8150",
   "metadata": {},
   "outputs": [],
   "source": [
    "def decode_sequence(input_seq):\n",
    "    # 입력으로부터 인코더의 상태를 얻음\n",
    "    e_out, e_h, e_c = encoder_model.predict(input_seq)\n",
    "\n",
    "     # <SOS>에 해당하는 토큰 생성\n",
    "    target_seq = np.zeros((1,1))\n",
    "    target_seq[0, 0] = tar_word_to_index['sostoken']\n",
    "\n",
    "    stop_condition = False\n",
    "    decoded_sentence = ''\n",
    "    while not stop_condition: # stop_condition이 True가 될 때까지 루프 반복\n",
    "\n",
    "        output_tokens, h, c = decoder_model.predict([target_seq] + [e_out, e_h, e_c])\n",
    "        sampled_token_index = np.argmax(output_tokens[0, -1, :])\n",
    "        sampled_token = tar_index_to_word[sampled_token_index]\n",
    "\n",
    "        if (sampled_token!='eostoken'):\n",
    "            decoded_sentence += ' '+sampled_token\n",
    "\n",
    "        #  <eos>에 도달하거나 최대 길이를 넘으면 중단.\n",
    "        if (sampled_token == 'eostoken'  or len(decoded_sentence.split()) >= (headlines_max_len-1)):\n",
    "            stop_condition = True\n",
    "\n",
    "        # 길이가 1인 타겟 시퀀스를 업데이트\n",
    "        target_seq = np.zeros((1,1))\n",
    "        target_seq[0, 0] = sampled_token_index\n",
    "\n",
    "        # 상태를 업데이트 합니다.\n",
    "        e_h, e_c = h, c\n",
    "\n",
    "    return decoded_sentence"
   ]
  },
  {
   "cell_type": "markdown",
   "id": "866e0e78",
   "metadata": {},
   "source": [
    "## Step 4. 실제 결과와 요약문 비교하기 (추상적 요약)\n",
    "\n",
    "원래의 요약문(headlines 열)과 학습을 통해 얻은 추상적 요약의 결과를 비교해 보기."
   ]
  },
  {
   "cell_type": "markdown",
   "id": "2745612a",
   "metadata": {},
   "source": [
    "모델 테스트하기\n",
    "\n",
    "테스트 단계에서는 정수 시퀀스를 텍스트 시퀀스로 변환하여 결과를 확인하는 것이 편하겠죠. 주어진 정수 시퀀스를 텍스트 시퀀스로 변환하는 함수를 만들어볼게요. 함수를 만들 때, Text의 정수 시퀀스에서는 패딩을 위해 사용되는 숫자 0을 제외하고 headlines의 정수 시퀀스에서는 숫자 0, 시작 토큰의 인덱스, 종료 토큰의 인덱스를 출력에서 제외하도록 만들 거예요."
   ]
  },
  {
   "cell_type": "code",
   "execution_count": 55,
   "id": "e4270976",
   "metadata": {},
   "outputs": [],
   "source": [
    "# 원문의 정수 시퀀스를 텍스트 시퀀스로 변환\n",
    "def seq2text(input_seq):\n",
    "    temp=''\n",
    "    for i in input_seq:\n",
    "        if (i!=0):\n",
    "            temp = temp + src_index_to_word[i]+' '\n",
    "    return temp\n",
    "\n",
    "# 요약문의 정수 시퀀스를 텍스트 시퀀스로 변환\n",
    "def seq2headlines(input_seq):\n",
    "    temp=''\n",
    "    for i in input_seq:\n",
    "        if ((i!=0 and i!=tar_word_to_index['sostoken']) and i!=tar_word_to_index['eostoken']):\n",
    "            temp = temp + tar_index_to_word[i] + ' '\n",
    "    return temp"
   ]
  },
  {
   "cell_type": "code",
   "execution_count": 56,
   "id": "fec4a07e",
   "metadata": {},
   "outputs": [
    {
     "name": "stdout",
     "output_type": "stream",
     "text": [
      "원문 : former us transgender soldier chelsea manning convicted giving classified government materials wikileaks appeared september issue vogue manning photographed red swimsuit beach magazine th anniversary september issue manning released us prison may year serving seven years year sentence \n",
      "실제 요약 : wikileaks source chelsea appears in vogue issue \n",
      "예측 요약 :  ex french prez announces indian origin for\n",
      "\n",
      "\n",
      "원문 : alok verma removed post cbi director former chief justice india lodha said time come political executive lodha said political executive continues control types things occur adding supreme court already evolved mechanism cbi function independently \n",
      "실제 요약 : time to cbi from political executive ex cji \n",
      "예측 요약 :  sasikala has been in india says cbi chief\n",
      "\n",
      "\n",
      "원문 : karnataka asked supreme court review decision drop proceedings late tamil nadu cm jayalalithaa disproportionate assets case saying recover crore fine estate sale sc earlier overturned karnataka high court order giving clean chit jayalalithaa charges due death \n",
      "실제 요약 : recover cr fine from jaya estate sale taka tells sc \n",
      "예측 요약 :  sc seeks cr assets of assets in assets case\n",
      "\n",
      "\n",
      "원문 : rakhi sawant claimed tanushree dutta lesbian alleged raped multiple times years ago tanushree called rakhi sex money obsessed tanushree added done plastic surgery brain also claimed rakhi bad mouthing failed convince convert christianity \n",
      "실제 요약 : rakhi sawant is sex and money obsessed tanushree \n",
      "예측 요약 :  did not install action against tanushree abduction case\n",
      "\n",
      "\n",
      "원문 : western railway introduce new mumbai local train services october commuters travelling andheri two trains reportedly ply morning peak hours two evening line andheri earlier used mail express trains railway officials said \n",
      "실제 요약 : new local trains to in mumbai \n",
      "예측 요약 :  mumbai train to get first time to avoid\n",
      "\n",
      "\n",
      "원문 : total million upi transactions february paytm contributed million total transactions report national payments corporation india revealed paytm recorded million upi transactions december million january total upi transactions february went compared january \n",
      "실제 요약 : paytm of total upi transactions in february \n",
      "예측 요약 :  indian bank raises crore from its bank\n",
      "\n",
      "\n",
      "원문 : nike controversial ad campaign featuring american football player colin kaepernick received media exposure worth million less days according apex marketing group apex around publicity positive negative neutral kaepernick protested police violence racial inequality us national anthem \n",
      "실제 요약 : controversial nike ad creates media exposure worth cr \n",
      "예측 요약 :  man accused of cr on cr in real estate\n",
      "\n",
      "\n",
      "원문 : lakh bank employees gone one day nationwide strike wednesday protest proposed vijaya bank dena bank bank baroda second bank strike less week last friday officers union state run banks observed day long strike protest merger \n",
      "실제 요약 : lakh bank employees go on one day nationwide strike \n",
      "예측 요약 :  sbi to pay crore to bank employees in\n",
      "\n",
      "\n",
      "원문 : unique identification authority india clarified aadhaar still necessary opening new bank accounts applying passports supreme court tuesday shifted deadline linking existing bank accounts pan card among others added without aadhaar could avail services aadhaar application number \n",
      "실제 요약 : aadhaar must for new bank account passport uidai \n",
      "예측 요약 :  aadhaar must be allowed to aadhaar data uidai\n",
      "\n",
      "\n",
      "원문 : aiims resident doctors condemned dr khan brd medical college hospital gorakhpur alleging made scapegoat incident association written letter wherein accused government gross public health notably dr hailed hero getting oxygen cylinders crisis \n",
      "실제 요약 : dr made in gorakhpur tragedy aiims doctors \n",
      "예측 요약 :  doctors fall ill after eating patients in up\n",
      "\n",
      "\n",
      "원문 : digital currency exchange announced reimburse customers suffered losses ethereum plummeted around cents seconds wednesday flash crash triggered one investor placing multi million dollar sell order however investors bought ethereum low prices crash trade still honoured \n",
      "실제 요약 : firm loss as digital currency fell from to \n",
      "예측 요약 :  tata motors shares fall in minutes after shares fall\n",
      "\n",
      "\n",
      "원문 : switzerland topped list average wealth per adult according credit suisse global wealth report followed australia united states second third place respectively global mean wealth per adult reached new record high report added \n",
      "실제 요약 : switzerland has highest wealth per adult at cr report \n",
      "예측 요약 :  india richest to be among world richest\n",
      "\n",
      "\n",
      "원문 : nephew samajwadi party ramesh yadav caught camera slapping police officer inside police station uttar pradesh etah wednesday man mohit yadav seen shouting name mohit yadav slapping policeman yadav arrested charges assault policeman duty \n",
      "실제 요약 : samajwadi party mlc drunk kin slaps cop in police station \n",
      "예측 요약 :  sp leader booked for allegedly abusing temple in bihar\n",
      "\n",
      "\n",
      "원문 : french carmaker bugatti launched limited edition bicycle luxury pg priced lakh bicycle weighs less kg shock bar company also notes bike piece sports equipment intended used public roads \n",
      "실제 요약 : bugatti launches limited edition bicycle at lakh \n",
      "예측 요약 :  launches house for lakh\n",
      "\n",
      "\n",
      "원문 : video shows turkmenistan president personally testing bmw purchased recently country interior ministry driving year old president could seen along track high speeds known love motor racing several times defeated professional \n",
      "실제 요약 : prez govt new bmw on \n",
      "예측 요약 :  former uber president quits for flying startup\n",
      "\n",
      "\n",
      "원문 : one man two women arrested allegedly stopped truck carrying buffalo meat thursday near mumbai driver relevant documents called police truck stopped officials said doubts meat informed us right stop truck officials added \n",
      "실제 요약 : arrested for stopping truck carrying buffalo meat \n",
      "예측 요약 :  man arrested for molesting woman in mumbai\n",
      "\n",
      "\n",
      "원문 : actor nawazuddin siddiqui said controversies began started speaking truth added got strength speak truth lot people started slam honest came cost nawazuddin said spoke lot truth biography later apologise \n",
      "실제 요약 : started when began telling truth nawazuddin \n",
      "예측 요약 :  am not an for my life nawazuddin on nawazuddin\n",
      "\n",
      "\n",
      "원문 : one year old baby weighing kg undergone successful liver transplant navi mumbai becoming smallest infant successfully undergo procedure maharashtra baby hails gujarat diagnosed critical end stage liver disease surgery performed february aunt volunteered donate part liver \n",
      "실제 요약 : yr old undergoes successful transplant in mumbai \n",
      "예측 요약 :  year old girl to be born in minutes\n",
      "\n",
      "\n",
      "원문 : us woman said fired employer austin bank texas national association intimate photo shoot fianc went viral said bank told family oriented concerned photos would reflect company said remains proud photos taken wolf rose photography \n",
      "실제 요약 : company fires us woman for intimate photo shoot with fianc \n",
      "예측 요약 :  us american shooter sues girlfriend over alleged girlfriend\n",
      "\n",
      "\n",
      "원문 : television actor rajat slammed media reports claiming extra marital affair reports suggested year old actor affair co star tanu khan tv show chandra meanwhile rajat married girlfriend private ceremony \n",
      "실제 요약 : slams media for reports on extra marital affair \n",
      "예측 요약 :  actress denies rumours of being raped by\n",
      "\n",
      "\n",
      "원문 : main accused shooting shopping mall varanasi two people killed two others injured nabbed police caught alok upadhyay express train keeping mobile surveillance upadhyay three others allegedly opened fire mall argument salesman \n",
      "실제 요약 : main accused in varanasi mall shooting which killed held \n",
      "예측 요약 :  killed as bus collides with truck in up\n",
      "\n",
      "\n",
      "원문 : couple got married train journey presence art living founder sri sri ravi shankar couple exchanged sri sri ravi shankar recited mantras meanwhile train coach decorated flowers couple said first incident indian railways \n",
      "실제 요약 : couple gets married on train journey in sri sri presence \n",
      "예측 요약 :  woman to host first woman in china\n",
      "\n",
      "\n",
      "원문 : mark zuckerberg business card read ceo early years facebook according card designer bryan idea came fact zuckerberg actually used utter phrase time style steve jobs born may zuckerberg turned today \n",
      "실제 요약 : zuckerberg had business card that read ceo \n",
      "예측 요약 :  we have been about facebook facebook ceo\n",
      "\n",
      "\n",
      "원문 : order treat solid waste point generation greater noida authority announced plans make biodegradable waste multiple locations across city tonnes municipal waste generated daily greater noida presently dumped vacant areas due absence landfill site reports said \n",
      "실제 요약 : greater noida to make across multiple \n",
      "예측 요약 :  gurugram civic body to use of water by water\n",
      "\n",
      "\n",
      "원문 : aviation arm indian navy double aircraft fleet coming decade nearly chief naval staff admiral sunil lanba said friday navy currently aircraft combination fighters helicopters maritime patrol aircraft lanba added ships submarines construction indian \n",
      "실제 요약 : navy aircraft fleet to reach in next decade navy chief \n",
      "예측 요약 :  india first indian fighter aircraft to be auctioned\n",
      "\n",
      "\n",
      "원문 : occasion film maine kiya completing years release saturday tweeted picture salman khan wrote years flown love still makes world go round made bollywood debut sooraj film filmfare award sensational debut \n",
      "실제 요약 : years flown by on \n",
      "예측 요약 :  salman khan to star in salman khan film report\n",
      "\n",
      "\n",
      "원문 : slamming centre taking necessary steps welfare widows supreme court tuesday said neither families centre wants look seen plight widows supposed court questioned also asked centre respond report condition \n",
      "실제 요약 : families govt interested in widows welfare sc \n",
      "예측 요약 :  govt to be held for constitution sc\n",
      "\n",
      "\n",
      "원문 : maharashtra government announced setting call centre address passengers queries regarding schedule maharashtra state road transport corporation buses reservations schemes tickets passes spokesperson said existing helpline ineffective catering passengers due lack trained staff infrastructure \n",
      "실제 요약 : call centre to be set up for maharashtra bus passengers \n",
      "예측 요약 :  maharashtra govt to get compensation for overcharging\n",
      "\n",
      "\n",
      "원문 : year old woman allegedly committed suicide hanging home hyderabad children refused take wedding function family refused take due health problems according police case registered investigation incident underway \n",
      "실제 요약 : woman kills self over not being taken to family function \n",
      "예측 요약 :  year old girl commits suicide after being denied\n",
      "\n",
      "\n",
      "원문 : external affairs minister sushma swaraj monday said increasingly important chinese people learn hindi indians learn chinese speaking programme organised indian embassy china swaraj added sitting two friends may able translate words feelings say something \n",
      "실제 요약 : indians chinese should learn each other language swaraj \n",
      "예측 요약 :  indian cricket minister to visit india for hindi tweet\n",
      "\n",
      "\n",
      "원문 : guatemala supreme court referred matter lifting president jimmy morales immunity prosecution country congress final consideration court decision related allegations morales illegally financed campaign congress form five member committee examine case present conclusion full body \n",
      "실제 요약 : congress to vote on lifting president \n",
      "예측 요약 :  sc rejects plea to probe into election election case\n",
      "\n",
      "\n",
      "원문 : china managed score overs icc world twenty asia region qualifier match thailand batsmen scoring less runs china innings included two fours number nine batsman wang ya top scoring thailand chased target balls remaining \n",
      "실제 요약 : china score in overs target chased with balls left \n",
      "예측 요약 :  india first ever ever total came in years\n",
      "\n",
      "\n",
      "원문 : ishaan khatter seen opposite janhvi kapoor dhadak said bit unintentionally funny brings smile everyone face added working janhvi like tom set said janhvi dedicated involved sincere \n",
      "실제 요약 : janhvi is ishaan khatter \n",
      "예측 요약 :  arjun kapoor to star in upcoming film\n",
      "\n",
      "\n",
      "원문 : commission examining sub central list obcs decided conduct survey estimate caste wise population figures commission sought funds centre since available official caste wise population data post independence commission decided get india survey justice rohini said \n",
      "실제 요약 : panel to conduct survey for sub of obc \n",
      "예측 요약 :  govt to give lakh to lakh for years\n",
      "\n",
      "\n",
      "원문 : sara ali khan made bollywood debut kedarnath said people appreciate fact real endeavour real person think much try organic token get appreciation criticism well take way added sara \n",
      "실제 요약 : people appreciate the fact that am real sara ali khan \n",
      "예측 요약 :  have never know my life saif on ali khan\n",
      "\n",
      "\n",
      "원문 : residents darjeeling students sikkim university protesting west bengal government decision constructing tourist hub tiger hill protesters claim construction work direct violation green norms disturb natural beauty place affect endangered plants animals wildlife sanctuary \n",
      "실제 요약 : darjeeling protests making of tourist lodge at tiger hill \n",
      "예측 요약 :  telangana students protest against entering world\n",
      "\n",
      "\n",
      "원문 : according reports actor sanjay dutt cameo appearance ranbir kapoor katrina kaif starrer film jagga jasoos sources suggest dutt play role ranbir recommended dutt name part previously reports shah rukh khan cameo film also emerged \n",
      "실제 요약 : dutt to have cameo in ranbir jagga jasoos report \n",
      "예측 요약 :  release date of ranbir ranbir starrer sanju announced\n",
      "\n",
      "\n",
      "원문 : german carrier air berlin auctioning entire inventory going bankrupt million debt authorities said air berlin stock must auctioned recover cash items auctioned include life jackets blankets chocolate hearts business class seats \n",
      "실제 요약 : bankrupt airline auctioning off plane seats life \n",
      "예측 요약 :  hong kong buys crore bid for crore\n",
      "\n",
      "\n",
      "원문 : banned indian cricketer sreesanth seen arguing bollywood actor reality show bigg boss host salman khan threaten quit bigg boss house sreesanth earlier walked task show threatened quit show afterwards seen explaining actions salman saturday \n",
      "실제 요약 : sreesanth with salman threatens to quit bigg boss again \n",
      "예측 요약 :  hrithik roshan denies rumours of hrithik roshan\n",
      "\n",
      "\n",
      "원문 : uk based entrepreneurs designed fitness app pays users physically active using gps location app currently active us uk ireland pays digital number steps users take daily measured smartphones coins exchanged fitness related products services \n",
      "실제 요약 : fitness app pays users to be physically active \n",
      "예측 요약 :  facebook tests feature to let users in real time\n",
      "\n",
      "\n",
      "원문 : icc chairman shashank manohar deferred resignation continue remain post board announced friday manohar delayed departure resolution passed icc board requesting stay till ongoing governance financial restructuring process complete reportedly remain chairman till icc annual conference june \n",
      "실제 요약 : manohar defers resignation to remain icc chairman \n",
      "예측 요약 :  ex india chief resigns as chairman chairman\n",
      "\n",
      "\n",
      "원문 : according reports filmmaker karan johar directing comedy first time story revolve around small town couple thus breaking away elite people films source said reported actor vicky kaushal signed film male lead \n",
      "실제 요약 : karan johar to direct comedy film for st time reports \n",
      "예측 요약 :  johar to star in johar on koffee with karan\n",
      "\n",
      "\n",
      "원문 : tamil nadu government announced state hold seven day mourning mark respect following demise dmk chief karunanidhi chennai today state government announced public holiday wednesday karunanidhi mortal remains taken three locations people pay last respects \n",
      "실제 요약 : tn announces public holiday day for karunanidhi \n",
      "예측 요약 :  tamil nadu to visit up for independence days\n",
      "\n",
      "\n",
      "원문 : claiming indian railways used political reasons earlier railway minister piyush goyal wednesday said bullet train technology arrived india delay years pm narendra modi come speaking congress said happy bullet train project could implement government \n",
      "실제 요약 : bullet trains delayed for yrs then came pm piyush goyal \n",
      "예측 요약 :  govt to set up airport on palestine\n",
      "\n",
      "\n",
      "원문 : several photographs emerged showing zimbabwe president robert mugabe allegedly sleeping meetings spokesperson claimed year old resting eyes sleeping mugabe medical condition means eyes cannot handle bright lights spokesperson said mugabe power since plans run election next year \n",
      "실제 요약 : zimbabwe prez not sleeping just eyes aide \n",
      "예측 요약 :  ex prez pranab mukherjee dies in press\n",
      "\n",
      "\n",
      "원문 : two bike borne men allegedly stopped school bus carrying around children kidnapped class student delhi garden thursday morning accused also shot bus driver leg tried stop child police launched investigation incident nab accused \n",
      "실제 요약 : class student kidnapped from school bus in delhi \n",
      "예측 요약 :  bus runs into school bus in ambulance\n",
      "\n",
      "\n",
      "원문 : whitewash sri lanka home indian captain virat kohli completed seventh test win away home surpassing former captain ms dhoni tally six kohli captained india matches compared dhoni matches behind sourav ganguly record tally away wins indian captain \n",
      "실제 요약 : kohli beats dhoni tally of overseas test wins as captain \n",
      "예측 요약 :  kohli takes out of his th odi cricket\n",
      "\n",
      "\n",
      "원문 : price ml cup tea ml cup coffee trains increased per railway board circular standard tea served change prices rajdhani shatabdi food package prepaid \n",
      "실제 요약 : indian railways increases prices of tea coffee on trains \n",
      "예측 요약 :  world largest run by temperature\n",
      "\n",
      "\n",
      "원문 : addressing kathua rape case first time president ram nath kovind wednesday said years independence incident occurring part country shameful think kind society developing responsibility ensure thing happen girl added \n",
      "실제 요약 : after years of freedom kathua rape shameful prez kovind \n",
      "예측 요약 :  india to be jailed for years after years\n",
      "\n",
      "\n",
      "원문 : yahoo announced shutting news digest app replacing newly launched service news digest based app bought yahoo estimated crore nick teenager time closure marks one first cuts following verizon acquisition yahoo \n",
      "실제 요약 : yahoo to shut crore app that it bought from teenager \n",
      "예측 요약 :  facebook to launch in india\n",
      "\n",
      "\n"
     ]
    }
   ],
   "source": [
    "for i in range(50, 100):\n",
    "    print(\"원문 :\", seq2text(encoder_input_test[i]))\n",
    "    print(\"실제 요약 :\", seq2headlines(decoder_input_test[i]))\n",
    "    print(\"예측 요약 :\", decode_sequence(encoder_input_test[i].reshape(1, text_max_len)))\n",
    "    print(\"\\n\")"
   ]
  },
  {
   "cell_type": "markdown",
   "id": "5adb52c8",
   "metadata": {},
   "source": [
    "# Step 5. Summa을 이용해서 추출적 요약해보기\n",
    "추상적 요약은 추출적 요약과는 달리 문장의 표현력을 다양하게 가져갈 수 있지만, 추출적 요약에 비해서 난이도가 높아요. 반대로 말하면 추출적 요약은 추상적 요약에 비해 난이도가 낮고 기존 문장에서 문장을 꺼내오는 것이므로 잘못된 요약이 나올 가능성이 낮아요.\n",
    "Summa의 summarize를 사용하여 추출적 요약을 해보세요"
   ]
  },
  {
   "cell_type": "code",
   "execution_count": 132,
   "id": "c4ba1d95",
   "metadata": {},
   "outputs": [],
   "source": [
    "import requests\n",
    "from summa.summarizer import summarize\n",
    "from summa import summarizer"
   ]
  },
  {
   "cell_type": "code",
   "execution_count": 125,
   "id": "154dabbb",
   "metadata": {},
   "outputs": [],
   "source": [
    "import urllib.request\n",
    "urllib.request.urlretrieve(\"https://raw.githubusercontent.com/sunnysai12345/News_Summary/master/news_summary_more.csv\", filename=\"news_summary_more.csv\")\n",
    "data = pd.read_csv('news_summary_more.csv', encoding='iso-8859-1')"
   ]
  },
  {
   "cell_type": "code",
   "execution_count": 127,
   "id": "321e86e7",
   "metadata": {},
   "outputs": [
    {
     "data": {
      "text/html": [
       "<div>\n",
       "<style scoped>\n",
       "    .dataframe tbody tr th:only-of-type {\n",
       "        vertical-align: middle;\n",
       "    }\n",
       "\n",
       "    .dataframe tbody tr th {\n",
       "        vertical-align: top;\n",
       "    }\n",
       "\n",
       "    .dataframe thead th {\n",
       "        text-align: right;\n",
       "    }\n",
       "</style>\n",
       "<table border=\"1\" class=\"dataframe\">\n",
       "  <thead>\n",
       "    <tr style=\"text-align: right;\">\n",
       "      <th></th>\n",
       "      <th>headlines</th>\n",
       "      <th>text</th>\n",
       "    </tr>\n",
       "  </thead>\n",
       "  <tbody>\n",
       "    <tr>\n",
       "      <th>0</th>\n",
       "      <td>upGrad learner switches to career in ML &amp; Al w...</td>\n",
       "      <td>Saurav Kant, an alumnus of upGrad and IIIT-B's...</td>\n",
       "    </tr>\n",
       "    <tr>\n",
       "      <th>1</th>\n",
       "      <td>Delhi techie wins free food from Swiggy for on...</td>\n",
       "      <td>Kunal Shah's credit card bill payment platform...</td>\n",
       "    </tr>\n",
       "    <tr>\n",
       "      <th>2</th>\n",
       "      <td>New Zealand end Rohit Sharma-led India's 12-ma...</td>\n",
       "      <td>New Zealand defeated India by 8 wickets in the...</td>\n",
       "    </tr>\n",
       "    <tr>\n",
       "      <th>3</th>\n",
       "      <td>Aegon life iTerm insurance plan helps customer...</td>\n",
       "      <td>With Aegon Life iTerm Insurance plan, customer...</td>\n",
       "    </tr>\n",
       "    <tr>\n",
       "      <th>4</th>\n",
       "      <td>Have known Hirani for yrs, what if MeToo claim...</td>\n",
       "      <td>Speaking about the sexual harassment allegatio...</td>\n",
       "    </tr>\n",
       "  </tbody>\n",
       "</table>\n",
       "</div>"
      ],
      "text/plain": [
       "                                           headlines  \\\n",
       "0  upGrad learner switches to career in ML & Al w...   \n",
       "1  Delhi techie wins free food from Swiggy for on...   \n",
       "2  New Zealand end Rohit Sharma-led India's 12-ma...   \n",
       "3  Aegon life iTerm insurance plan helps customer...   \n",
       "4  Have known Hirani for yrs, what if MeToo claim...   \n",
       "\n",
       "                                                text  \n",
       "0  Saurav Kant, an alumnus of upGrad and IIIT-B's...  \n",
       "1  Kunal Shah's credit card bill payment platform...  \n",
       "2  New Zealand defeated India by 8 wickets in the...  \n",
       "3  With Aegon Life iTerm Insurance plan, customer...  \n",
       "4  Speaking about the sexual harassment allegatio...  "
      ]
     },
     "execution_count": 127,
     "metadata": {},
     "output_type": "execute_result"
    }
   ],
   "source": [
    "data.head()"
   ]
  },
  {
   "cell_type": "code",
   "execution_count": 137,
   "id": "62977bc6",
   "metadata": {},
   "outputs": [
    {
     "name": "stdout",
     "output_type": "stream",
     "text": [
      "원문 : Saurav Kant, an alumnus of upGrad and IIIT-B's PG Program in Machine learning and Artificial Intelligence, was a Sr Systems Engineer at Infosys with almost 5 years of work experience. The program and upGrad's 360-degree career support helped him transition to a Data Scientist at Tech Mahindra with 90% salary hike. upGrad's Online Power Learning has powered 3 lakh+ careers.\n",
      "실제 요약 : upGrad learner switches to career in ML & Al with 90% salary hike\n",
      "예측 요약 : upGrad's Online Power Learning has powered 3 lakh+ careers.\n",
      "\n",
      "\n",
      "원문 : Kunal Shah's credit card bill payment platform, CRED, gave users a chance to win free food from Swiggy for one year. Pranav Kaushik, a Delhi techie, bagged this reward after spending 2000 CRED coins. Users get one CRED coin per rupee of bill paid, which can be used to avail rewards from brands like Ixigo, BookMyShow, UberEats, Cult.Fit and more.\n",
      "실제 요약 : Delhi techie wins free food from Swiggy for one year on CRED\n",
      "예측 요약 : Users get one CRED coin per rupee of bill paid, which can be used to avail rewards from brands like Ixigo, BookMyShow, UberEats, Cult.Fit and more.\n",
      "\n",
      "\n",
      "원문 : New Zealand defeated India by 8 wickets in the fourth ODI at Hamilton on Thursday to win their first match of the five-match ODI series. India lost an international match under Rohit Sharma's captaincy after 12 consecutive victories dating back to March 2018. The match witnessed India getting all out for 92, their seventh lowest total in ODI cricket history.\n",
      "실제 요약 : New Zealand end Rohit Sharma-led India's 12-match winning streak\n",
      "예측 요약 : The match witnessed India getting all out for 92, their seventh lowest total in ODI cricket history.\n",
      "\n",
      "\n"
     ]
    }
   ],
   "source": [
    "for i, (head, text) in enumerate(zip(data['headlines'], data['text'])):\n",
    "    if i == 3:\n",
    "        break\n",
    "    print(\"원문 :\", text)\n",
    "    print(\"실제 요약 :\", head)\n",
    "    print(\"예측 요약 :\", summarize(text, ratio=0.35))\n",
    "    print(\"\\n\")"
   ]
  },
  {
   "cell_type": "code",
   "execution_count": 138,
   "id": "e6971bd3",
   "metadata": {},
   "outputs": [
    {
     "name": "stdout",
     "output_type": "stream",
     "text": [
      "원문 : Saurav Kant, an alumnus of upGrad and IIIT-B's PG Program in Machine learning and Artificial Intelligence, was a Sr Systems Engineer at Infosys with almost 5 years of work experience. The program and upGrad's 360-degree career support helped him transition to a Data Scientist at Tech Mahindra with 90% salary hike. upGrad's Online Power Learning has powered 3 lakh+ careers.\n",
      "실제 요약 : upGrad learner switches to career in ML & Al with 90% salary hike\n",
      "예측 요약 : The program and upGrad's 360-degree career support helped him transition to a Data Scientist at Tech Mahindra with 90% salary hike.\n",
      "upGrad's Online Power Learning has powered 3 lakh+ careers.\n",
      "\n",
      "\n",
      "원문 : Kunal Shah's credit card bill payment platform, CRED, gave users a chance to win free food from Swiggy for one year. Pranav Kaushik, a Delhi techie, bagged this reward after spending 2000 CRED coins. Users get one CRED coin per rupee of bill paid, which can be used to avail rewards from brands like Ixigo, BookMyShow, UberEats, Cult.Fit and more.\n",
      "실제 요약 : Delhi techie wins free food from Swiggy for one year on CRED\n",
      "예측 요약 : Pranav Kaushik, a Delhi techie, bagged this reward after spending 2000 CRED coins.\n",
      "Users get one CRED coin per rupee of bill paid, which can be used to avail rewards from brands like Ixigo, BookMyShow, UberEats, Cult.Fit and more.\n",
      "\n",
      "\n",
      "원문 : New Zealand defeated India by 8 wickets in the fourth ODI at Hamilton on Thursday to win their first match of the five-match ODI series. India lost an international match under Rohit Sharma's captaincy after 12 consecutive victories dating back to March 2018. The match witnessed India getting all out for 92, their seventh lowest total in ODI cricket history.\n",
      "실제 요약 : New Zealand end Rohit Sharma-led India's 12-match winning streak\n",
      "예측 요약 : New Zealand defeated India by 8 wickets in the fourth ODI at Hamilton on Thursday to win their first match of the five-match ODI series.\n",
      "The match witnessed India getting all out for 92, their seventh lowest total in ODI cricket history.\n",
      "\n",
      "\n"
     ]
    }
   ],
   "source": [
    "for i, (head, text) in enumerate(zip(data['headlines'], data['text'])):\n",
    "    if i == 3:\n",
    "        break\n",
    "    print(\"원문 :\", text)\n",
    "    print(\"실제 요약 :\", head)\n",
    "    print(\"예측 요약 :\", summarize(text, words = 40))\n",
    "    print(\"\\n\")"
   ]
  },
  {
   "cell_type": "markdown",
   "id": "40377eb6",
   "metadata": {},
   "source": [
    "### 회고\n",
    "Text Summarization으로 Abstractive Summarization, Extractive Summarization 두가지를 해보았습니다.  문장의 자연스러움이나 단어가 break되지 않는 점에서 Extractive Summarization이 완성도가 더 높다는 생각이 들었습니다. Abstractive Summarization의 단어가 break되서 나오는 문제의 원인은 전처리 과정에서 뭔가 잘못 된것 같고 문장이 매끄럽지 못한 것은 학습 하이퍼 파라미터 부분에서 조절이 덜 되어서 그런 것 같습니다. "
   ]
  }
 ],
 "metadata": {
  "kernelspec": {
   "display_name": "Python 3 (ipykernel)",
   "language": "python",
   "name": "python3"
  },
  "language_info": {
   "codemirror_mode": {
    "name": "ipython",
    "version": 3
   },
   "file_extension": ".py",
   "mimetype": "text/x-python",
   "name": "python",
   "nbconvert_exporter": "python",
   "pygments_lexer": "ipython3",
   "version": "3.9.7"
  }
 },
 "nbformat": 4,
 "nbformat_minor": 5
}
