{
 "cells": [
  {
   "cell_type": "markdown",
   "id": "ab51cc33",
   "metadata": {},
   "source": [
    "# Movielens 영화 추천 "
   ]
  },
  {
   "cell_type": "markdown",
   "id": "cab3a3e2",
   "metadata": {},
   "source": [
    "- MF 모델 학습 방법을 토대로, 내가 좋아할 만한 영화 추천 시스템을 제작\n",
    "- 데이터셋은 추천 시스템의 MNIST라고 부를만한 Movielens 데이터임.\n",
    "\n",
    "유저가 영화에 대해 평점을 매긴 데이터가 데이터 크기 별로 있습니다. MovieLens 1M Dataset 사용을 권장합니다.\n",
    "별점 데이터는 대표적인 explicit 데이터입니다. 하지만 implicit 데이터로 간주하고 테스트해 볼 수 있습니다.\n",
    "별점을 시청횟수로 해석해서 생각하겠습니다.\n",
    "또한 유저가 3점 미만으로 준 데이터는 선호하지 않는다고 가정하고 제외하겠습니다.\n",
    "Cloud Storage에 미리 업로드된 ml-1m폴더 내 파일을 심볼릭 링크로 개인 storage에 연결해 줍니다."
   ]
  },
  {
   "cell_type": "code",
   "execution_count": 1,
   "id": "2310177b",
   "metadata": {},
   "outputs": [
    {
     "name": "stdout",
     "output_type": "stream",
     "text": [
      "1.21.4\n",
      "1.7.1\n",
      "0.4.8\n"
     ]
    }
   ],
   "source": [
    "import numpy as np\n",
    "import scipy\n",
    "import implicit\n",
    "import pandas as pd\n",
    "from scipy.sparse import csr_matrix\n",
    "from implicit.als import AlternatingLeastSquares\n",
    "print(np.__version__)\n",
    "print(scipy.__version__)\n",
    "print(implicit.__version__)"
   ]
  },
  {
   "cell_type": "markdown",
   "id": "cb00fa6a",
   "metadata": {},
   "source": [
    "## 1) 데이터 준비와 전처리\n",
    "\n",
    "- Movielens 데이터는 rating.dat 안에 이미 인덱싱까지 완료된 사용자-영화-평점 데이터가 깔끔하게 정리되어 있음. "
   ]
  },
  {
   "cell_type": "code",
   "execution_count": 2,
   "id": "e3d6ad11",
   "metadata": {},
   "outputs": [
    {
     "data": {
      "text/html": [
       "<div>\n",
       "<style scoped>\n",
       "    .dataframe tbody tr th:only-of-type {\n",
       "        vertical-align: middle;\n",
       "    }\n",
       "\n",
       "    .dataframe tbody tr th {\n",
       "        vertical-align: top;\n",
       "    }\n",
       "\n",
       "    .dataframe thead th {\n",
       "        text-align: right;\n",
       "    }\n",
       "</style>\n",
       "<table border=\"1\" class=\"dataframe\">\n",
       "  <thead>\n",
       "    <tr style=\"text-align: right;\">\n",
       "      <th></th>\n",
       "      <th>user_id</th>\n",
       "      <th>movie_id</th>\n",
       "      <th>ratings</th>\n",
       "      <th>timestamp</th>\n",
       "    </tr>\n",
       "  </thead>\n",
       "  <tbody>\n",
       "    <tr>\n",
       "      <th>0</th>\n",
       "      <td>1</td>\n",
       "      <td>1193</td>\n",
       "      <td>5</td>\n",
       "      <td>978300760</td>\n",
       "    </tr>\n",
       "    <tr>\n",
       "      <th>1</th>\n",
       "      <td>1</td>\n",
       "      <td>661</td>\n",
       "      <td>3</td>\n",
       "      <td>978302109</td>\n",
       "    </tr>\n",
       "    <tr>\n",
       "      <th>2</th>\n",
       "      <td>1</td>\n",
       "      <td>914</td>\n",
       "      <td>3</td>\n",
       "      <td>978301968</td>\n",
       "    </tr>\n",
       "    <tr>\n",
       "      <th>3</th>\n",
       "      <td>1</td>\n",
       "      <td>3408</td>\n",
       "      <td>4</td>\n",
       "      <td>978300275</td>\n",
       "    </tr>\n",
       "    <tr>\n",
       "      <th>4</th>\n",
       "      <td>1</td>\n",
       "      <td>2355</td>\n",
       "      <td>5</td>\n",
       "      <td>978824291</td>\n",
       "    </tr>\n",
       "    <tr>\n",
       "      <th>...</th>\n",
       "      <td>...</td>\n",
       "      <td>...</td>\n",
       "      <td>...</td>\n",
       "      <td>...</td>\n",
       "    </tr>\n",
       "    <tr>\n",
       "      <th>95</th>\n",
       "      <td>2</td>\n",
       "      <td>2490</td>\n",
       "      <td>3</td>\n",
       "      <td>978299966</td>\n",
       "    </tr>\n",
       "    <tr>\n",
       "      <th>96</th>\n",
       "      <td>2</td>\n",
       "      <td>1834</td>\n",
       "      <td>4</td>\n",
       "      <td>978298813</td>\n",
       "    </tr>\n",
       "    <tr>\n",
       "      <th>97</th>\n",
       "      <td>2</td>\n",
       "      <td>3471</td>\n",
       "      <td>5</td>\n",
       "      <td>978298814</td>\n",
       "    </tr>\n",
       "    <tr>\n",
       "      <th>98</th>\n",
       "      <td>2</td>\n",
       "      <td>589</td>\n",
       "      <td>4</td>\n",
       "      <td>978299773</td>\n",
       "    </tr>\n",
       "    <tr>\n",
       "      <th>99</th>\n",
       "      <td>2</td>\n",
       "      <td>1690</td>\n",
       "      <td>3</td>\n",
       "      <td>978300051</td>\n",
       "    </tr>\n",
       "  </tbody>\n",
       "</table>\n",
       "<p>100 rows × 4 columns</p>\n",
       "</div>"
      ],
      "text/plain": [
       "    user_id  movie_id  ratings  timestamp\n",
       "0         1      1193        5  978300760\n",
       "1         1       661        3  978302109\n",
       "2         1       914        3  978301968\n",
       "3         1      3408        4  978300275\n",
       "4         1      2355        5  978824291\n",
       "..      ...       ...      ...        ...\n",
       "95        2      2490        3  978299966\n",
       "96        2      1834        4  978298813\n",
       "97        2      3471        5  978298814\n",
       "98        2       589        4  978299773\n",
       "99        2      1690        3  978300051\n",
       "\n",
       "[100 rows x 4 columns]"
      ]
     },
     "execution_count": 2,
     "metadata": {},
     "output_type": "execute_result"
    }
   ],
   "source": [
    "import os\n",
    "\n",
    "rating_file_path=os.getenv('HOME') + '/aiffel/recommendata_iu/data/ml-1m/ratings.dat'\n",
    "ratings_cols = ['user_id', 'movie_id', 'ratings', 'timestamp']\n",
    "ratings = pd.read_csv(rating_file_path, sep='::', names=ratings_cols, engine='python', encoding = \"ISO-8859-1\")\n",
    "orginal_data_size = len(ratings)\n",
    "ratings.head(100)"
   ]
  },
  {
   "cell_type": "code",
   "execution_count": 3,
   "id": "05acf022",
   "metadata": {},
   "outputs": [
    {
     "name": "stdout",
     "output_type": "stream",
     "text": [
      "orginal_data_size: 1000209, filtered_data_size: 836478\n",
      "Ratio of Remaining Data is 83.63%\n"
     ]
    }
   ],
   "source": [
    "ratings = ratings[ratings['ratings']>=3] # 3점 이상만 남깁니다.\n",
    "filtered_data_size = len(ratings)\n",
    "\n",
    "print(f'orginal_data_size: {orginal_data_size}, filtered_data_size: {filtered_data_size}')\n",
    "print(f'Ratio of Remaining Data is {filtered_data_size / orginal_data_size:.2%}')"
   ]
  },
  {
   "cell_type": "code",
   "execution_count": 4,
   "id": "9f5aaaeb",
   "metadata": {},
   "outputs": [],
   "source": [
    "# ratings 컬럼의 이름을 counts로 바꿉니다.\n",
    "ratings.rename(columns={'ratings':'counts'}, inplace=True)"
   ]
  },
  {
   "cell_type": "markdown",
   "id": "98154387",
   "metadata": {},
   "source": [
    "## 2) 데이터 분석\n"
   ]
  },
  {
   "cell_type": "code",
   "execution_count": 5,
   "id": "b508f84b",
   "metadata": {},
   "outputs": [
    {
     "data": {
      "text/plain": [
       "0          5\n",
       "1          3\n",
       "2          3\n",
       "3          4\n",
       "4          5\n",
       "          ..\n",
       "1000203    3\n",
       "1000205    5\n",
       "1000206    5\n",
       "1000207    4\n",
       "1000208    4\n",
       "Name: counts, Length: 836478, dtype: int64"
      ]
     },
     "execution_count": 5,
     "metadata": {},
     "output_type": "execute_result"
    }
   ],
   "source": [
    "ratings['counts']"
   ]
  },
  {
   "cell_type": "code",
   "execution_count": 6,
   "id": "d15b4c1d",
   "metadata": {},
   "outputs": [
    {
     "data": {
      "text/html": [
       "<div>\n",
       "<style scoped>\n",
       "    .dataframe tbody tr th:only-of-type {\n",
       "        vertical-align: middle;\n",
       "    }\n",
       "\n",
       "    .dataframe tbody tr th {\n",
       "        vertical-align: top;\n",
       "    }\n",
       "\n",
       "    .dataframe thead th {\n",
       "        text-align: right;\n",
       "    }\n",
       "</style>\n",
       "<table border=\"1\" class=\"dataframe\">\n",
       "  <thead>\n",
       "    <tr style=\"text-align: right;\">\n",
       "      <th></th>\n",
       "      <th>movie_id</th>\n",
       "      <th>title</th>\n",
       "      <th>genre</th>\n",
       "    </tr>\n",
       "  </thead>\n",
       "  <tbody>\n",
       "    <tr>\n",
       "      <th>0</th>\n",
       "      <td>1</td>\n",
       "      <td>Toy Story (1995)</td>\n",
       "      <td>Animation|Children's|Comedy</td>\n",
       "    </tr>\n",
       "    <tr>\n",
       "      <th>1</th>\n",
       "      <td>2</td>\n",
       "      <td>Jumanji (1995)</td>\n",
       "      <td>Adventure|Children's|Fantasy</td>\n",
       "    </tr>\n",
       "    <tr>\n",
       "      <th>2</th>\n",
       "      <td>3</td>\n",
       "      <td>Grumpier Old Men (1995)</td>\n",
       "      <td>Comedy|Romance</td>\n",
       "    </tr>\n",
       "    <tr>\n",
       "      <th>3</th>\n",
       "      <td>4</td>\n",
       "      <td>Waiting to Exhale (1995)</td>\n",
       "      <td>Comedy|Drama</td>\n",
       "    </tr>\n",
       "    <tr>\n",
       "      <th>4</th>\n",
       "      <td>5</td>\n",
       "      <td>Father of the Bride Part II (1995)</td>\n",
       "      <td>Comedy</td>\n",
       "    </tr>\n",
       "  </tbody>\n",
       "</table>\n",
       "</div>"
      ],
      "text/plain": [
       "   movie_id                               title                         genre\n",
       "0         1                    Toy Story (1995)   Animation|Children's|Comedy\n",
       "1         2                      Jumanji (1995)  Adventure|Children's|Fantasy\n",
       "2         3             Grumpier Old Men (1995)                Comedy|Romance\n",
       "3         4            Waiting to Exhale (1995)                  Comedy|Drama\n",
       "4         5  Father of the Bride Part II (1995)                        Comedy"
      ]
     },
     "execution_count": 6,
     "metadata": {},
     "output_type": "execute_result"
    }
   ],
   "source": [
    "# 영화 제목을 보기 위해 메타 데이터를 읽어오기\n",
    "movie_file_path=os.getenv('HOME') + '/aiffel/recommendata_iu/data/ml-1m/movies.dat'\n",
    "cols = ['movie_id', 'title', 'genre'] \n",
    "movies = pd.read_csv(movie_file_path, sep='::', names=cols, engine='python', encoding='ISO-8859-1')\n",
    "movies.head()"
   ]
  },
  {
   "cell_type": "code",
   "execution_count": 7,
   "id": "9ffaf3bf",
   "metadata": {},
   "outputs": [
    {
     "name": "stdout",
     "output_type": "stream",
     "text": [
      "ratings에 있는 유니크한 영화 개수:  3628\n",
      "ratings에 있는 유니크한 사용자 수:  6039\n"
     ]
    }
   ],
   "source": [
    "num_movie = ratings['movie_id'].nunique()\n",
    "num_user = ratings['user_id'].nunique()\n",
    "print(\"ratings에 있는 유니크한 영화 개수: \",num_movie) \n",
    "print(\"ratings에 있는 유니크한 사용자 수: \", num_user)"
   ]
  },
  {
   "cell_type": "code",
   "execution_count": 8,
   "id": "4f387ca0",
   "metadata": {},
   "outputs": [
    {
     "data": {
      "text/html": [
       "<div>\n",
       "<style scoped>\n",
       "    .dataframe tbody tr th:only-of-type {\n",
       "        vertical-align: middle;\n",
       "    }\n",
       "\n",
       "    .dataframe tbody tr th {\n",
       "        vertical-align: top;\n",
       "    }\n",
       "\n",
       "    .dataframe thead th {\n",
       "        text-align: right;\n",
       "    }\n",
       "</style>\n",
       "<table border=\"1\" class=\"dataframe\">\n",
       "  <thead>\n",
       "    <tr style=\"text-align: right;\">\n",
       "      <th></th>\n",
       "      <th>user_id</th>\n",
       "      <th>movie_id</th>\n",
       "      <th>counts</th>\n",
       "      <th>timestamp</th>\n",
       "    </tr>\n",
       "  </thead>\n",
       "  <tbody>\n",
       "    <tr>\n",
       "      <th>0</th>\n",
       "      <td>1</td>\n",
       "      <td>1193</td>\n",
       "      <td>5</td>\n",
       "      <td>978300760</td>\n",
       "    </tr>\n",
       "    <tr>\n",
       "      <th>1</th>\n",
       "      <td>1</td>\n",
       "      <td>661</td>\n",
       "      <td>3</td>\n",
       "      <td>978302109</td>\n",
       "    </tr>\n",
       "    <tr>\n",
       "      <th>2</th>\n",
       "      <td>1</td>\n",
       "      <td>914</td>\n",
       "      <td>3</td>\n",
       "      <td>978301968</td>\n",
       "    </tr>\n",
       "    <tr>\n",
       "      <th>3</th>\n",
       "      <td>1</td>\n",
       "      <td>3408</td>\n",
       "      <td>4</td>\n",
       "      <td>978300275</td>\n",
       "    </tr>\n",
       "    <tr>\n",
       "      <th>4</th>\n",
       "      <td>1</td>\n",
       "      <td>2355</td>\n",
       "      <td>5</td>\n",
       "      <td>978824291</td>\n",
       "    </tr>\n",
       "    <tr>\n",
       "      <th>...</th>\n",
       "      <td>...</td>\n",
       "      <td>...</td>\n",
       "      <td>...</td>\n",
       "      <td>...</td>\n",
       "    </tr>\n",
       "    <tr>\n",
       "      <th>1000203</th>\n",
       "      <td>6040</td>\n",
       "      <td>1090</td>\n",
       "      <td>3</td>\n",
       "      <td>956715518</td>\n",
       "    </tr>\n",
       "    <tr>\n",
       "      <th>1000205</th>\n",
       "      <td>6040</td>\n",
       "      <td>1094</td>\n",
       "      <td>5</td>\n",
       "      <td>956704887</td>\n",
       "    </tr>\n",
       "    <tr>\n",
       "      <th>1000206</th>\n",
       "      <td>6040</td>\n",
       "      <td>562</td>\n",
       "      <td>5</td>\n",
       "      <td>956704746</td>\n",
       "    </tr>\n",
       "    <tr>\n",
       "      <th>1000207</th>\n",
       "      <td>6040</td>\n",
       "      <td>1096</td>\n",
       "      <td>4</td>\n",
       "      <td>956715648</td>\n",
       "    </tr>\n",
       "    <tr>\n",
       "      <th>1000208</th>\n",
       "      <td>6040</td>\n",
       "      <td>1097</td>\n",
       "      <td>4</td>\n",
       "      <td>956715569</td>\n",
       "    </tr>\n",
       "  </tbody>\n",
       "</table>\n",
       "<p>836478 rows × 4 columns</p>\n",
       "</div>"
      ],
      "text/plain": [
       "         user_id  movie_id  counts  timestamp\n",
       "0              1      1193       5  978300760\n",
       "1              1       661       3  978302109\n",
       "2              1       914       3  978301968\n",
       "3              1      3408       4  978300275\n",
       "4              1      2355       5  978824291\n",
       "...          ...       ...     ...        ...\n",
       "1000203     6040      1090       3  956715518\n",
       "1000205     6040      1094       5  956704887\n",
       "1000206     6040       562       5  956704746\n",
       "1000207     6040      1096       4  956715648\n",
       "1000208     6040      1097       4  956715569\n",
       "\n",
       "[836478 rows x 4 columns]"
      ]
     },
     "execution_count": 8,
     "metadata": {},
     "output_type": "execute_result"
    }
   ],
   "source": [
    "ratings"
   ]
  },
  {
   "cell_type": "code",
   "execution_count": 9,
   "id": "3fee12e0",
   "metadata": {},
   "outputs": [
    {
     "data": {
      "text/html": [
       "<div>\n",
       "<style scoped>\n",
       "    .dataframe tbody tr th:only-of-type {\n",
       "        vertical-align: middle;\n",
       "    }\n",
       "\n",
       "    .dataframe tbody tr th {\n",
       "        vertical-align: top;\n",
       "    }\n",
       "\n",
       "    .dataframe thead th {\n",
       "        text-align: right;\n",
       "    }\n",
       "</style>\n",
       "<table border=\"1\" class=\"dataframe\">\n",
       "  <thead>\n",
       "    <tr style=\"text-align: right;\">\n",
       "      <th></th>\n",
       "      <th>movie_id</th>\n",
       "      <th>title</th>\n",
       "      <th>genre</th>\n",
       "      <th>user_id</th>\n",
       "      <th>counts</th>\n",
       "      <th>timestamp</th>\n",
       "    </tr>\n",
       "  </thead>\n",
       "  <tbody>\n",
       "    <tr>\n",
       "      <th>0</th>\n",
       "      <td>1</td>\n",
       "      <td>Toy Story (1995)</td>\n",
       "      <td>Animation|Children's|Comedy</td>\n",
       "      <td>1</td>\n",
       "      <td>5</td>\n",
       "      <td>978824268</td>\n",
       "    </tr>\n",
       "    <tr>\n",
       "      <th>1</th>\n",
       "      <td>1</td>\n",
       "      <td>Toy Story (1995)</td>\n",
       "      <td>Animation|Children's|Comedy</td>\n",
       "      <td>6</td>\n",
       "      <td>4</td>\n",
       "      <td>978237008</td>\n",
       "    </tr>\n",
       "    <tr>\n",
       "      <th>2</th>\n",
       "      <td>1</td>\n",
       "      <td>Toy Story (1995)</td>\n",
       "      <td>Animation|Children's|Comedy</td>\n",
       "      <td>8</td>\n",
       "      <td>4</td>\n",
       "      <td>978233496</td>\n",
       "    </tr>\n",
       "    <tr>\n",
       "      <th>3</th>\n",
       "      <td>1</td>\n",
       "      <td>Toy Story (1995)</td>\n",
       "      <td>Animation|Children's|Comedy</td>\n",
       "      <td>9</td>\n",
       "      <td>5</td>\n",
       "      <td>978225952</td>\n",
       "    </tr>\n",
       "    <tr>\n",
       "      <th>4</th>\n",
       "      <td>1</td>\n",
       "      <td>Toy Story (1995)</td>\n",
       "      <td>Animation|Children's|Comedy</td>\n",
       "      <td>10</td>\n",
       "      <td>5</td>\n",
       "      <td>978226474</td>\n",
       "    </tr>\n",
       "  </tbody>\n",
       "</table>\n",
       "</div>"
      ],
      "text/plain": [
       "   movie_id             title                        genre  user_id  counts  \\\n",
       "0         1  Toy Story (1995)  Animation|Children's|Comedy        1       5   \n",
       "1         1  Toy Story (1995)  Animation|Children's|Comedy        6       4   \n",
       "2         1  Toy Story (1995)  Animation|Children's|Comedy        8       4   \n",
       "3         1  Toy Story (1995)  Animation|Children's|Comedy        9       5   \n",
       "4         1  Toy Story (1995)  Animation|Children's|Comedy       10       5   \n",
       "\n",
       "   timestamp  \n",
       "0  978824268  \n",
       "1  978237008  \n",
       "2  978233496  \n",
       "3  978225952  \n",
       "4  978226474  "
      ]
     },
     "execution_count": 9,
     "metadata": {},
     "output_type": "execute_result"
    }
   ],
   "source": [
    "movie_data = pd.merge(movies, ratings)\n",
    "movie_data.head()"
   ]
  },
  {
   "cell_type": "code",
   "execution_count": 10,
   "id": "eba08a65",
   "metadata": {},
   "outputs": [
    {
     "data": {
      "text/plain": [
       "title\n",
       "American Beauty (1999)                                   3211\n",
       "Star Wars: Episode IV - A New Hope (1977)                2910\n",
       "Star Wars: Episode V - The Empire Strikes Back (1980)    2885\n",
       "Star Wars: Episode VI - Return of the Jedi (1983)        2716\n",
       "Saving Private Ryan (1998)                               2561\n",
       "                                                         ... \n",
       "Home Alone (1990)                                         508\n",
       "Hudsucker Proxy, The (1994)                               508\n",
       "Moonraker (1979)                                          507\n",
       "Jerk, The (1979)                                          504\n",
       "Cliffhanger (1993)                                        504\n",
       "Name: user_id, Length: 500, dtype: int64"
      ]
     },
     "execution_count": 10,
     "metadata": {},
     "output_type": "execute_result"
    }
   ],
   "source": [
    "#가장 인기있는 영화 30개(인기순)\n",
    "movies_count = movie_data.groupby('title')['user_id'].count()\n",
    "movies_count.sort_values(ascending=False).head(500)"
   ]
  },
  {
   "cell_type": "code",
   "execution_count": 11,
   "id": "35e671f9",
   "metadata": {},
   "outputs": [
    {
     "data": {
      "text/plain": [
       "count    6039.000000\n",
       "mean      138.512668\n",
       "std       156.241599\n",
       "min         1.000000\n",
       "25%        38.000000\n",
       "50%        81.000000\n",
       "75%       177.000000\n",
       "max      1968.000000\n",
       "Name: title, dtype: float64"
      ]
     },
     "execution_count": 11,
     "metadata": {},
     "output_type": "execute_result"
    }
   ],
   "source": [
    "# 유저별 몇 개의 영화를 보고 있는지에 대한 통계\n",
    "user_count = movie_data.groupby('user_id')['title'].count()\n",
    "user_count.describe()"
   ]
  },
  {
   "cell_type": "markdown",
   "id": "7129a8d5",
   "metadata": {},
   "source": [
    "## 3) 내가 선호하는 영화 5가지 ratings에 추가"
   ]
  },
  {
   "cell_type": "code",
   "execution_count": 12,
   "id": "c80ba7fe",
   "metadata": {},
   "outputs": [
    {
     "data": {
      "text/html": [
       "<div>\n",
       "<style scoped>\n",
       "    .dataframe tbody tr th:only-of-type {\n",
       "        vertical-align: middle;\n",
       "    }\n",
       "\n",
       "    .dataframe tbody tr th {\n",
       "        vertical-align: top;\n",
       "    }\n",
       "\n",
       "    .dataframe thead th {\n",
       "        text-align: right;\n",
       "    }\n",
       "</style>\n",
       "<table border=\"1\" class=\"dataframe\">\n",
       "  <thead>\n",
       "    <tr style=\"text-align: right;\">\n",
       "      <th></th>\n",
       "      <th>movie_id</th>\n",
       "      <th>title</th>\n",
       "      <th>genre</th>\n",
       "      <th>user_id</th>\n",
       "      <th>counts</th>\n",
       "      <th>timestamp</th>\n",
       "    </tr>\n",
       "  </thead>\n",
       "  <tbody>\n",
       "    <tr>\n",
       "      <th>0</th>\n",
       "      <td>1.0</td>\n",
       "      <td>Toy Story (1995)</td>\n",
       "      <td>Animation|Children's|Comedy</td>\n",
       "      <td>1</td>\n",
       "      <td>5</td>\n",
       "      <td>978824268.0</td>\n",
       "    </tr>\n",
       "    <tr>\n",
       "      <th>1</th>\n",
       "      <td>1.0</td>\n",
       "      <td>Toy Story (1995)</td>\n",
       "      <td>Animation|Children's|Comedy</td>\n",
       "      <td>6</td>\n",
       "      <td>4</td>\n",
       "      <td>978237008.0</td>\n",
       "    </tr>\n",
       "    <tr>\n",
       "      <th>2</th>\n",
       "      <td>1.0</td>\n",
       "      <td>Toy Story (1995)</td>\n",
       "      <td>Animation|Children's|Comedy</td>\n",
       "      <td>8</td>\n",
       "      <td>4</td>\n",
       "      <td>978233496.0</td>\n",
       "    </tr>\n",
       "    <tr>\n",
       "      <th>3</th>\n",
       "      <td>1.0</td>\n",
       "      <td>Toy Story (1995)</td>\n",
       "      <td>Animation|Children's|Comedy</td>\n",
       "      <td>9</td>\n",
       "      <td>5</td>\n",
       "      <td>978225952.0</td>\n",
       "    </tr>\n",
       "    <tr>\n",
       "      <th>4</th>\n",
       "      <td>1.0</td>\n",
       "      <td>Toy Story (1995)</td>\n",
       "      <td>Animation|Children's|Comedy</td>\n",
       "      <td>10</td>\n",
       "      <td>5</td>\n",
       "      <td>978226474.0</td>\n",
       "    </tr>\n",
       "    <tr>\n",
       "      <th>...</th>\n",
       "      <td>...</td>\n",
       "      <td>...</td>\n",
       "      <td>...</td>\n",
       "      <td>...</td>\n",
       "      <td>...</td>\n",
       "      <td>...</td>\n",
       "    </tr>\n",
       "    <tr>\n",
       "      <th>836478</th>\n",
       "      <td>NaN</td>\n",
       "      <td>Back to the Future (1985)</td>\n",
       "      <td>NaN</td>\n",
       "      <td>6040</td>\n",
       "      <td>5</td>\n",
       "      <td>NaN</td>\n",
       "    </tr>\n",
       "    <tr>\n",
       "      <th>836479</th>\n",
       "      <td>NaN</td>\n",
       "      <td>Home Alone (1990)</td>\n",
       "      <td>NaN</td>\n",
       "      <td>6040</td>\n",
       "      <td>5</td>\n",
       "      <td>NaN</td>\n",
       "    </tr>\n",
       "    <tr>\n",
       "      <th>836480</th>\n",
       "      <td>NaN</td>\n",
       "      <td>Erin Brockovich (2000)</td>\n",
       "      <td>NaN</td>\n",
       "      <td>6040</td>\n",
       "      <td>5</td>\n",
       "      <td>NaN</td>\n",
       "    </tr>\n",
       "    <tr>\n",
       "      <th>836481</th>\n",
       "      <td>NaN</td>\n",
       "      <td>Jurassic Park (1993)</td>\n",
       "      <td>NaN</td>\n",
       "      <td>6040</td>\n",
       "      <td>5</td>\n",
       "      <td>NaN</td>\n",
       "    </tr>\n",
       "    <tr>\n",
       "      <th>836482</th>\n",
       "      <td>NaN</td>\n",
       "      <td>Sixth Sense, The (1999)</td>\n",
       "      <td>NaN</td>\n",
       "      <td>6040</td>\n",
       "      <td>5</td>\n",
       "      <td>NaN</td>\n",
       "    </tr>\n",
       "  </tbody>\n",
       "</table>\n",
       "<p>836483 rows × 6 columns</p>\n",
       "</div>"
      ],
      "text/plain": [
       "        movie_id                      title                        genre  \\\n",
       "0            1.0           Toy Story (1995)  Animation|Children's|Comedy   \n",
       "1            1.0           Toy Story (1995)  Animation|Children's|Comedy   \n",
       "2            1.0           Toy Story (1995)  Animation|Children's|Comedy   \n",
       "3            1.0           Toy Story (1995)  Animation|Children's|Comedy   \n",
       "4            1.0           Toy Story (1995)  Animation|Children's|Comedy   \n",
       "...          ...                        ...                          ...   \n",
       "836478       NaN  Back to the Future (1985)                          NaN   \n",
       "836479       NaN          Home Alone (1990)                          NaN   \n",
       "836480       NaN     Erin Brockovich (2000)                          NaN   \n",
       "836481       NaN       Jurassic Park (1993)                          NaN   \n",
       "836482       NaN    Sixth Sense, The (1999)                          NaN   \n",
       "\n",
       "        user_id  counts    timestamp  \n",
       "0             1       5  978824268.0  \n",
       "1             6       4  978237008.0  \n",
       "2             8       4  978233496.0  \n",
       "3             9       5  978225952.0  \n",
       "4            10       5  978226474.0  \n",
       "...         ...     ...          ...  \n",
       "836478     6040       5          NaN  \n",
       "836479     6040       5          NaN  \n",
       "836480     6040       5          NaN  \n",
       "836481     6040       5          NaN  \n",
       "836482     6040       5          NaN  \n",
       "\n",
       "[836483 rows x 6 columns]"
      ]
     },
     "execution_count": 12,
     "metadata": {},
     "output_type": "execute_result"
    }
   ],
   "source": [
    "# 좋아하는 영화 5개 추가\n",
    "my_favorite_movie = ['Back to the Future (1985)','Home Alone (1990)', 'Erin Brockovich (2000)', 'Jurassic Park (1993)', 'Sixth Sense, The (1999)']\n",
    "\n",
    "my_playlist = pd.DataFrame({'user_id' : 6040, 'title': my_favorite_movie, 'counts':[5]*5})\n",
    "\n",
    "\n",
    "movie_data  = movie_data .append(my_playlist, ignore_index=True)                        \n",
    "\n",
    "movie_data  # 잘 추가되었는지 확인해 봅시다."
   ]
  },
  {
   "cell_type": "code",
   "execution_count": 13,
   "id": "0548f701",
   "metadata": {},
   "outputs": [
    {
     "data": {
      "text/html": [
       "<div>\n",
       "<style scoped>\n",
       "    .dataframe tbody tr th:only-of-type {\n",
       "        vertical-align: middle;\n",
       "    }\n",
       "\n",
       "    .dataframe tbody tr th {\n",
       "        vertical-align: top;\n",
       "    }\n",
       "\n",
       "    .dataframe thead th {\n",
       "        text-align: right;\n",
       "    }\n",
       "</style>\n",
       "<table border=\"1\" class=\"dataframe\">\n",
       "  <thead>\n",
       "    <tr style=\"text-align: right;\">\n",
       "      <th></th>\n",
       "      <th>user_id</th>\n",
       "      <th>title</th>\n",
       "      <th>counts</th>\n",
       "    </tr>\n",
       "  </thead>\n",
       "  <tbody>\n",
       "    <tr>\n",
       "      <th>0</th>\n",
       "      <td>1</td>\n",
       "      <td>Toy Story (1995)</td>\n",
       "      <td>5</td>\n",
       "    </tr>\n",
       "    <tr>\n",
       "      <th>1</th>\n",
       "      <td>6</td>\n",
       "      <td>Toy Story (1995)</td>\n",
       "      <td>4</td>\n",
       "    </tr>\n",
       "    <tr>\n",
       "      <th>2</th>\n",
       "      <td>8</td>\n",
       "      <td>Toy Story (1995)</td>\n",
       "      <td>4</td>\n",
       "    </tr>\n",
       "    <tr>\n",
       "      <th>3</th>\n",
       "      <td>9</td>\n",
       "      <td>Toy Story (1995)</td>\n",
       "      <td>5</td>\n",
       "    </tr>\n",
       "    <tr>\n",
       "      <th>4</th>\n",
       "      <td>10</td>\n",
       "      <td>Toy Story (1995)</td>\n",
       "      <td>5</td>\n",
       "    </tr>\n",
       "    <tr>\n",
       "      <th>...</th>\n",
       "      <td>...</td>\n",
       "      <td>...</td>\n",
       "      <td>...</td>\n",
       "    </tr>\n",
       "    <tr>\n",
       "      <th>836478</th>\n",
       "      <td>6040</td>\n",
       "      <td>Back to the Future (1985)</td>\n",
       "      <td>5</td>\n",
       "    </tr>\n",
       "    <tr>\n",
       "      <th>836479</th>\n",
       "      <td>6040</td>\n",
       "      <td>Home Alone (1990)</td>\n",
       "      <td>5</td>\n",
       "    </tr>\n",
       "    <tr>\n",
       "      <th>836480</th>\n",
       "      <td>6040</td>\n",
       "      <td>Erin Brockovich (2000)</td>\n",
       "      <td>5</td>\n",
       "    </tr>\n",
       "    <tr>\n",
       "      <th>836481</th>\n",
       "      <td>6040</td>\n",
       "      <td>Jurassic Park (1993)</td>\n",
       "      <td>5</td>\n",
       "    </tr>\n",
       "    <tr>\n",
       "      <th>836482</th>\n",
       "      <td>6040</td>\n",
       "      <td>Sixth Sense, The (1999)</td>\n",
       "      <td>5</td>\n",
       "    </tr>\n",
       "  </tbody>\n",
       "</table>\n",
       "<p>836483 rows × 3 columns</p>\n",
       "</div>"
      ],
      "text/plain": [
       "        user_id                      title  counts\n",
       "0             1           Toy Story (1995)       5\n",
       "1             6           Toy Story (1995)       4\n",
       "2             8           Toy Story (1995)       4\n",
       "3             9           Toy Story (1995)       5\n",
       "4            10           Toy Story (1995)       5\n",
       "...         ...                        ...     ...\n",
       "836478     6040  Back to the Future (1985)       5\n",
       "836479     6040          Home Alone (1990)       5\n",
       "836480     6040     Erin Brockovich (2000)       5\n",
       "836481     6040       Jurassic Park (1993)       5\n",
       "836482     6040    Sixth Sense, The (1999)       5\n",
       "\n",
       "[836483 rows x 3 columns]"
      ]
     },
     "execution_count": 13,
     "metadata": {},
     "output_type": "execute_result"
    }
   ],
   "source": [
    "# 사용하는 컬럼만 남겨줍니다.\n",
    "movie_data = movie_data[['user_id','title', 'counts']]\n",
    "movie_data.sort_index()"
   ]
  },
  {
   "cell_type": "code",
   "execution_count": 14,
   "id": "f4f8faf3",
   "metadata": {},
   "outputs": [],
   "source": [
    "# 고유한 유저, 아티스트를 찾아내는 코드\n",
    "user_unique = movie_data['user_id'].unique()\n",
    "movie_unique = movie_data['title'].unique()\n",
    "\n",
    "# 유저, 아티스트 indexing 하는 코드 \n",
    "user_to_idx = {v:k for k,v in enumerate(user_unique)}\n",
    "movie_to_idx = {v:k for k,v in enumerate(movie_unique)}"
   ]
  },
  {
   "cell_type": "code",
   "execution_count": 15,
   "id": "fe8f087d",
   "metadata": {},
   "outputs": [
    {
     "name": "stdout",
     "output_type": "stream",
     "text": [
      "user_id column indexing OK!!\n",
      "movie column indexing OK!!\n"
     ]
    },
    {
     "name": "stderr",
     "output_type": "stream",
     "text": [
      "/tmp/ipykernel_75/780136522.py:9: SettingWithCopyWarning: \n",
      "A value is trying to be set on a copy of a slice from a DataFrame.\n",
      "Try using .loc[row_indexer,col_indexer] = value instead\n",
      "\n",
      "See the caveats in the documentation: https://pandas.pydata.org/pandas-docs/stable/user_guide/indexing.html#returning-a-view-versus-a-copy\n",
      "  movie_data['user_id'] = temp_user_data   # data['user_id']을 인덱싱된 Series로 교체해 줍니다.\n",
      "/tmp/ipykernel_75/780136522.py:17: SettingWithCopyWarning: \n",
      "A value is trying to be set on a copy of a slice from a DataFrame.\n",
      "Try using .loc[row_indexer,col_indexer] = value instead\n",
      "\n",
      "See the caveats in the documentation: https://pandas.pydata.org/pandas-docs/stable/user_guide/indexing.html#returning-a-view-versus-a-copy\n",
      "  movie_data['title'] = temp_movie_data\n"
     ]
    },
    {
     "data": {
      "text/html": [
       "<div>\n",
       "<style scoped>\n",
       "    .dataframe tbody tr th:only-of-type {\n",
       "        vertical-align: middle;\n",
       "    }\n",
       "\n",
       "    .dataframe tbody tr th {\n",
       "        vertical-align: top;\n",
       "    }\n",
       "\n",
       "    .dataframe thead th {\n",
       "        text-align: right;\n",
       "    }\n",
       "</style>\n",
       "<table border=\"1\" class=\"dataframe\">\n",
       "  <thead>\n",
       "    <tr style=\"text-align: right;\">\n",
       "      <th></th>\n",
       "      <th>user_id</th>\n",
       "      <th>title</th>\n",
       "      <th>counts</th>\n",
       "    </tr>\n",
       "  </thead>\n",
       "  <tbody>\n",
       "    <tr>\n",
       "      <th>0</th>\n",
       "      <td>0</td>\n",
       "      <td>0</td>\n",
       "      <td>5</td>\n",
       "    </tr>\n",
       "    <tr>\n",
       "      <th>1</th>\n",
       "      <td>1</td>\n",
       "      <td>0</td>\n",
       "      <td>4</td>\n",
       "    </tr>\n",
       "    <tr>\n",
       "      <th>2</th>\n",
       "      <td>2</td>\n",
       "      <td>0</td>\n",
       "      <td>4</td>\n",
       "    </tr>\n",
       "    <tr>\n",
       "      <th>3</th>\n",
       "      <td>3</td>\n",
       "      <td>0</td>\n",
       "      <td>5</td>\n",
       "    </tr>\n",
       "    <tr>\n",
       "      <th>4</th>\n",
       "      <td>4</td>\n",
       "      <td>0</td>\n",
       "      <td>5</td>\n",
       "    </tr>\n",
       "    <tr>\n",
       "      <th>...</th>\n",
       "      <td>...</td>\n",
       "      <td>...</td>\n",
       "      <td>...</td>\n",
       "    </tr>\n",
       "    <tr>\n",
       "      <th>836478</th>\n",
       "      <td>1999</td>\n",
       "      <td>1152</td>\n",
       "      <td>5</td>\n",
       "    </tr>\n",
       "    <tr>\n",
       "      <th>836479</th>\n",
       "      <td>1999</td>\n",
       "      <td>566</td>\n",
       "      <td>5</td>\n",
       "    </tr>\n",
       "    <tr>\n",
       "      <th>836480</th>\n",
       "      <td>1999</td>\n",
       "      <td>3110</td>\n",
       "      <td>5</td>\n",
       "    </tr>\n",
       "    <tr>\n",
       "      <th>836481</th>\n",
       "      <td>1999</td>\n",
       "      <td>462</td>\n",
       "      <td>5</td>\n",
       "    </tr>\n",
       "    <tr>\n",
       "      <th>836482</th>\n",
       "      <td>1999</td>\n",
       "      <td>2507</td>\n",
       "      <td>5</td>\n",
       "    </tr>\n",
       "  </tbody>\n",
       "</table>\n",
       "<p>836483 rows × 3 columns</p>\n",
       "</div>"
      ],
      "text/plain": [
       "        user_id  title  counts\n",
       "0             0      0       5\n",
       "1             1      0       4\n",
       "2             2      0       4\n",
       "3             3      0       5\n",
       "4             4      0       5\n",
       "...         ...    ...     ...\n",
       "836478     1999   1152       5\n",
       "836479     1999    566       5\n",
       "836480     1999   3110       5\n",
       "836481     1999    462       5\n",
       "836482     1999   2507       5\n",
       "\n",
       "[836483 rows x 3 columns]"
      ]
     },
     "execution_count": 15,
     "metadata": {},
     "output_type": "execute_result"
    }
   ],
   "source": [
    "# indexing을 통해 데이터 컬럼 내 값을 바꾸는 코드\n",
    "# dictionary 자료형의 get 함수는 https://wikidocs.net/16 을 참고하세요.\n",
    "\n",
    "# user_to_idx.get을 통해 user_id 컬럼의 모든 값을 인덱싱한 Series를 구해 봅시다. \n",
    "# 혹시 정상적으로 인덱싱되지 않은 row가 있다면 인덱스가 NaN이 될 테니 dropna()로 제거합니다. \n",
    "temp_user_data = movie_data['user_id'].map(user_to_idx.get).dropna()\n",
    "if len(temp_user_data) == len(movie_data):   # 모든 row가 정상적으로 인덱싱되었다면\n",
    "    print('user_id column indexing OK!!')\n",
    "    movie_data['user_id'] = temp_user_data   # data['user_id']을 인덱싱된 Series로 교체해 줍니다. \n",
    "else:\n",
    "    print('user_id column indexing Fail!!')\n",
    "\n",
    "# artist_to_idx을 통해 artist 컬럼도 동일한 방식으로 인덱싱해 줍니다. \n",
    "temp_movie_data = movie_data['title'].map(movie_to_idx.get).dropna()\n",
    "if len(temp_movie_data) == len(movie_data):\n",
    "    print('movie column indexing OK!!')\n",
    "    movie_data['title'] = temp_movie_data\n",
    "else:\n",
    "    print('movie column indexing Fail!!')\n",
    "\n",
    "movie_data"
   ]
  },
  {
   "cell_type": "markdown",
   "id": "e637e62b",
   "metadata": {},
   "source": [
    "## 4) CSR matrix 만들기"
   ]
  },
  {
   "cell_type": "code",
   "execution_count": 16,
   "id": "fa43441b",
   "metadata": {},
   "outputs": [
    {
     "data": {
      "text/plain": [
       "<6039x3628 sparse matrix of type '<class 'numpy.int64'>'\n",
       "\twith 836481 stored elements in Compressed Sparse Row format>"
      ]
     },
     "execution_count": 16,
     "metadata": {},
     "output_type": "execute_result"
    }
   ],
   "source": [
    "num_user = movie_data['user_id'].nunique()\n",
    "num_movie = movie_data['title'].nunique()\n",
    "\n",
    "csr_data = csr_matrix((movie_data.counts, (movie_data.user_id, movie_data.title)), shape=(num_user, num_movie)) \n",
    "csr_data"
   ]
  },
  {
   "cell_type": "markdown",
   "id": "69ae9603",
   "metadata": {},
   "source": [
    "## 5) als_model = AlternatingLeastSquares 모델 구성, 훈련\n"
   ]
  },
  {
   "cell_type": "code",
   "execution_count": 17,
   "id": "adddb844",
   "metadata": {},
   "outputs": [],
   "source": [
    "# implicit 라이브러리에서 권장하고 있는 부분입니다. 학습 내용과는 무관합니다.\n",
    "os.environ['OPENBLAS_NUM_THREADS']='1'\n",
    "os.environ['KMP_DUPLICATE_LIB_OK']='True'\n",
    "os.environ['MKL_NUM_THREADS']='1'"
   ]
  },
  {
   "cell_type": "code",
   "execution_count": 18,
   "id": "29bafd86",
   "metadata": {},
   "outputs": [],
   "source": [
    "# Implicit AlternatingLeastSquares 모델의 선언, iteration은 나중에 바꿔주겠습니다.\n",
    "als_model = AlternatingLeastSquares(factors=100, regularization=0.001, use_gpu=False, iterations=1000, dtype=np.float32)"
   ]
  },
  {
   "cell_type": "code",
   "execution_count": 19,
   "id": "dc4191a9",
   "metadata": {},
   "outputs": [
    {
     "data": {
      "text/plain": [
       "<3628x6039 sparse matrix of type '<class 'numpy.int64'>'\n",
       "\twith 836481 stored elements in Compressed Sparse Column format>"
      ]
     },
     "execution_count": 19,
     "metadata": {},
     "output_type": "execute_result"
    }
   ],
   "source": [
    "# als 모델은 input으로 (item X user 꼴의 matrix를 받기 때문에 Transpose해줍니다.)\n",
    "csr_data_transpose = csr_data.T\n",
    "csr_data_transpose"
   ]
  },
  {
   "cell_type": "code",
   "execution_count": 20,
   "id": "ad3ddfb1",
   "metadata": {},
   "outputs": [
    {
     "data": {
      "application/vnd.jupyter.widget-view+json": {
       "model_id": "0ba2726c48404b4383554332f77f2e9b",
       "version_major": 2,
       "version_minor": 0
      },
      "text/plain": [
       "  0%|          | 0/1000 [00:00<?, ?it/s]"
      ]
     },
     "metadata": {},
     "output_type": "display_data"
    }
   ],
   "source": [
    "als_model.fit(csr_data_transpose) #모델 학습 "
   ]
  },
  {
   "cell_type": "markdown",
   "id": "d1d2aa92",
   "metadata": {},
   "source": [
    "## 6) 선호 영화 5가지 중 하나와 그 외의 영화 하나를 골라 훈련된 모델이 예측한 나의 선호도를 파악해 보기\n"
   ]
  },
  {
   "cell_type": "code",
   "execution_count": 31,
   "id": "15d98d3a",
   "metadata": {},
   "outputs": [],
   "source": [
    "# (num6040) vector와 (back to the future) vector 확인\n",
    "num6040, backtothefuture = user_to_idx[6040], movie_to_idx['Back to the Future (1985)']\n",
    "num6040_vector, backtothefuture_vector = als_model.user_factors[num6040], als_model.item_factors[backtothefuture]"
   ]
  },
  {
   "cell_type": "code",
   "execution_count": 32,
   "id": "2fddab3f",
   "metadata": {},
   "outputs": [
    {
     "data": {
      "text/plain": [
       "array([-1.7670698 ,  0.9355376 ,  1.8478744 , -2.3997495 , -0.18145958,\n",
       "        0.8294392 ,  0.94821346,  0.91058725,  1.6605284 ,  0.6130714 ,\n",
       "        1.2160585 ,  1.4288293 , -1.6243374 , -0.17315306,  1.3435179 ,\n",
       "        0.33950537,  2.3580163 ,  1.000581  ,  0.62111807,  0.0682307 ,\n",
       "        1.205535  ,  0.6024656 , -1.87434   , -0.4953582 ,  1.2363542 ,\n",
       "        0.5304339 ,  2.4603934 , -0.3316388 ,  2.6061985 , -1.2861216 ,\n",
       "        3.126374  , -3.022511  ,  1.4037706 ,  0.4829077 ,  1.5471526 ,\n",
       "        0.6896806 , -1.1040905 , -1.2985635 , -0.92768914, -1.2185062 ,\n",
       "       -2.835399  ,  0.35572752,  3.0007021 , -0.27500284, -1.3564779 ,\n",
       "       -2.0076158 ,  0.53787404,  2.0309808 , -1.3193716 , -0.5552203 ,\n",
       "        0.49008432,  1.1500585 , -0.37002963,  2.449063  , -0.6098752 ,\n",
       "       -1.7316478 ,  0.7912206 ,  1.052556  ,  0.34077924,  1.1908371 ,\n",
       "       -0.2538377 ,  0.34969872,  1.6705735 ,  1.7549993 ,  1.2167474 ,\n",
       "        1.3193613 ,  2.6846116 ,  1.3394434 ,  0.13756956,  1.1030499 ,\n",
       "        0.22101748, -1.5518698 ,  0.7606863 , -0.11255083, -1.20977   ,\n",
       "        2.112273  ,  1.2093359 ,  2.617967  ,  0.39352396, -0.10715269,\n",
       "        0.7630909 ,  2.3860533 ,  1.0602456 , -0.01585438,  3.1438217 ,\n",
       "       -0.7813366 ,  2.005638  , -0.38987613,  1.131089  , -0.12333953,\n",
       "        0.94437146, -0.7209158 ,  3.2163014 , -2.8083925 ,  0.41844562,\n",
       "        1.1597863 , -1.9792446 ,  0.05872409,  2.241631  ,  1.1798744 ],\n",
       "      dtype=float32)"
      ]
     },
     "execution_count": 32,
     "metadata": {},
     "output_type": "execute_result"
    }
   ],
   "source": [
    "num6040_vector"
   ]
  },
  {
   "cell_type": "code",
   "execution_count": 33,
   "id": "74e5f3ea",
   "metadata": {},
   "outputs": [
    {
     "data": {
      "text/plain": [
       "array([ 0.01392102,  0.06913564,  0.01238493,  0.04014229, -0.00547261,\n",
       "       -0.01913274,  0.01009026,  0.04347604, -0.01870151,  0.04435228,\n",
       "        0.02767727,  0.01003858, -0.01078627,  0.04700519,  0.05458406,\n",
       "       -0.01781077, -0.02372367,  0.00945998,  0.03428066, -0.01205594,\n",
       "       -0.05843735,  0.00165283, -0.0141262 , -0.00628934,  0.01369976,\n",
       "       -0.03439005,  0.05544429, -0.00332422,  0.0018928 ,  0.01132189,\n",
       "        0.02348541, -0.00777382,  0.0020961 , -0.01708618,  0.00334208,\n",
       "       -0.05075391,  0.00092158, -0.05562457, -0.02354231,  0.05584309,\n",
       "        0.04300875,  0.03041191,  0.00351208, -0.0696599 , -0.01615476,\n",
       "        0.02495455,  0.02591754,  0.03386325, -0.04027162,  0.00710025,\n",
       "        0.03734199, -0.04086849, -0.01000024, -0.02891887,  0.04412261,\n",
       "        0.04194838,  0.01046469,  0.01311885, -0.0390208 ,  0.03178803,\n",
       "        0.02040835,  0.03735317,  0.0095119 , -0.01866928, -0.02268177,\n",
       "       -0.00149817,  0.01295832, -0.03213098, -0.01497309, -0.06672019,\n",
       "        0.0199838 ,  0.01803189,  0.04980435, -0.04562582,  0.0006118 ,\n",
       "        0.0150317 , -0.01137918,  0.04486161, -0.01907085, -0.01288966,\n",
       "        0.00681901,  0.04477604, -0.05542127,  0.05138907,  0.06946332,\n",
       "        0.04081846,  0.02481177, -0.03870673, -0.00036506,  0.0414511 ,\n",
       "        0.07184277, -0.04172685,  0.09286918,  0.01519844, -0.02299614,\n",
       "        0.04512018, -0.01873837,  0.03248164,  0.02625215, -0.01114628],\n",
       "      dtype=float32)"
      ]
     },
     "execution_count": 33,
     "metadata": {},
     "output_type": "execute_result"
    }
   ],
   "source": [
    "backtothefuture_vector"
   ]
  },
  {
   "cell_type": "code",
   "execution_count": 34,
   "id": "a375fcef",
   "metadata": {},
   "outputs": [
    {
     "data": {
      "text/plain": [
       "0.94796425"
      ]
     },
     "execution_count": 34,
     "metadata": {},
     "output_type": "execute_result"
    }
   ],
   "source": [
    "#vector을 곱했을 때의 값 확인\n",
    "np.dot(num6040_vector, backtothefuture_vector)"
   ]
  },
  {
   "cell_type": "code",
   "execution_count": 35,
   "id": "b0b77254",
   "metadata": {},
   "outputs": [
    {
     "name": "stdout",
     "output_type": "stream",
     "text": [
      "0.23923609\n"
     ]
    }
   ],
   "source": [
    "\n",
    "jumanji = movie_to_idx['Jumanji (1995)']\n",
    "jumanji_vector = als_model.item_factors[jumanji]\n",
    "\n",
    "print(np.dot(num6040_vector, jumanji_vector))"
   ]
  },
  {
   "cell_type": "markdown",
   "id": "40ac78b0",
   "metadata": {},
   "source": [
    "## 7) 내가 좋아하는 영화와 비슷한 영화를 추천받아 보기\n"
   ]
  },
  {
   "cell_type": "code",
   "execution_count": 36,
   "id": "f4c0bad0",
   "metadata": {},
   "outputs": [],
   "source": [
    "idx_to_movie = {v:k for k,v in movie_to_idx.items()}\n",
    "\n",
    "def get_similar_movie(movie_name: str):\n",
    "    movie_id = movie_to_idx[movie_name]\n",
    "    similar_movie = als_model.similar_items(movie_id)\n",
    "    similar_movie = [idx_to_movie[i[0]] for i in similar_movie]\n",
    "    return similar_movie"
   ]
  },
  {
   "cell_type": "code",
   "execution_count": 37,
   "id": "3eb9206c",
   "metadata": {},
   "outputs": [
    {
     "data": {
      "text/plain": [
       "['Back to the Future (1985)',\n",
       " \"Ferris Bueller's Day Off (1986)\",\n",
       " 'When Harry Met Sally... (1989)',\n",
       " 'Back to the Future Part II (1989)',\n",
       " 'Ghostbusters (1984)',\n",
       " 'Big (1988)',\n",
       " 'Bull Durham (1988)',\n",
       " 'E.T. the Extra-Terrestrial (1982)',\n",
       " 'Fish Called Wanda, A (1988)',\n",
       " 'Cocoon (1985)']"
      ]
     },
     "execution_count": 37,
     "metadata": {},
     "output_type": "execute_result"
    }
   ],
   "source": [
    "get_similar_movie('Back to the Future (1985)') "
   ]
  },
  {
   "cell_type": "markdown",
   "id": "ac669661",
   "metadata": {},
   "source": [
    "## 8) 내가 가장 좋아할 만한 영화들을 추천받아 보기\n"
   ]
  },
  {
   "cell_type": "code",
   "execution_count": 38,
   "id": "34454e46",
   "metadata": {},
   "outputs": [
    {
     "data": {
      "text/plain": [
       "[(3125, 1.3072181),\n",
       " (1114, 1.1820513),\n",
       " (1175, 1.0837772),\n",
       " (1071, 1.0647234),\n",
       " (2754, 0.9639705),\n",
       " (985, 0.96058935),\n",
       " (2477, 0.9367366),\n",
       " (236, 0.9255878),\n",
       " (888, 0.92372584),\n",
       " (1844, 0.92343736),\n",
       " (1001, 0.8824932),\n",
       " (1311, 0.8821777),\n",
       " (2462, 0.85646945),\n",
       " (2426, 0.85505766),\n",
       " (1117, 0.84348726),\n",
       " (2074, 0.8151673),\n",
       " (2706, 0.80618),\n",
       " (1138, 0.78207976),\n",
       " (2659, 0.780612),\n",
       " (1030, 0.7761719)]"
      ]
     },
     "execution_count": 38,
     "metadata": {},
     "output_type": "execute_result"
    }
   ],
   "source": [
    "user = user_to_idx[6040]\n",
    "# recommend에서는 user*item CSR Matrix를 받습니다.\n",
    "movie_recommended = als_model.recommend(user, csr_data, N=20, filter_already_liked_items=True)\n",
    "movie_recommended"
   ]
  },
  {
   "cell_type": "code",
   "execution_count": 39,
   "id": "4187c990",
   "metadata": {},
   "outputs": [
    {
     "data": {
      "text/plain": [
       "['Do the Right Thing (1989)',\n",
       " 'Right Stuff, The (1983)',\n",
       " 'Gandhi (1982)',\n",
       " 'Sex, Lies, and Videotape (1989)',\n",
       " 'Drugstore Cowboy (1989)',\n",
       " 'Fish Called Wanda, A (1988)',\n",
       " '400 Blows, The (Les Quatre cents coups) (1959)',\n",
       " 'Heavenly Creatures (1994)',\n",
       " 'African Queen, The (1951)',\n",
       " 'Roger & Me (1989)',\n",
       " 'Glengarry Glen Ross (1992)',\n",
       " 'Kolya (1996)',\n",
       " 'Ghostbusters (1984)',\n",
       " 'Buena Vista Social Club (1999)',\n",
       " 'Sting, The (1973)',\n",
       " 'Elephant Man, The (1980)',\n",
       " 'Time Bandits (1981)',\n",
       " 'Duck Soup (1933)',\n",
       " \"Ferris Bueller's Day Off (1986)\",\n",
       " 'Jean de Florette (1986)']"
      ]
     },
     "execution_count": 39,
     "metadata": {},
     "output_type": "execute_result"
    }
   ],
   "source": [
    "[idx_to_movie[i[0]] for i in movie_recommended]"
   ]
  },
  {
   "cell_type": "markdown",
   "id": "0f29af78",
   "metadata": {},
   "source": [
    "## 회고\n",
    "\n"
   ]
  },
  {
   "cell_type": "markdown",
   "id": "40ede523",
   "metadata": {},
   "source": [
    "이 프로젝트에서 indexing을 사용하는데, indexing은 원래의 dataset안에 있는 중복된 요소들을 버리므로써 규모를 축소한 데이터 세트를 만들게 된다. CSR matrix를 만들때는 곱을 하기 때문에 이것으로 CSR matrix를 만든다. 이번 프로젝트에서 indexing의 용도가 CSR matrix를 만들때 너무 커지지 않게 하기 위함인 것 같다. 모델이 추천되는 영화는 내가 좋아하는 영화와 비슷한 것 같기도 하고 나름 흥미로운 것 같다. "
   ]
  }
 ],
 "metadata": {
  "kernelspec": {
   "display_name": "Python 3 (ipykernel)",
   "language": "python",
   "name": "python3"
  },
  "language_info": {
   "codemirror_mode": {
    "name": "ipython",
    "version": 3
   },
   "file_extension": ".py",
   "mimetype": "text/x-python",
   "name": "python",
   "nbconvert_exporter": "python",
   "pygments_lexer": "ipython3",
   "version": "3.9.7"
  }
 },
 "nbformat": 4,
 "nbformat_minor": 5
}
