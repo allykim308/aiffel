{
  "nbformat": 4,
  "nbformat_minor": 0,
  "metadata": {
    "colab": {
      "name": "EX2_diabetes_bike.ipynb",
      "provenance": []
    },
    "kernelspec": {
      "name": "python3",
      "display_name": "Python 3"
    },
    "language_info": {
      "name": "python"
    }
  },
  "cells": [
    {
      "cell_type": "markdown",
      "source": [
        "# **회귀 (3) - 당뇨병 환자 데이터(diabetes)와 다중 선형 회귀**"
      ],
      "metadata": {
        "id": "AqPMYHck95wq"
      }
    },
    {
      "cell_type": "code",
      "execution_count": 3,
      "metadata": {
        "id": "gQL1654mR4zQ"
      },
      "outputs": [],
      "source": [
        "# (1) 데이터 가져오기\n",
        "# sklearn.datasets의 load_diabetes에서 데이터를 가져와주세요.\n",
        "# diabetes의 data를 df_X에, target을 df_y에 저장해주세요.\n",
        "\n",
        "from sklearn.datasets import load_diabetes\n",
        "diabetes =load_diabetes()\n",
        "df_X = diabetes.data\n",
        "df_y = diabetes.target\n",
        "df_X_feature = diabetes.feature_names"
      ]
    },
    {
      "cell_type": "code",
      "source": [
        "# (2) 모델에 입력할 데이터 X 준비하기 df_X에 있는 값들을 numpy array로 변환해서 저장해주세요. \n",
        "# (3) 모델에 예측할 데이터 y 준비하기 df_y에 있는 값들을 numpy array로 변환해서 저장해주세요.\n",
        "\n",
        "import numpy as np\n",
        "print(type(df_X))\n",
        "print(type(df_y))\n",
        "print(df_X_feature)\n",
        "print(df_X)\n",
        "print(df_y)"
      ],
      "metadata": {
        "id": "1xA44pgRSxeL",
        "colab": {
          "base_uri": "https://localhost:8080/"
        },
        "outputId": "05a872c8-f38a-4b54-ab91-8a3f123cd354"
      },
      "execution_count": 4,
      "outputs": [
        {
          "output_type": "stream",
          "name": "stdout",
          "text": [
            "<class 'numpy.ndarray'>\n",
            "<class 'numpy.ndarray'>\n",
            "['age', 'sex', 'bmi', 'bp', 's1', 's2', 's3', 's4', 's5', 's6']\n",
            "[[ 0.03807591  0.05068012  0.06169621 ... -0.00259226  0.01990842\n",
            "  -0.01764613]\n",
            " [-0.00188202 -0.04464164 -0.05147406 ... -0.03949338 -0.06832974\n",
            "  -0.09220405]\n",
            " [ 0.08529891  0.05068012  0.04445121 ... -0.00259226  0.00286377\n",
            "  -0.02593034]\n",
            " ...\n",
            " [ 0.04170844  0.05068012 -0.01590626 ... -0.01107952 -0.04687948\n",
            "   0.01549073]\n",
            " [-0.04547248 -0.04464164  0.03906215 ...  0.02655962  0.04452837\n",
            "  -0.02593034]\n",
            " [-0.04547248 -0.04464164 -0.0730303  ... -0.03949338 -0.00421986\n",
            "   0.00306441]]\n",
            "[151.  75. 141. 206. 135.  97. 138.  63. 110. 310. 101.  69. 179. 185.\n",
            " 118. 171. 166. 144.  97. 168.  68.  49.  68. 245. 184. 202. 137.  85.\n",
            " 131. 283. 129.  59. 341.  87.  65. 102. 265. 276. 252.  90. 100.  55.\n",
            "  61.  92. 259.  53. 190. 142.  75. 142. 155. 225.  59. 104. 182. 128.\n",
            "  52.  37. 170. 170.  61. 144.  52. 128.  71. 163. 150.  97. 160. 178.\n",
            "  48. 270. 202. 111.  85.  42. 170. 200. 252. 113. 143.  51.  52. 210.\n",
            "  65. 141.  55. 134.  42. 111.  98. 164.  48.  96.  90. 162. 150. 279.\n",
            "  92.  83. 128. 102. 302. 198.  95.  53. 134. 144. 232.  81. 104.  59.\n",
            " 246. 297. 258. 229. 275. 281. 179. 200. 200. 173. 180.  84. 121. 161.\n",
            "  99. 109. 115. 268. 274. 158. 107.  83. 103. 272.  85. 280. 336. 281.\n",
            " 118. 317. 235.  60. 174. 259. 178. 128.  96. 126. 288.  88. 292.  71.\n",
            " 197. 186.  25.  84.  96. 195.  53. 217. 172. 131. 214.  59.  70. 220.\n",
            " 268. 152.  47.  74. 295. 101. 151. 127. 237. 225.  81. 151. 107.  64.\n",
            " 138. 185. 265. 101. 137. 143. 141.  79. 292. 178.  91. 116.  86. 122.\n",
            "  72. 129. 142.  90. 158.  39. 196. 222. 277.  99. 196. 202. 155.  77.\n",
            " 191.  70.  73.  49.  65. 263. 248. 296. 214. 185.  78.  93. 252. 150.\n",
            "  77. 208.  77. 108. 160.  53. 220. 154. 259.  90. 246. 124.  67.  72.\n",
            " 257. 262. 275. 177.  71.  47. 187. 125.  78.  51. 258. 215. 303. 243.\n",
            "  91. 150. 310. 153. 346.  63.  89.  50.  39. 103. 308. 116. 145.  74.\n",
            "  45. 115. 264.  87. 202. 127. 182. 241.  66.  94. 283.  64. 102. 200.\n",
            " 265.  94. 230. 181. 156. 233.  60. 219.  80.  68. 332. 248.  84. 200.\n",
            "  55.  85.  89.  31. 129.  83. 275.  65. 198. 236. 253. 124.  44. 172.\n",
            " 114. 142. 109. 180. 144. 163. 147.  97. 220. 190. 109. 191. 122. 230.\n",
            " 242. 248. 249. 192. 131. 237.  78. 135. 244. 199. 270. 164.  72.  96.\n",
            " 306.  91. 214.  95. 216. 263. 178. 113. 200. 139. 139.  88. 148.  88.\n",
            " 243.  71.  77. 109. 272.  60.  54. 221.  90. 311. 281. 182. 321.  58.\n",
            " 262. 206. 233. 242. 123. 167.  63. 197.  71. 168. 140. 217. 121. 235.\n",
            " 245.  40.  52. 104. 132.  88.  69. 219.  72. 201. 110.  51. 277.  63.\n",
            " 118.  69. 273. 258.  43. 198. 242. 232. 175.  93. 168. 275. 293. 281.\n",
            "  72. 140. 189. 181. 209. 136. 261. 113. 131. 174. 257.  55.  84.  42.\n",
            " 146. 212. 233.  91. 111. 152. 120.  67. 310.  94. 183.  66. 173.  72.\n",
            "  49.  64.  48. 178. 104. 132. 220.  57.]\n"
          ]
        }
      ]
    },
    {
      "cell_type": "code",
      "source": [
        "# (4) train 데이터와 test 데이터로 분리하기 X와 y 데이터를 각각 train 데이터와 test 데이터로 분리해주세요.\n",
        "\n",
        "from sklearn.model_selection import train_test_split\n",
        "X_train, X_test, y_train, y_test = train_test_split(df_X, df_y, test_size=0.2, random_state=42)"
      ],
      "metadata": {
        "id": "ExTm6UiAa9p0"
      },
      "execution_count": 5,
      "outputs": []
    },
    {
      "cell_type": "code",
      "source": [
        "# (5) 모델 준비하기 \n",
        "# 입력 데이터 개수에 맞는 가중치 W와 b를 준비해주세요. 모델 함수를 구현해주세요. \n",
        "\n",
        "import numpy as np\n",
        "W = np.random.rand(10)\n",
        "b = np.random.rand()\n",
        "print(W)\n",
        "print(b)\n",
        "\n",
        "def model(X, W, b):\n",
        "    predictions = 0\n",
        "    for i in range(10):\n",
        "        predictions += X[:, i] * W[i]\n",
        "    predictions += b\n",
        "    return predictions\n"
      ],
      "metadata": {
        "colab": {
          "base_uri": "https://localhost:8080/"
        },
        "id": "D9cHPlAnbZW2",
        "outputId": "174494a3-bec5-45f4-cdf1-a77200effbea"
      },
      "execution_count": 6,
      "outputs": [
        {
          "output_type": "stream",
          "name": "stdout",
          "text": [
            "[0.08343044 0.73808711 0.88273021 0.29582514 0.41805115 0.10870999\n",
            " 0.85551428 0.6102985  0.95392078 0.40291849]\n",
            "0.665051698713966\n"
          ]
        }
      ]
    },
    {
      "cell_type": "code",
      "source": [
        "# (6) 손실함수 loss 정의하기 손실함수를 MSE 함수로 정의해주세요.\n",
        "def MSE(a, b):\n",
        "    mse = ((a - b) ** 2).mean()  # 두 값의 차이의 제곱의 평균\n",
        "    return mse\n",
        "\n",
        "def loss(X, W, b, y):\n",
        "    predictions = model(X, W, b)\n",
        "    L = MSE(predictions, y)\n",
        "    return L"
      ],
      "metadata": {
        "id": "bKEo6l_YnSfp"
      },
      "execution_count": 7,
      "outputs": []
    },
    {
      "cell_type": "code",
      "source": [
        "# (7) 기울기를 구하는 gradient 함수 구현하기 \n",
        "\n",
        "def gradient(X, W, b, y):\n",
        "    # N은 가중치의 개수\n",
        "    N = len(W)\n",
        "    \n",
        "    # y_pred 준비\n",
        "    y_pred = model(X, W, b)\n",
        "    \n",
        "    # 공식에 맞게 gradient 계산\n",
        "    dW = 1/N * 2 * X.T.dot(y_pred - y)\n",
        "        \n",
        "    # b의 gradient 계산\n",
        "    db = 2 * (y_pred - y).mean()\n",
        "    return dW, db\n",
        "\n",
        "\n",
        "dW, db = gradient(X_train, W, b, y_train)\n",
        "print(\"dW:\", dW)\n",
        "print(\"db:\", db)"
      ],
      "metadata": {
        "colab": {
          "base_uri": "https://localhost:8080/"
        },
        "id": "h9987zYlnhMr",
        "outputId": "102b3090-bb3a-4ca6-9f8e-5248175075be"
      },
      "execution_count": 8,
      "outputs": [
        {
          "output_type": "stream",
          "name": "stdout",
          "text": [
            "dW: [ -65.45598299   -3.70184644 -175.59541383 -130.97839604  -46.09847126\n",
            "  -31.59921205  109.85445709 -115.43279324 -157.9416037  -123.95262655]\n",
            "db: -306.13673888551347\n"
          ]
        }
      ]
    },
    {
      "cell_type": "code",
      "source": [
        "# (8) 하이퍼 파라미터인 학습률 설정하기 학습률, learning rate 를 설정해주세요. \n",
        "# 만약 학습이 잘 되지 않는다면 learning rate 값을 한번 여러 가지로 설정하며 실험해 보세요. \n",
        "\n",
        "LEARNING_RATE = 0.02 # "
      ],
      "metadata": {
        "id": "4iNoSD9TfeRr"
      },
      "execution_count": 9,
      "outputs": []
    },
    {
      "cell_type": "markdown",
      "source": [
        "- learning rate를 여러 숫자로 설정하여 Loss값을 측정한 결과 learning rate가 0.02 일때 가장 낮게 나왔다."
      ],
      "metadata": {
        "id": "ewye_HBn6uYv"
      }
    },
    {
      "cell_type": "code",
      "source": [
        "# (9) 모델 학습하기 \n",
        "# 정의된 손실함수와 기울기 함수로 모델을 학습해주세요. \n",
        "# loss값이 충분히 떨어질 때까지 학습을 진행해주세요. \n",
        "# 입력하는 데이터인 X에 들어가는 특성 컬럼들을 몇 개 빼도 괜찮습니다. \n",
        "# 다양한 데이터로 실험해 보세요.\n",
        "losses = []\n",
        "\n",
        "for i in range(1, 1001):\n",
        "    dW, db = gradient(X_train, W, b, y_train)\n",
        "    W -= LEARNING_RATE * dW\n",
        "    b -= LEARNING_RATE * db\n",
        "    L = loss(X_train, W, b, y_train)\n",
        "    losses.append(L)\n",
        "    if i % 10 == 0:\n",
        "        print('Iteration %d : Loss %0.4f' % (i, L))"
      ],
      "metadata": {
        "colab": {
          "base_uri": "https://localhost:8080/"
        },
        "id": "oEOFWOHFoPCB",
        "outputId": "43f5b093-04a5-4199-c881-1d44b54fe820"
      },
      "execution_count": 10,
      "outputs": [
        {
          "output_type": "stream",
          "name": "stdout",
          "text": [
            "Iteration 10 : Loss 15839.5204\n",
            "Iteration 20 : Loss 9636.2605\n",
            "Iteration 30 : Loss 6757.4832\n",
            "Iteration 40 : Loss 5372.5069\n",
            "Iteration 50 : Loss 4667.3261\n",
            "Iteration 60 : Loss 4278.2381\n",
            "Iteration 70 : Loss 4041.3715\n",
            "Iteration 80 : Loss 3881.8313\n",
            "Iteration 90 : Loss 3764.5711\n",
            "Iteration 100 : Loss 3672.5684\n",
            "Iteration 110 : Loss 3597.0903\n",
            "Iteration 120 : Loss 3533.3203\n",
            "Iteration 130 : Loss 3478.3705\n",
            "Iteration 140 : Loss 3430.3601\n",
            "Iteration 150 : Loss 3387.9744\n",
            "Iteration 160 : Loss 3350.2435\n",
            "Iteration 170 : Loss 3316.4245\n",
            "Iteration 180 : Loss 3285.9335\n",
            "Iteration 190 : Loss 3258.3031\n",
            "Iteration 200 : Loss 3233.1541\n",
            "Iteration 210 : Loss 3210.1754\n",
            "Iteration 220 : Loss 3189.1093\n",
            "Iteration 230 : Loss 3169.7403\n",
            "Iteration 240 : Loss 3151.8867\n",
            "Iteration 250 : Loss 3135.3940\n",
            "Iteration 260 : Loss 3120.1297\n",
            "Iteration 270 : Loss 3105.9792\n",
            "Iteration 280 : Loss 3092.8424\n",
            "Iteration 290 : Loss 3080.6319\n",
            "Iteration 300 : Loss 3069.2701\n",
            "Iteration 310 : Loss 3058.6880\n",
            "Iteration 320 : Loss 3048.8239\n",
            "Iteration 330 : Loss 3039.6225\n",
            "Iteration 340 : Loss 3031.0335\n",
            "Iteration 350 : Loss 3023.0114\n",
            "Iteration 360 : Loss 3015.5149\n",
            "Iteration 370 : Loss 3008.5062\n",
            "Iteration 380 : Loss 3001.9504\n",
            "Iteration 390 : Loss 2995.8158\n",
            "Iteration 400 : Loss 2990.0730\n",
            "Iteration 410 : Loss 2984.6951\n",
            "Iteration 420 : Loss 2979.6570\n",
            "Iteration 430 : Loss 2974.9357\n",
            "Iteration 440 : Loss 2970.5098\n",
            "Iteration 450 : Loss 2966.3595\n",
            "Iteration 460 : Loss 2962.4664\n",
            "Iteration 470 : Loss 2958.8135\n",
            "Iteration 480 : Loss 2955.3848\n",
            "Iteration 490 : Loss 2952.1657\n",
            "Iteration 500 : Loss 2949.1425\n",
            "Iteration 510 : Loss 2946.3023\n",
            "Iteration 520 : Loss 2943.6334\n",
            "Iteration 530 : Loss 2941.1246\n",
            "Iteration 540 : Loss 2938.7657\n",
            "Iteration 550 : Loss 2936.5471\n",
            "Iteration 560 : Loss 2934.4597\n",
            "Iteration 570 : Loss 2932.4953\n",
            "Iteration 580 : Loss 2930.6461\n",
            "Iteration 590 : Loss 2928.9047\n",
            "Iteration 600 : Loss 2927.2644\n",
            "Iteration 610 : Loss 2925.7189\n",
            "Iteration 620 : Loss 2924.2622\n",
            "Iteration 630 : Loss 2922.8889\n",
            "Iteration 640 : Loss 2921.5937\n",
            "Iteration 650 : Loss 2920.3719\n",
            "Iteration 660 : Loss 2919.2188\n",
            "Iteration 670 : Loss 2918.1304\n",
            "Iteration 680 : Loss 2917.1027\n",
            "Iteration 690 : Loss 2916.1319\n",
            "Iteration 700 : Loss 2915.2146\n",
            "Iteration 710 : Loss 2914.3476\n",
            "Iteration 720 : Loss 2913.5279\n",
            "Iteration 730 : Loss 2912.7527\n",
            "Iteration 740 : Loss 2912.0192\n",
            "Iteration 750 : Loss 2911.3250\n",
            "Iteration 760 : Loss 2910.6678\n",
            "Iteration 770 : Loss 2910.0454\n",
            "Iteration 780 : Loss 2909.4558\n",
            "Iteration 790 : Loss 2908.8970\n",
            "Iteration 800 : Loss 2908.3673\n",
            "Iteration 810 : Loss 2907.8649\n",
            "Iteration 820 : Loss 2907.3883\n",
            "Iteration 830 : Loss 2906.9360\n",
            "Iteration 840 : Loss 2906.5066\n",
            "Iteration 850 : Loss 2906.0988\n",
            "Iteration 860 : Loss 2905.7114\n",
            "Iteration 870 : Loss 2905.3432\n",
            "Iteration 880 : Loss 2904.9932\n",
            "Iteration 890 : Loss 2904.6603\n",
            "Iteration 900 : Loss 2904.3435\n",
            "Iteration 910 : Loss 2904.0420\n",
            "Iteration 920 : Loss 2903.7550\n",
            "Iteration 930 : Loss 2903.4815\n",
            "Iteration 940 : Loss 2903.2210\n",
            "Iteration 950 : Loss 2902.9726\n",
            "Iteration 960 : Loss 2902.7358\n",
            "Iteration 970 : Loss 2902.5098\n",
            "Iteration 980 : Loss 2902.2942\n",
            "Iteration 990 : Loss 2902.0883\n",
            "Iteration 1000 : Loss 2901.8916\n"
          ]
        }
      ]
    },
    {
      "cell_type": "code",
      "source": [
        "import matplotlib.pyplot as plt\n",
        "plt.plot(losses)\n",
        "plt.show()"
      ],
      "metadata": {
        "colab": {
          "base_uri": "https://localhost:8080/",
          "height": 265
        },
        "id": "5XngJ_DsoZwa",
        "outputId": "ef17865f-00b6-479b-8c63-584f5549d19b"
      },
      "execution_count": 11,
      "outputs": [
        {
          "output_type": "display_data",
          "data": {
            "text/plain": [
              "<Figure size 432x288 with 1 Axes>"
            ],
            "image/png": "[encoded data removed]"
          },
          "metadata": {
            "needs_background": "light"
          }
        }
      ]
    },
    {
      "cell_type": "code",
      "source": [
        "W, b"
      ],
      "metadata": {
        "colab": {
          "base_uri": "https://localhost:8080/"
        },
        "id": "N9K9oUd_oeRS",
        "outputId": "2702c0fd-e436-4788-b6b1-516cfc0fe9ed"
      },
      "execution_count": 12,
      "outputs": [
        {
          "output_type": "execute_result",
          "data": {
            "text/plain": [
              "(array([  39.95779218, -225.89023915,  536.5665307 ,  335.04519726,\n",
              "         -85.65673245, -128.48091199, -218.068603  ,  145.70895029,\n",
              "         396.55738807,   90.6540884 ]), 151.32108286442357)"
            ]
          },
          "metadata": {},
          "execution_count": 12
        }
      ]
    },
    {
      "cell_type": "code",
      "source": [
        "#  (10) test 데이터에 대한 성능 확인하기 test 데이터에 대한 성능을 확인해주세요. \n",
        "\n",
        "prediction = model(X_test, W, b)\n",
        "mse = loss(X_test, W, b, y_test)\n",
        "print(\"MSE 손살값: \", mse)"
      ],
      "metadata": {
        "colab": {
          "base_uri": "https://localhost:8080/"
        },
        "id": "g0ns2raxokQm",
        "outputId": "87d556fd-a151-42b3-bca8-3e81dfda26b0"
      },
      "execution_count": 13,
      "outputs": [
        {
          "output_type": "stream",
          "name": "stdout",
          "text": [
            "MSE 손살값:  2874.4545604647933\n"
          ]
        }
      ]
    },
    {
      "cell_type": "code",
      "source": [
        "rmse = mse ** 0.5\n",
        "rmse"
      ],
      "metadata": {
        "colab": {
          "base_uri": "https://localhost:8080/"
        },
        "id": "ktQWvhwL7_oO",
        "outputId": "05635009-ebc9-4cc8-f999-f0bd31572839"
      },
      "execution_count": 14,
      "outputs": [
        {
          "output_type": "execute_result",
          "data": {
            "text/plain": [
              "53.613939982664895"
            ]
          },
          "metadata": {},
          "execution_count": 14
        }
      ]
    },
    {
      "cell_type": "markdown",
      "source": [
        ""
      ],
      "metadata": {
        "id": "4_0XTKVj69bU"
      }
    },
    {
      "cell_type": "code",
      "source": [
        "# (11) 정답 데이터와 예측한 데이터 시각화하기 x축에는 X 데이터의 첫 번째 컬럼을, \n",
        "# y축에는 정답인 target 데이터를 넣어서 모델이 예측한 데이터를 시각화해 주세요.\n",
        "plt.scatter(X_test[:, 0], y_test)\n",
        "plt.scatter(X_test[:, 0], prediction)\n",
        "plt.show()"
      ],
      "metadata": {
        "colab": {
          "base_uri": "https://localhost:8080/",
          "height": 265
        },
        "id": "89cXgS9Bopll",
        "outputId": "d045855b-f7aa-466c-eb6c-296abf1d3982"
      },
      "execution_count": 15,
      "outputs": [
        {
          "output_type": "display_data",
          "data": {
            "text/plain": [
              "<Figure size 432x288 with 1 Axes>"
            ],
            "image/png": "[encoded data removed]"
          },
          "metadata": {
            "needs_background": "light"
          }
        }
      ]
    },
    {
      "cell_type": "markdown",
      "source": [
        "루브릭\n",
        "\n",
        "1. 프로젝트 1의 회귀모델 예측정확도가 기준 이상 높게 나왔는가?\n",
        "기준: MSE 손실함수값 3000 이하를 달성 \n",
        "  - MSE는 2874.48로 3000 이하를 달성했습니다. \n",
        "\n",
        "3. 시각화 요구사항이 정확하게 이루어졌는가?\n",
        "기준: 데이터개수 시각화 및 예측결과 시각화를 진행하였으며, 예측과 실제 데이터가 크게 분리되지 않고 비슷하다.\n",
        "  - scatter plot을 이용해 시각화를 했고 예측결과(주황색점)와 실제 데이터(파랑색점)가 비슷한 위치에 분포되어있습니다."
      ],
      "metadata": {
        "id": "LuQ4exYW7bvD"
      }
    },
    {
      "cell_type": "markdown",
      "source": [
        "# **2-13. 프로젝트 2 : 날씨 좋은 월요일 오후 세 시, 자전거 타는 사람은 몇 명?**"
      ],
      "metadata": {
        "id": "6_lUbkBJPn_F"
      }
    },
    {
      "cell_type": "code",
      "source": [
        "#(1) 데이터 가져오기 터미널에서 ~/data/data/bike-sharing-demand 경로에 train.csv 데이터를 train 변수로 가져 옵니다. \n",
        "#여기에서 데이터를 상세히 확인할 수 있습니다.\n",
        "\n",
        "from google.colab import files\n",
        "from google.colab import drive \n",
        "import numpy as np\n",
        "import pandas as pd\n",
        "\n",
        "drive.mount('/content/gdrive')\n",
        "train = pd.read_csv('/content/gdrive/MyDrive/Colab Notebooks/ex2/train.csv')"
      ],
      "metadata": {
        "colab": {
          "base_uri": "https://localhost:8080/"
        },
        "id": "I19RAmFgP3km",
        "outputId": "3bad5de4-7fd6-4d96-ec1d-c24548d2e4d8"
      },
      "execution_count": 19,
      "outputs": [
        {
          "output_type": "stream",
          "name": "stdout",
          "text": [
            "Drive already mounted at /content/gdrive; to attempt to forcibly remount, call drive.mount(\"/content/gdrive\", force_remount=True).\n"
          ]
        }
      ]
    },
    {
      "cell_type": "code",
      "source": [
        "train.shape"
      ],
      "metadata": {
        "colab": {
          "base_uri": "https://localhost:8080/"
        },
        "id": "4INH04gckaoh",
        "outputId": "b07dd864-e309-43d7-80d4-572a68c39cfb"
      },
      "execution_count": null,
      "outputs": [
        {
          "output_type": "execute_result",
          "data": {
            "text/plain": [
              "(10886, 12)"
            ]
          },
          "metadata": {},
          "execution_count": 183
        }
      ]
    },
    {
      "cell_type": "code",
      "source": [
        "train['datetime']"
      ],
      "metadata": {
        "colab": {
          "base_uri": "https://localhost:8080/"
        },
        "id": "TXquzlepmNlx",
        "outputId": "65334304-e114-4d02-890a-94cb2671c8cd"
      },
      "execution_count": null,
      "outputs": [
        {
          "output_type": "execute_result",
          "data": {
            "text/plain": [
              "0        2011-01-01 00:00:00\n",
              "1        2011-01-01 01:00:00\n",
              "2        2011-01-01 02:00:00\n",
              "3        2011-01-01 03:00:00\n",
              "4        2011-01-01 04:00:00\n",
              "                ...         \n",
              "10881    2012-12-19 19:00:00\n",
              "10882    2012-12-19 20:00:00\n",
              "10883    2012-12-19 21:00:00\n",
              "10884    2012-12-19 22:00:00\n",
              "10885    2012-12-19 23:00:00\n",
              "Name: datetime, Length: 10886, dtype: object"
            ]
          },
          "metadata": {},
          "execution_count": 184
        }
      ]
    },
    {
      "cell_type": "code",
      "source": [
        "# (2) datetime 컬럼을 datetime 자료형으로 변환하고 연, 월, 일, 시, 분, 초까지 6가지 컬럼 생성하기 to_datetime 활용 : \n",
        "# 링크 참조 pandas datetime extract year month day 키워드로 검색해 보기 \n",
        "from datetime import datetime # datatime 라이브러리 임포트\n",
        "import calendar"
      ],
      "metadata": {
        "id": "e0ReUUEkcOFZ"
      },
      "execution_count": null,
      "outputs": []
    },
    {
      "cell_type": "code",
      "source": [
        "train['date'] = train['datetime'].apply(lambda x: x.split()[0]) # 날짜 피처 생성\n",
        "\n",
        "# 연도, 월, 일, 시, 분, 초 피처를 차례로 생성\n",
        "train['year'] = train['datetime'].apply(lambda x: x.split()[0].split('-')[0]) \n",
        "train['month'] = train['datetime'].apply(lambda x: x.split()[0].split('-')[1])\n",
        "train['day'] = train['datetime'].apply(lambda x: x.split()[0].split('-')[2]) \n",
        "train['hour'] = train['datetime'].apply(lambda x: x.split()[1].split(':')[0])\n",
        "train['minute'] = train['datetime'].apply(lambda x: x.split()[1].split(':')[1])\n",
        "train['second'] = train['datetime'].apply(lambda x: x.split()[1].split(':')[2])"
      ],
      "metadata": {
        "id": "dLdEl7AjJRfq"
      },
      "execution_count": null,
      "outputs": []
    },
    {
      "cell_type": "code",
      "source": [
        "train.head()"
      ],
      "metadata": {
        "colab": {
          "base_uri": "https://localhost:8080/",
          "height": 444
        },
        "id": "btGCKjELldhA",
        "outputId": "581bf798-285b-4ea1-e1a4-aec707e0643e"
      },
      "execution_count": null,
      "outputs": [
        {
          "output_type": "execute_result",
          "data": {
            "text/plain": [
              "              datetime  season  holiday  workingday  weather  temp   atemp  \\\n",
              "0  2011-01-01 00:00:00       1        0           0        1  9.84  14.395   \n",
              "1  2011-01-01 01:00:00       1        0           0        1  9.02  13.635   \n",
              "2  2011-01-01 02:00:00       1        0           0        1  9.02  13.635   \n",
              "3  2011-01-01 03:00:00       1        0           0        1  9.84  14.395   \n",
              "4  2011-01-01 04:00:00       1        0           0        1  9.84  14.395   \n",
              "\n",
              "   humidity  windspeed  casual  registered  count        date  year month day  \\\n",
              "0        81        0.0       3          13     16  2011-01-01  2011    01  01   \n",
              "1        80        0.0       8          32     40  2011-01-01  2011    01  01   \n",
              "2        80        0.0       5          27     32  2011-01-01  2011    01  01   \n",
              "3        75        0.0       3          10     13  2011-01-01  2011    01  01   \n",
              "4        75        0.0       0           1      1  2011-01-01  2011    01  01   \n",
              "\n",
              "  hour minute second  \n",
              "0   00     00     00  \n",
              "1   01     00     00  \n",
              "2   02     00     00  \n",
              "3   03     00     00  \n",
              "4   04     00     00  "
            ],
            "text/html": [
              "\n",
              "  <div id=\"df-31e10dcf-265c-45eb-8a71-c90d6d2569f9\">\n",
              "    <div class=\"colab-df-container\">\n",
              "      <div>\n",
              "<style scoped>\n",
              "    .dataframe tbody tr th:only-of-type {\n",
              "        vertical-align: middle;\n",
              "    }\n",
              "\n",
              "    .dataframe tbody tr th {\n",
              "        vertical-align: top;\n",
              "    }\n",
              "\n",
              "    .dataframe thead th {\n",
              "        text-align: right;\n",
              "    }\n",
              "</style>\n",
              "<table border=\"1\" class=\"dataframe\">\n",
              "  <thead>\n",
              "    <tr style=\"text-align: right;\">\n",
              "      <th></th>\n",
              "      <th>datetime</th>\n",
              "      <th>season</th>\n",
              "      <th>holiday</th>\n",
              "      <th>workingday</th>\n",
              "      <th>weather</th>\n",
              "      <th>temp</th>\n",
              "      <th>atemp</th>\n",
              "      <th>humidity</th>\n",
              "      <th>windspeed</th>\n",
              "      <th>casual</th>\n",
              "      <th>registered</th>\n",
              "      <th>count</th>\n",
              "      <th>date</th>\n",
              "      <th>year</th>\n",
              "      <th>month</th>\n",
              "      <th>day</th>\n",
              "      <th>hour</th>\n",
              "      <th>minute</th>\n",
              "      <th>second</th>\n",
              "    </tr>\n",
              "  </thead>\n",
              "  <tbody>\n",
              "    <tr>\n",
              "      <th>0</th>\n",
              "      <td>2011-01-01 00:00:00</td>\n",
              "      <td>1</td>\n",
              "      <td>0</td>\n",
              "      <td>0</td>\n",
              "      <td>1</td>\n",
              "      <td>9.84</td>\n",
              "      <td>14.395</td>\n",
              "      <td>81</td>\n",
              "      <td>0.0</td>\n",
              "      <td>3</td>\n",
              "      <td>13</td>\n",
              "      <td>16</td>\n",
              "      <td>2011-01-01</td>\n",
              "      <td>2011</td>\n",
              "      <td>01</td>\n",
              "      <td>01</td>\n",
              "      <td>00</td>\n",
              "      <td>00</td>\n",
              "      <td>00</td>\n",
              "    </tr>\n",
              "    <tr>\n",
              "      <th>1</th>\n",
              "      <td>2011-01-01 01:00:00</td>\n",
              "      <td>1</td>\n",
              "      <td>0</td>\n",
              "      <td>0</td>\n",
              "      <td>1</td>\n",
              "      <td>9.02</td>\n",
              "      <td>13.635</td>\n",
              "      <td>80</td>\n",
              "      <td>0.0</td>\n",
              "      <td>8</td>\n",
              "      <td>32</td>\n",
              "      <td>40</td>\n",
              "      <td>2011-01-01</td>\n",
              "      <td>2011</td>\n",
              "      <td>01</td>\n",
              "      <td>01</td>\n",
              "      <td>01</td>\n",
              "      <td>00</td>\n",
              "      <td>00</td>\n",
              "    </tr>\n",
              "    <tr>\n",
              "      <th>2</th>\n",
              "      <td>2011-01-01 02:00:00</td>\n",
              "      <td>1</td>\n",
              "      <td>0</td>\n",
              "      <td>0</td>\n",
              "      <td>1</td>\n",
              "      <td>9.02</td>\n",
              "      <td>13.635</td>\n",
              "      <td>80</td>\n",
              "      <td>0.0</td>\n",
              "      <td>5</td>\n",
              "      <td>27</td>\n",
              "      <td>32</td>\n",
              "      <td>2011-01-01</td>\n",
              "      <td>2011</td>\n",
              "      <td>01</td>\n",
              "      <td>01</td>\n",
              "      <td>02</td>\n",
              "      <td>00</td>\n",
              "      <td>00</td>\n",
              "    </tr>\n",
              "    <tr>\n",
              "      <th>3</th>\n",
              "      <td>2011-01-01 03:00:00</td>\n",
              "      <td>1</td>\n",
              "      <td>0</td>\n",
              "      <td>0</td>\n",
              "      <td>1</td>\n",
              "      <td>9.84</td>\n",
              "      <td>14.395</td>\n",
              "      <td>75</td>\n",
              "      <td>0.0</td>\n",
              "      <td>3</td>\n",
              "      <td>10</td>\n",
              "      <td>13</td>\n",
              "      <td>2011-01-01</td>\n",
              "      <td>2011</td>\n",
              "      <td>01</td>\n",
              "      <td>01</td>\n",
              "      <td>03</td>\n",
              "      <td>00</td>\n",
              "      <td>00</td>\n",
              "    </tr>\n",
              "    <tr>\n",
              "      <th>4</th>\n",
              "      <td>2011-01-01 04:00:00</td>\n",
              "      <td>1</td>\n",
              "      <td>0</td>\n",
              "      <td>0</td>\n",
              "      <td>1</td>\n",
              "      <td>9.84</td>\n",
              "      <td>14.395</td>\n",
              "      <td>75</td>\n",
              "      <td>0.0</td>\n",
              "      <td>0</td>\n",
              "      <td>1</td>\n",
              "      <td>1</td>\n",
              "      <td>2011-01-01</td>\n",
              "      <td>2011</td>\n",
              "      <td>01</td>\n",
              "      <td>01</td>\n",
              "      <td>04</td>\n",
              "      <td>00</td>\n",
              "      <td>00</td>\n",
              "    </tr>\n",
              "  </tbody>\n",
              "</table>\n",
              "</div>\n",
              "      <button class=\"colab-df-convert\" onclick=\"convertToInteractive('df-31e10dcf-265c-45eb-8a71-c90d6d2569f9')\"\n",
              "              title=\"Convert this dataframe to an interactive table.\"\n",
              "              style=\"display:none;\">\n",
              "        \n",
              "  <svg xmlns=\"http://www.w3.org/2000/svg\" height=\"24px\"viewBox=\"0 0 24 24\"\n",
              "       width=\"24px\">\n",
              "    <path d=\"M0 0h24v24H0V0z\" fill=\"none\"/>\n",
              "    <path d=\"M18.56 5.44l.94 2.06.94-2.06 2.06-.94-2.06-.94-.94-2.06-.94 2.06-2.06.94zm-11 1L8.5 8.5l.94-2.06 2.06-.94-2.06-.94L8.5 2.5l-.94 2.06-2.06.94zm10 10l.94 2.06.94-2.06 2.06-.94-2.06-.94-.94-2.06-.94 2.06-2.06.94z\"/><path d=\"M17.41 7.96l-1.37-1.37c-.4-.4-.92-.59-1.43-.59-.52 0-1.04.2-1.43.59L10.3 9.45l-7.72 7.72c-.78.78-.78 2.05 0 2.83L4 21.41c.39.39.9.59 1.41.59.51 0 1.02-.2 1.41-.59l7.78-7.78 2.81-2.81c.8-.78.8-2.07 0-2.86zM5.41 20L4 18.59l7.72-7.72 1.47 1.35L5.41 20z\"/>\n",
              "  </svg>\n",
              "      </button>\n",
              "      \n",
              "  <style>\n",
              "    .colab-df-container {\n",
              "      display:flex;\n",
              "      flex-wrap:wrap;\n",
              "      gap: 12px;\n",
              "    }\n",
              "\n",
              "    .colab-df-convert {\n",
              "      background-color: #E8F0FE;\n",
              "      border: none;\n",
              "      border-radius: 50%;\n",
              "      cursor: pointer;\n",
              "      display: none;\n",
              "      fill: #1967D2;\n",
              "      height: 32px;\n",
              "      padding: 0 0 0 0;\n",
              "      width: 32px;\n",
              "    }\n",
              "\n",
              "    .colab-df-convert:hover {\n",
              "      background-color: #E2EBFA;\n",
              "      box-shadow: 0px 1px 2px rgba(60, 64, 67, 0.3), 0px 1px 3px 1px rgba(60, 64, 67, 0.15);\n",
              "      fill: #174EA6;\n",
              "    }\n",
              "\n",
              "    [theme=dark] .colab-df-convert {\n",
              "      background-color: #3B4455;\n",
              "      fill: #D2E3FC;\n",
              "    }\n",
              "\n",
              "    [theme=dark] .colab-df-convert:hover {\n",
              "      background-color: #434B5C;\n",
              "      box-shadow: 0px 1px 3px 1px rgba(0, 0, 0, 0.15);\n",
              "      filter: drop-shadow(0px 1px 2px rgba(0, 0, 0, 0.3));\n",
              "      fill: #FFFFFF;\n",
              "    }\n",
              "  </style>\n",
              "\n",
              "      <script>\n",
              "        const buttonEl =\n",
              "          document.querySelector('#df-31e10dcf-265c-45eb-8a71-c90d6d2569f9 button.colab-df-convert');\n",
              "        buttonEl.style.display =\n",
              "          google.colab.kernel.accessAllowed ? 'block' : 'none';\n",
              "\n",
              "        async function convertToInteractive(key) {\n",
              "          const element = document.querySelector('#df-31e10dcf-265c-45eb-8a71-c90d6d2569f9');\n",
              "          const dataTable =\n",
              "            await google.colab.kernel.invokeFunction('convertToInteractive',\n",
              "                                                     [key], {});\n",
              "          if (!dataTable) return;\n",
              "\n",
              "          const docLinkHtml = 'Like what you see? Visit the ' +\n",
              "            '<a target=\"_blank\" href=https://colab.research.google.com/notebooks/data_table.ipynb>data table notebook</a>'\n",
              "            + ' to learn more about interactive tables.';\n",
              "          element.innerHTML = '';\n",
              "          dataTable['output_type'] = 'display_data';\n",
              "          await google.colab.output.renderOutput(dataTable, element);\n",
              "          const docLink = document.createElement('div');\n",
              "          docLink.innerHTML = docLinkHtml;\n",
              "          element.appendChild(docLink);\n",
              "        }\n",
              "      </script>\n",
              "    </div>\n",
              "  </div>\n",
              "  "
            ]
          },
          "metadata": {},
          "execution_count": 187
        }
      ]
    },
    {
      "cell_type": "code",
      "source": [
        "train.shape"
      ],
      "metadata": {
        "colab": {
          "base_uri": "https://localhost:8080/"
        },
        "id": "bft_Cgozln0g",
        "outputId": "aba0c012-25b7-4316-ae0a-f48852784546"
      },
      "execution_count": null,
      "outputs": [
        {
          "output_type": "execute_result",
          "data": {
            "text/plain": [
              "(10886, 19)"
            ]
          },
          "metadata": {},
          "execution_count": 188
        }
      ]
    },
    {
      "cell_type": "code",
      "source": [
        "#(3) year, month, day, hour, minute, second 데이터 개수 시각화하기 \n",
        "# sns.countplot 활용해서 시각화하기 subplot을 활용해서 한 번에 6개의 그래프 함께 시각화하기\n",
        "\n",
        "import seaborn as sns\n",
        "import matplotlib as mpl\n",
        "import matplotlib.pyplot as plt\n",
        "%matplotlib inline\n",
        "mpl.rc('font', size=15)      # 폰트 크기를 15로 설정 \n",
        "\n",
        "sns.displot(train['count']); # 분포도 출력"
      ],
      "metadata": {
        "colab": {
          "base_uri": "https://localhost:8080/",
          "height": 358
        },
        "id": "tIMDP1OzlsAB",
        "outputId": "ff3f5347-f14d-4767-827f-21808c78a948"
      },
      "execution_count": null,
      "outputs": [
        {
          "output_type": "display_data",
          "data": {
            "text/plain": [
              "<Figure size 360x360 with 1 Axes>"
            ],
            "image/png": "[encoded data removed]"
          },
          "metadata": {
            "needs_background": "light"
          }
        }
      ]
    },
    {
      "cell_type": "code",
      "source": [
        "sns.displot(np.log(train['count']));"
      ],
      "metadata": {
        "colab": {
          "base_uri": "https://localhost:8080/",
          "height": 358
        },
        "id": "yrUOfho43cMv",
        "outputId": "579d37b7-b3d7-4b99-8a03-c3bd8b65d3f7"
      },
      "execution_count": null,
      "outputs": [
        {
          "output_type": "display_data",
          "data": {
            "text/plain": [
              "<Figure size 360x360 with 1 Axes>"
            ],
            "image/png": "[encoded data removed]"
          },
          "metadata": {
            "needs_background": "light"
          }
        }
      ]
    },
    {
      "cell_type": "code",
      "source": [
        "# 스텝 1 : m행 n열 Figure 준비\n",
        "mpl.rc('font', size=14)       # 폰트 크기 설정\n",
        "mpl.rc('axes', titlesize=15)  # 각 축의 제목 크기 설정\n",
        "figure, axes = plt.subplots(nrows=3, ncols=2) # 3행 2열 Figure 생성 \n",
        "plt.tight_layout()            # 그래프 사이에 여백 확보 \n",
        "figure.set_size_inches(10, 9) # 전체 Figure 크기를 10x9인치로 설정 \n",
        "\n",
        "# 스텝 2 : 각 축에 서브플롯 할당\n",
        "# 각 축에 연도, 월, 일, 시간, 분, 초별 평균 대여 수량 막대 그래프 할당\n",
        "sns.barplot(x='year', y='count', data=train, ax=axes[0, 0])\n",
        "sns.barplot(x='month', y='count', data=train, ax=axes[0, 1])\n",
        "sns.barplot(x='day', y='count', data=train, ax=axes[1, 0])\n",
        "sns.barplot(x='hour', y='count', data=train, ax=axes[1, 1])\n",
        "sns.barplot(x='minute', y='count', data=train, ax=axes[2, 0])\n",
        "sns.barplot(x='second', y='count', data=train, ax=axes[2, 1])\n",
        "\n",
        "# 스텝 3 : 세부 설정\n",
        "# 3-1 : 서브플롯에 제목 달기\n",
        "axes[0, 0].set(title='Rental amounts by year')\n",
        "axes[0, 1].set(title='Rental amounts by month')\n",
        "axes[1, 0].set(title='Rental amounts by day')\n",
        "axes[1, 1].set(title='Rental amounts by hour')\n",
        "axes[2, 0].set(title='Rental amounts by minute')\n",
        "#axes[2, 1].set(title='Rental amounts by second')\n",
        "\n",
        "# 3-2 : 1행에 위치한 서브플롯들의 x축 라벨 90도 회전\n",
        "axes[1, 0].tick_params(axis='x', labelrotation=90)\n",
        "axes[1, 1].tick_params(axis='x', labelrotation=90)"
      ],
      "metadata": {
        "colab": {
          "base_uri": "https://localhost:8080/",
          "height": 608
        },
        "id": "wsPIV4PL3o3y",
        "outputId": "55756a88-e8dd-4427-ed53-a792b417fedb"
      },
      "execution_count": null,
      "outputs": [
        {
          "output_type": "display_data",
          "data": {
            "text/plain": [
              "<Figure size 720x648 with 6 Axes>"
            ],
            "image/png": "[encoded data removed]"
          },
          "metadata": {
            "needs_background": "light"
          }
        }
      ]
    },
    {
      "cell_type": "code",
      "source": [
        "train.head"
      ],
      "metadata": {
        "colab": {
          "base_uri": "https://localhost:8080/"
        },
        "id": "aZ78tK_7B8r6",
        "outputId": "8e38f273-d71d-4ddd-9157-18587baf8f5b"
      },
      "execution_count": null,
      "outputs": [
        {
          "output_type": "execute_result",
          "data": {
            "text/plain": [
              "<bound method NDFrame.head of                   datetime  season  holiday  workingday  weather   temp  \\\n",
              "0      2011-01-01 00:00:00       1        0           0        1   9.84   \n",
              "1      2011-01-01 01:00:00       1        0           0        1   9.02   \n",
              "2      2011-01-01 02:00:00       1        0           0        1   9.02   \n",
              "3      2011-01-01 03:00:00       1        0           0        1   9.84   \n",
              "4      2011-01-01 04:00:00       1        0           0        1   9.84   \n",
              "...                    ...     ...      ...         ...      ...    ...   \n",
              "10881  2012-12-19 19:00:00       4        0           1        1  15.58   \n",
              "10882  2012-12-19 20:00:00       4        0           1        1  14.76   \n",
              "10883  2012-12-19 21:00:00       4        0           1        1  13.94   \n",
              "10884  2012-12-19 22:00:00       4        0           1        1  13.94   \n",
              "10885  2012-12-19 23:00:00       4        0           1        1  13.12   \n",
              "\n",
              "        atemp  humidity  windspeed  casual  registered  count        date  \\\n",
              "0      14.395        81     0.0000       3          13     16  2011-01-01   \n",
              "1      13.635        80     0.0000       8          32     40  2011-01-01   \n",
              "2      13.635        80     0.0000       5          27     32  2011-01-01   \n",
              "3      14.395        75     0.0000       3          10     13  2011-01-01   \n",
              "4      14.395        75     0.0000       0           1      1  2011-01-01   \n",
              "...       ...       ...        ...     ...         ...    ...         ...   \n",
              "10881  19.695        50    26.0027       7         329    336  2012-12-19   \n",
              "10882  17.425        57    15.0013      10         231    241  2012-12-19   \n",
              "10883  15.910        61    15.0013       4         164    168  2012-12-19   \n",
              "10884  17.425        61     6.0032      12         117    129  2012-12-19   \n",
              "10885  16.665        66     8.9981       4          84     88  2012-12-19   \n",
              "\n",
              "       year month day hour minute second  \n",
              "0      2011    01  01   00     00     00  \n",
              "1      2011    01  01   01     00     00  \n",
              "2      2011    01  01   02     00     00  \n",
              "3      2011    01  01   03     00     00  \n",
              "4      2011    01  01   04     00     00  \n",
              "...     ...   ...  ..  ...    ...    ...  \n",
              "10881  2012    12  19   19     00     00  \n",
              "10882  2012    12  19   20     00     00  \n",
              "10883  2012    12  19   21     00     00  \n",
              "10884  2012    12  19   22     00     00  \n",
              "10885  2012    12  19   23     00     00  \n",
              "\n",
              "[10886 rows x 19 columns]>"
            ]
          },
          "metadata": {},
          "execution_count": 192
        }
      ]
    },
    {
      "cell_type": "code",
      "source": [
        "y = train['count']\n"
      ],
      "metadata": {
        "id": "e1Ploi6nDdrp"
      },
      "execution_count": null,
      "outputs": []
    },
    {
      "cell_type": "code",
      "source": [
        "train.head"
      ],
      "metadata": {
        "colab": {
          "base_uri": "https://localhost:8080/"
        },
        "id": "pjZdTn0XDkN8",
        "outputId": "28562456-31fc-4972-b038-7f678be11ac9"
      },
      "execution_count": null,
      "outputs": [
        {
          "output_type": "execute_result",
          "data": {
            "text/plain": [
              "<bound method NDFrame.head of                   datetime  season  holiday  workingday  weather   temp  \\\n",
              "0      2011-01-01 00:00:00       1        0           0        1   9.84   \n",
              "1      2011-01-01 01:00:00       1        0           0        1   9.02   \n",
              "2      2011-01-01 02:00:00       1        0           0        1   9.02   \n",
              "3      2011-01-01 03:00:00       1        0           0        1   9.84   \n",
              "4      2011-01-01 04:00:00       1        0           0        1   9.84   \n",
              "...                    ...     ...      ...         ...      ...    ...   \n",
              "10881  2012-12-19 19:00:00       4        0           1        1  15.58   \n",
              "10882  2012-12-19 20:00:00       4        0           1        1  14.76   \n",
              "10883  2012-12-19 21:00:00       4        0           1        1  13.94   \n",
              "10884  2012-12-19 22:00:00       4        0           1        1  13.94   \n",
              "10885  2012-12-19 23:00:00       4        0           1        1  13.12   \n",
              "\n",
              "        atemp  humidity  windspeed  casual  registered  count        date  \\\n",
              "0      14.395        81     0.0000       3          13     16  2011-01-01   \n",
              "1      13.635        80     0.0000       8          32     40  2011-01-01   \n",
              "2      13.635        80     0.0000       5          27     32  2011-01-01   \n",
              "3      14.395        75     0.0000       3          10     13  2011-01-01   \n",
              "4      14.395        75     0.0000       0           1      1  2011-01-01   \n",
              "...       ...       ...        ...     ...         ...    ...         ...   \n",
              "10881  19.695        50    26.0027       7         329    336  2012-12-19   \n",
              "10882  17.425        57    15.0013      10         231    241  2012-12-19   \n",
              "10883  15.910        61    15.0013       4         164    168  2012-12-19   \n",
              "10884  17.425        61     6.0032      12         117    129  2012-12-19   \n",
              "10885  16.665        66     8.9981       4          84     88  2012-12-19   \n",
              "\n",
              "       year month day hour minute second  \n",
              "0      2011    01  01   00     00     00  \n",
              "1      2011    01  01   01     00     00  \n",
              "2      2011    01  01   02     00     00  \n",
              "3      2011    01  01   03     00     00  \n",
              "4      2011    01  01   04     00     00  \n",
              "...     ...   ...  ..  ...    ...    ...  \n",
              "10881  2012    12  19   19     00     00  \n",
              "10882  2012    12  19   20     00     00  \n",
              "10883  2012    12  19   21     00     00  \n",
              "10884  2012    12  19   22     00     00  \n",
              "10885  2012    12  19   23     00     00  \n",
              "\n",
              "[10886 rows x 19 columns]>"
            ]
          },
          "metadata": {},
          "execution_count": 194
        }
      ]
    },
    {
      "cell_type": "code",
      "source": [
        "# (4) X, y 컬럼 선택 및 train/test 데이터 분리 X(feature) 에는 어떤 데이터 컬럼을 넣어야 될지 고민해 봅시다 \n",
        "# 데이터 컬럼을 추가하거나 빼면서 잘 조합하여 데이터를 넣기 바랍니다. 만일 모든 데이터 컬럼(특징)을 넣는다면 \n",
        "# 오차 값이 말도 안 되게 적게 나올 수도 있습니다. \n",
        "# ex) count를 예측하는데 casual,registered 컬럼이 필요할까요?\n",
        "\n",
        "drop_features = ['casual','count', 'registered', 'datetime', 'date', 'minute', 'second']\n",
        "\n",
        "train = train.drop(drop_features, axis=1)"
      ],
      "metadata": {
        "id": "B4VscMaY4gbF"
      },
      "execution_count": null,
      "outputs": []
    },
    {
      "cell_type": "code",
      "source": [
        "train.head"
      ],
      "metadata": {
        "colab": {
          "base_uri": "https://localhost:8080/"
        },
        "id": "fhTBGulYE7u1",
        "outputId": "a0beadf2-9383-4dbe-b427-bb730a7f17ae"
      },
      "execution_count": null,
      "outputs": [
        {
          "output_type": "execute_result",
          "data": {
            "text/plain": [
              "<bound method NDFrame.head of        season  holiday  workingday  weather   temp   atemp  humidity  \\\n",
              "0           1        0           0        1   9.84  14.395        81   \n",
              "1           1        0           0        1   9.02  13.635        80   \n",
              "2           1        0           0        1   9.02  13.635        80   \n",
              "3           1        0           0        1   9.84  14.395        75   \n",
              "4           1        0           0        1   9.84  14.395        75   \n",
              "...       ...      ...         ...      ...    ...     ...       ...   \n",
              "10881       4        0           1        1  15.58  19.695        50   \n",
              "10882       4        0           1        1  14.76  17.425        57   \n",
              "10883       4        0           1        1  13.94  15.910        61   \n",
              "10884       4        0           1        1  13.94  17.425        61   \n",
              "10885       4        0           1        1  13.12  16.665        66   \n",
              "\n",
              "       windspeed  year month day hour  \n",
              "0         0.0000  2011    01  01   00  \n",
              "1         0.0000  2011    01  01   01  \n",
              "2         0.0000  2011    01  01   02  \n",
              "3         0.0000  2011    01  01   03  \n",
              "4         0.0000  2011    01  01   04  \n",
              "...          ...   ...   ...  ..  ...  \n",
              "10881    26.0027  2012    12  19   19  \n",
              "10882    15.0013  2012    12  19   20  \n",
              "10883    15.0013  2012    12  19   21  \n",
              "10884     6.0032  2012    12  19   22  \n",
              "10885     8.9981  2012    12  19   23  \n",
              "\n",
              "[10886 rows x 12 columns]>"
            ]
          },
          "metadata": {},
          "execution_count": 196
        }
      ]
    },
    {
      "cell_type": "code",
      "source": [
        "# 훈련 데이터와 테스트 데이터 나누기\n",
        "from sklearn.model_selection import train_test_split\n",
        "X_train, X_test, y_train, y_test = train_test_split(X, y, test_size=0.2, random_state=42)"
      ],
      "metadata": {
        "id": "6_AV2nAXE4S8"
      },
      "execution_count": null,
      "outputs": []
    },
    {
      "cell_type": "code",
      "source": [
        "# (5) LinearRegression 모델 학습 \n",
        "# sklearn의 LinearRegression 모델 불러오기 및 학습하기 '\n",
        "from sklearn.linear_model import LinearRegression\n",
        "\n",
        "linear_reg_model = LinearRegression()\n",
        "linear_reg_model.fit(X_train, y_train)\n"
      ],
      "metadata": {
        "colab": {
          "base_uri": "https://localhost:8080/"
        },
        "id": "J5kblX2669bG",
        "outputId": "1d327dea-c8c5-4a8d-ca9c-1bd73c53325b"
      },
      "execution_count": null,
      "outputs": [
        {
          "output_type": "execute_result",
          "data": {
            "text/plain": [
              "LinearRegression()"
            ]
          },
          "metadata": {},
          "execution_count": 198
        }
      ]
    },
    {
      "cell_type": "code",
      "source": [
        "#(6) 학습된 모델로 X_test에 대한 예측값 출력 및 손실함수값 계산 학습된 모델에 \n",
        "# X_test를 입력해서 예측값 출력하기 모델이 예측한 값과 정답 target 간의 손실함수 값 계산하기 \n",
        "# mse 값과 함께 rmse 값도 계산하기\n",
        "\n",
        "from sklearn.metrics import mean_squared_error\n",
        "from math import sqrt\n",
        "\n",
        "y_pred = linear_reg_model.predict(X_test)\n",
        "mse = mean_squared_error(y_test, y_pred)\n",
        "rmse = sqrt(mse)\n",
        "print (\"mse : \", mse)\n",
        "print (\"rmse: \", rmse)\n"
      ],
      "metadata": {
        "colab": {
          "base_uri": "https://localhost:8080/"
        },
        "id": "7kwhI4E88iDm",
        "outputId": "a3fd9d21-6ac0-4b52-829c-38fb00c71030"
      },
      "execution_count": null,
      "outputs": [
        {
          "output_type": "stream",
          "name": "stdout",
          "text": [
            "mse :  19945.370053754028\n",
            "rmse:  141.22807813517122\n"
          ]
        }
      ]
    },
    {
      "cell_type": "code",
      "source": [
        "#(7) x축은 temp 또는 humidity로, y축은 count로 예측 결과 시각화하기 \n",
        "#x축에 X 데이터 중 temp 데이터를, y축에는 count 데이터를 넣어서 시각화하기 \n",
        "#x축에 X 데이터 중 humidity 데이터를, \n",
        "#y축에는 count 데이터를 넣어서 시각화하기\n",
        "\n",
        "import seaborn as sns\n",
        "import matplotlib.pyplot as plt\n",
        "\n",
        "X_test['temp'] = X_test['temp'].astype(int) \n",
        "X_test['count'] =  y_pred\n",
        "X_test"
      ],
      "metadata": {
        "colab": {
          "base_uri": "https://localhost:8080/",
          "height": 424
        },
        "id": "rSF9snBx9Erx",
        "outputId": "1b8672e2-5a92-47b1-9f62-8be02bbc194f"
      },
      "execution_count": null,
      "outputs": [
        {
          "output_type": "execute_result",
          "data": {
            "text/plain": [
              "       season  holiday  workingday  weather  temp   atemp  humidity  \\\n",
              "3133        3        0           1        1    33  40.150        59   \n",
              "5786        1        1           0        1     4   6.820        54   \n",
              "5224        4        0           0        1     9  11.365        48   \n",
              "8953        3        0           1        2    29  34.090        62   \n",
              "8054        2        0           1        1    25  31.060        53   \n",
              "...       ...      ...         ...      ...   ...     ...       ...   \n",
              "1963        2        0           0        3    23  27.275        49   \n",
              "5807        1        0           1        3    13  15.150        66   \n",
              "10061       4        0           0        1    16  20.455        40   \n",
              "5427        1        0           0        1    11  14.395        81   \n",
              "7588        2        0           1        3    26  30.305        73   \n",
              "\n",
              "       windspeed  year month day hour       count  \n",
              "3133      0.0000  2011    07  19   11  248.106270  \n",
              "5786      6.0032  2012    01  16   06   48.797655  \n",
              "5224     12.9980  2011    12  11   18  200.906767  \n",
              "8953     12.9980  2012    08  15   10  292.785832  \n",
              "8054     16.9979  2012    06  15   23  388.486548  \n",
              "...          ...   ...   ...  ..  ...         ...  \n",
              "1963     19.0012  2011    05  08   17  224.130198  \n",
              "5807     22.0028  2012    01  17   04   68.593142  \n",
              "10061    12.9980  2012    11  04   14  309.752802  \n",
              "5427      7.0015  2012    01  01   05   38.170302  \n",
              "7588     12.9980  2012    05  15   13  243.626974  \n",
              "\n",
              "[2178 rows x 13 columns]"
            ],
            "text/html": [
              "\n",
              "  <div id=\"df-39fe5f43-4875-4401-a0ec-9ec15ec7239c\">\n",
              "    <div class=\"colab-df-container\">\n",
              "      <div>\n",
              "<style scoped>\n",
              "    .dataframe tbody tr th:only-of-type {\n",
              "        vertical-align: middle;\n",
              "    }\n",
              "\n",
              "    .dataframe tbody tr th {\n",
              "        vertical-align: top;\n",
              "    }\n",
              "\n",
              "    .dataframe thead th {\n",
              "        text-align: right;\n",
              "    }\n",
              "</style>\n",
              "<table border=\"1\" class=\"dataframe\">\n",
              "  <thead>\n",
              "    <tr style=\"text-align: right;\">\n",
              "      <th></th>\n",
              "      <th>season</th>\n",
              "      <th>holiday</th>\n",
              "      <th>workingday</th>\n",
              "      <th>weather</th>\n",
              "      <th>temp</th>\n",
              "      <th>atemp</th>\n",
              "      <th>humidity</th>\n",
              "      <th>windspeed</th>\n",
              "      <th>year</th>\n",
              "      <th>month</th>\n",
              "      <th>day</th>\n",
              "      <th>hour</th>\n",
              "      <th>count</th>\n",
              "    </tr>\n",
              "  </thead>\n",
              "  <tbody>\n",
              "    <tr>\n",
              "      <th>3133</th>\n",
              "      <td>3</td>\n",
              "      <td>0</td>\n",
              "      <td>1</td>\n",
              "      <td>1</td>\n",
              "      <td>33</td>\n",
              "      <td>40.150</td>\n",
              "      <td>59</td>\n",
              "      <td>0.0000</td>\n",
              "      <td>2011</td>\n",
              "      <td>07</td>\n",
              "      <td>19</td>\n",
              "      <td>11</td>\n",
              "      <td>248.106270</td>\n",
              "    </tr>\n",
              "    <tr>\n",
              "      <th>5786</th>\n",
              "      <td>1</td>\n",
              "      <td>1</td>\n",
              "      <td>0</td>\n",
              "      <td>1</td>\n",
              "      <td>4</td>\n",
              "      <td>6.820</td>\n",
              "      <td>54</td>\n",
              "      <td>6.0032</td>\n",
              "      <td>2012</td>\n",
              "      <td>01</td>\n",
              "      <td>16</td>\n",
              "      <td>06</td>\n",
              "      <td>48.797655</td>\n",
              "    </tr>\n",
              "    <tr>\n",
              "      <th>5224</th>\n",
              "      <td>4</td>\n",
              "      <td>0</td>\n",
              "      <td>0</td>\n",
              "      <td>1</td>\n",
              "      <td>9</td>\n",
              "      <td>11.365</td>\n",
              "      <td>48</td>\n",
              "      <td>12.9980</td>\n",
              "      <td>2011</td>\n",
              "      <td>12</td>\n",
              "      <td>11</td>\n",
              "      <td>18</td>\n",
              "      <td>200.906767</td>\n",
              "    </tr>\n",
              "    <tr>\n",
              "      <th>8953</th>\n",
              "      <td>3</td>\n",
              "      <td>0</td>\n",
              "      <td>1</td>\n",
              "      <td>2</td>\n",
              "      <td>29</td>\n",
              "      <td>34.090</td>\n",
              "      <td>62</td>\n",
              "      <td>12.9980</td>\n",
              "      <td>2012</td>\n",
              "      <td>08</td>\n",
              "      <td>15</td>\n",
              "      <td>10</td>\n",
              "      <td>292.785832</td>\n",
              "    </tr>\n",
              "    <tr>\n",
              "      <th>8054</th>\n",
              "      <td>2</td>\n",
              "      <td>0</td>\n",
              "      <td>1</td>\n",
              "      <td>1</td>\n",
              "      <td>25</td>\n",
              "      <td>31.060</td>\n",
              "      <td>53</td>\n",
              "      <td>16.9979</td>\n",
              "      <td>2012</td>\n",
              "      <td>06</td>\n",
              "      <td>15</td>\n",
              "      <td>23</td>\n",
              "      <td>388.486548</td>\n",
              "    </tr>\n",
              "    <tr>\n",
              "      <th>...</th>\n",
              "      <td>...</td>\n",
              "      <td>...</td>\n",
              "      <td>...</td>\n",
              "      <td>...</td>\n",
              "      <td>...</td>\n",
              "      <td>...</td>\n",
              "      <td>...</td>\n",
              "      <td>...</td>\n",
              "      <td>...</td>\n",
              "      <td>...</td>\n",
              "      <td>...</td>\n",
              "      <td>...</td>\n",
              "      <td>...</td>\n",
              "    </tr>\n",
              "    <tr>\n",
              "      <th>1963</th>\n",
              "      <td>2</td>\n",
              "      <td>0</td>\n",
              "      <td>0</td>\n",
              "      <td>3</td>\n",
              "      <td>23</td>\n",
              "      <td>27.275</td>\n",
              "      <td>49</td>\n",
              "      <td>19.0012</td>\n",
              "      <td>2011</td>\n",
              "      <td>05</td>\n",
              "      <td>08</td>\n",
              "      <td>17</td>\n",
              "      <td>224.130198</td>\n",
              "    </tr>\n",
              "    <tr>\n",
              "      <th>5807</th>\n",
              "      <td>1</td>\n",
              "      <td>0</td>\n",
              "      <td>1</td>\n",
              "      <td>3</td>\n",
              "      <td>13</td>\n",
              "      <td>15.150</td>\n",
              "      <td>66</td>\n",
              "      <td>22.0028</td>\n",
              "      <td>2012</td>\n",
              "      <td>01</td>\n",
              "      <td>17</td>\n",
              "      <td>04</td>\n",
              "      <td>68.593142</td>\n",
              "    </tr>\n",
              "    <tr>\n",
              "      <th>10061</th>\n",
              "      <td>4</td>\n",
              "      <td>0</td>\n",
              "      <td>0</td>\n",
              "      <td>1</td>\n",
              "      <td>16</td>\n",
              "      <td>20.455</td>\n",
              "      <td>40</td>\n",
              "      <td>12.9980</td>\n",
              "      <td>2012</td>\n",
              "      <td>11</td>\n",
              "      <td>04</td>\n",
              "      <td>14</td>\n",
              "      <td>309.752802</td>\n",
              "    </tr>\n",
              "    <tr>\n",
              "      <th>5427</th>\n",
              "      <td>1</td>\n",
              "      <td>0</td>\n",
              "      <td>0</td>\n",
              "      <td>1</td>\n",
              "      <td>11</td>\n",
              "      <td>14.395</td>\n",
              "      <td>81</td>\n",
              "      <td>7.0015</td>\n",
              "      <td>2012</td>\n",
              "      <td>01</td>\n",
              "      <td>01</td>\n",
              "      <td>05</td>\n",
              "      <td>38.170302</td>\n",
              "    </tr>\n",
              "    <tr>\n",
              "      <th>7588</th>\n",
              "      <td>2</td>\n",
              "      <td>0</td>\n",
              "      <td>1</td>\n",
              "      <td>3</td>\n",
              "      <td>26</td>\n",
              "      <td>30.305</td>\n",
              "      <td>73</td>\n",
              "      <td>12.9980</td>\n",
              "      <td>2012</td>\n",
              "      <td>05</td>\n",
              "      <td>15</td>\n",
              "      <td>13</td>\n",
              "      <td>243.626974</td>\n",
              "    </tr>\n",
              "  </tbody>\n",
              "</table>\n",
              "<p>2178 rows × 13 columns</p>\n",
              "</div>\n",
              "      <button class=\"colab-df-convert\" onclick=\"convertToInteractive('df-39fe5f43-4875-4401-a0ec-9ec15ec7239c')\"\n",
              "              title=\"Convert this dataframe to an interactive table.\"\n",
              "              style=\"display:none;\">\n",
              "        \n",
              "  <svg xmlns=\"http://www.w3.org/2000/svg\" height=\"24px\"viewBox=\"0 0 24 24\"\n",
              "       width=\"24px\">\n",
              "    <path d=\"M0 0h24v24H0V0z\" fill=\"none\"/>\n",
              "    <path d=\"M18.56 5.44l.94 2.06.94-2.06 2.06-.94-2.06-.94-.94-2.06-.94 2.06-2.06.94zm-11 1L8.5 8.5l.94-2.06 2.06-.94-2.06-.94L8.5 2.5l-.94 2.06-2.06.94zm10 10l.94 2.06.94-2.06 2.06-.94-2.06-.94-.94-2.06-.94 2.06-2.06.94z\"/><path d=\"M17.41 7.96l-1.37-1.37c-.4-.4-.92-.59-1.43-.59-.52 0-1.04.2-1.43.59L10.3 9.45l-7.72 7.72c-.78.78-.78 2.05 0 2.83L4 21.41c.39.39.9.59 1.41.59.51 0 1.02-.2 1.41-.59l7.78-7.78 2.81-2.81c.8-.78.8-2.07 0-2.86zM5.41 20L4 18.59l7.72-7.72 1.47 1.35L5.41 20z\"/>\n",
              "  </svg>\n",
              "      </button>\n",
              "      \n",
              "  <style>\n",
              "    .colab-df-container {\n",
              "      display:flex;\n",
              "      flex-wrap:wrap;\n",
              "      gap: 12px;\n",
              "    }\n",
              "\n",
              "    .colab-df-convert {\n",
              "      background-color: #E8F0FE;\n",
              "      border: none;\n",
              "      border-radius: 50%;\n",
              "      cursor: pointer;\n",
              "      display: none;\n",
              "      fill: #1967D2;\n",
              "      height: 32px;\n",
              "      padding: 0 0 0 0;\n",
              "      width: 32px;\n",
              "    }\n",
              "\n",
              "    .colab-df-convert:hover {\n",
              "      background-color: #E2EBFA;\n",
              "      box-shadow: 0px 1px 2px rgba(60, 64, 67, 0.3), 0px 1px 3px 1px rgba(60, 64, 67, 0.15);\n",
              "      fill: #174EA6;\n",
              "    }\n",
              "\n",
              "    [theme=dark] .colab-df-convert {\n",
              "      background-color: #3B4455;\n",
              "      fill: #D2E3FC;\n",
              "    }\n",
              "\n",
              "    [theme=dark] .colab-df-convert:hover {\n",
              "      background-color: #434B5C;\n",
              "      box-shadow: 0px 1px 3px 1px rgba(0, 0, 0, 0.15);\n",
              "      filter: drop-shadow(0px 1px 2px rgba(0, 0, 0, 0.3));\n",
              "      fill: #FFFFFF;\n",
              "    }\n",
              "  </style>\n",
              "\n",
              "      <script>\n",
              "        const buttonEl =\n",
              "          document.querySelector('#df-39fe5f43-4875-4401-a0ec-9ec15ec7239c button.colab-df-convert');\n",
              "        buttonEl.style.display =\n",
              "          google.colab.kernel.accessAllowed ? 'block' : 'none';\n",
              "\n",
              "        async function convertToInteractive(key) {\n",
              "          const element = document.querySelector('#df-39fe5f43-4875-4401-a0ec-9ec15ec7239c');\n",
              "          const dataTable =\n",
              "            await google.colab.kernel.invokeFunction('convertToInteractive',\n",
              "                                                     [key], {});\n",
              "          if (!dataTable) return;\n",
              "\n",
              "          const docLinkHtml = 'Like what you see? Visit the ' +\n",
              "            '<a target=\"_blank\" href=https://colab.research.google.com/notebooks/data_table.ipynb>data table notebook</a>'\n",
              "            + ' to learn more about interactive tables.';\n",
              "          element.innerHTML = '';\n",
              "          dataTable['output_type'] = 'display_data';\n",
              "          await google.colab.output.renderOutput(dataTable, element);\n",
              "          const docLink = document.createElement('div');\n",
              "          docLink.innerHTML = docLinkHtml;\n",
              "          element.appendChild(docLink);\n",
              "        }\n",
              "      </script>\n",
              "    </div>\n",
              "  </div>\n",
              "  "
            ]
          },
          "metadata": {},
          "execution_count": 200
        }
      ]
    },
    {
      "cell_type": "code",
      "source": [
        "import matplotlib.pyplot as plt\n",
        "import numpy as np\n",
        "sns.barplot(x='temp', y='count', data=X_test)"
      ],
      "metadata": {
        "colab": {
          "base_uri": "https://localhost:8080/",
          "height": 306
        },
        "id": "n6iJ9NQ-G98Y",
        "outputId": "4e2c30ba-a47f-4951-fa9d-5171548a3fce"
      },
      "execution_count": null,
      "outputs": [
        {
          "output_type": "execute_result",
          "data": {
            "text/plain": [
              "<matplotlib.axes._subplots.AxesSubplot at 0x7f52f1e0a6d0>"
            ]
          },
          "metadata": {},
          "execution_count": 206
        },
        {
          "output_type": "display_data",
          "data": {
            "text/plain": [
              "<Figure size 432x288 with 1 Axes>"
            ],
            "image/png": "[encoded data removed]"
          },
          "metadata": {
            "needs_background": "light"
          }
        }
      ]
    },
    {
      "cell_type": "markdown",
      "source": [
        "루브릭\n",
        "\n",
        "2. 프로젝트 2의 회귀모델 예측정확도가 기준 이상 높게 나왔는가?\n",
        "기준: RMSE 값 150 이하를 달성\n",
        "  - RMSE 값은 141.22로 150 이하를 달성했습니다."
      ],
      "metadata": {
        "id": "THj7SqWBJiBs"
      }
    }
  ]
}